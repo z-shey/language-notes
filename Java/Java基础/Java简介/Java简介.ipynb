{
 "cells": [
  {
   "cell_type": "markdown",
   "metadata": {},
   "source": [
    "## Java概述\n",
    "\n",
    "+ SUN(Stanford University Network，斯坦福大学网络公司 ) 1995年推出的一门高级编程语言\n",
    "+ 面向Internet的编程语言，Web技术不断发展，Java语言成为Web开发的首选语言"
   ]
  },
  {
   "cell_type": "markdown",
   "metadata": {},
   "source": [
    "## Java技术体系平台\n",
    "\n",
    "+ **Java SE(Java Standard Edition)标准版** \n",
    "    支持面向`桌面级应用`（如Windows下的应用程序）的Java平台，即定位个人计算机的应用开发。以前称为J2SE\n",
    "+ **Java EE(Java Enterprise Edition)企业版** \n",
    "    为开发企业环境下的应用程序提供的一套解决方案，定位`在服务器端的Web应用开发`。是JavaSE的扩展，增加了用于服务器开发的类库。以前称为J2EE\n",
    "+ **Java ME(Java Micro Edition)小型版** \n",
    "    支持Java程序运行在`移动终端（手机、机顶盒）上的平台`，即定位在消费性电子产品的应用开发。是JavaSE的内伸，精简了JavaSE 的核心类库，同时也提供自己的扩展类。增加了适合微小装置的类库：javax.microedition.io.*等。以前称为J2ME\n",
    "\n",
    "### JDK 与 JRE\n",
    "\n",
    "+ **JDK**  (`J`ava `D`evelopment `K`it)：Java程序开发工具包，包含`JRE` 和开发人员使用的工具。\n",
    "+ **JRE** (`J`ava `R`untime `E`nvironment) ：Java程序的运行时环境，包含`JVM` 和运行时所需要的`核心类库`。\n",
    "\n",
    "> JDK = JRE + 开发工具集（例如Javac编译工具等）\n",
    ">\n",
    "> JRE = JVM + Java SE标准类库"
   ]
  },
  {
   "cell_type": "markdown",
   "metadata": {},
   "source": [
    "## Java核心机制：JVM\n",
    "\n",
    "+ **JVM**（Java Virtual Machine，Java虚拟机）：是Java语言的核心，是Java语言能够跨平台的关键。JVM是Java虚拟机，是运行Java字节码的虚拟计算机。JVM具有指令集并使用不同的存储区域，负责执行指令，管理数据、内存、寄存器"
   ]
  },
  {
   "cell_type": "markdown",
   "metadata": {},
   "source": [
    "## Java是一种静态、强类型、编译型、面向对象的高级语言\n",
    "\n",
    "+ **静态**：在编译时确定类型\n",
    "+ **强类型**：不允许隐式类型转换\n",
    "+ **编译型**：代码在执行前全部被编译为字节码\n",
    "+ **面向对象**：类、对象、继承、封装、多态"
   ]
  },
  {
   "cell_type": "markdown",
   "metadata": {},
   "source": [
    "## 基础语法"
   ]
  },
  {
   "cell_type": "markdown",
   "metadata": {},
   "source": [
    "Java 程序可以认为是一系列对象的集合，而这些对象通过调用彼此的方法来协同工作。\n",
    "\n",
    "+ **对象**：对象是类的一个实例，有状态和行为。\n",
    "+ **类**：类是一个模板，描述一类对象的行为和状态。\n",
    "+ **方法**：方法（行为），一个类可以有很多方法。逻辑运算、数据修改以及所有动作都是在方法中完成的。\n",
    "+ **实例变量**：每个对象都有独特的实例变量，对象的状态由这些实例变量的值决定。"
   ]
  },
  {
   "cell_type": "markdown",
   "metadata": {},
   "source": [
    "### Java 程序的结构与格式\n",
    "\n",
    "```java\n",
    "类{\n",
    "    方法{\n",
    "        语句;\n",
    "    }\n",
    "}\n",
    "```\n",
    "\n",
    "> 源文件名与类名一般保持一致（类不是public，源文件名可以和类名不一致，是则必须保持一致），并且一个源文件中只能有一个public类，但可以有多个非public类，一个源文件尽量只写一个类。源文件扩展名为`.java`，编译后生成`.class`文件"
   ]
  },
  {
   "cell_type": "markdown",
   "metadata": {},
   "source": [
    "### 第一个Java程序"
   ]
  },
  {
   "cell_type": "code",
   "execution_count": 6,
   "metadata": {
    "vscode": {
     "languageId": "java"
    }
   },
   "outputs": [],
   "source": [
    "public class HelloWorld {\n",
    "    /** 第一个Java程序\n",
    "     * 将输出字符串 Hello World\n",
    "     */\n",
    "    public static void main(String[] args) {\n",
    "        System.out.println(\"Hello World\"); // 输出 Hello World\n",
    "    }\n",
    "}"
   ]
  },
  {
   "attachments": {
    "img.jpg": {
     "image/jpeg": "[encoded data removed]"
    }
   },
   "cell_type": "markdown",
   "metadata": {},
   "source": [
    "### Java 程序的入口\n",
    "\n",
    "Java程序的入口是main方法，这与C语言的main函数类似。\n",
    "\n",
    "```java\n",
    "public static void main(String[] args){\n",
    "    \n",
    "}\n",
    "```\n",
    "\n",
    "![img.jpg](attachment:img.jpg)"
   ]
  },
  {
   "cell_type": "markdown",
   "metadata": {},
   "source": [
    "### Java 程序开发步骤\n",
    "\n",
    "Java 程序开发三步骤：**编写**、**编译**、**运行**。\n",
    "\n",
    "+ 将 Java 代码**编写**到扩展名为 `.java` 的源文件中\n",
    "+ 通过 `javac.exe` 命令对该 `.java` 文件进行**编译**，生成一个或多个字节码文件`.class`\n",
    "+ 通过 `java.exe` 命令对生成的 `.class` 文件进行**运行**\n",
    "\n",
    "```bash\n",
    "$ javac HelloWorld.java\n",
    "$ java HelloWorld \n",
    "Hello World\n",
    "```"
   ]
  },
  {
   "cell_type": "markdown",
   "metadata": {},
   "source": [
    "编写的过程中需要注意：\n",
    "\n",
    "+ **大小写敏感**：Java 是大小写敏感的，标识符 `Hello` 与 `hello` 是不同的。\n",
    "+ **类名**：类名的首字母应该大写。如果类名由若干单词组成，那么每个单词的首字母应该大写，例如 `MyJavaClass`。\n",
    "+ **方法名**：所有的方法名都应该以小写字母开头。如果方法名含有若干单词，则后面的每个单词首字母大写。\n",
    "+ **源文件名**：源文件名须和类名相同。当保存文件的时候，使用类名作为文件名保存（如果文件名和类名不相同则会导致编译错误）。\n",
    "+ **主方法入口**：Java 程序由 `public static void main(String[] args)` 方法开始执行。"
   ]
  },
  {
   "cell_type": "markdown",
   "metadata": {},
   "source": [
    "### Java 标识符与修饰符"
   ]
  },
  {
   "cell_type": "markdown",
   "metadata": {},
   "source": [
    "#### Java 标识符\n",
    "\n",
    "类名、变量名以及方法名都被称为标识符。\n",
    "\n",
    "+ 所有的标识符都应该以字母（`A-Z` 或者 `a-z`）,美元符（`$`）、或者下划线（`_`）开始\n",
    "+ 首字符之后可以是字母（`A-Z` 或者 `a-z`）,美元符（`$`）、下划线（`_`）或数字的任何字符组合\n",
    "+ 关键字不能用作标识符\n",
    "+ 标识符是大小写敏感的\n",
    "+ 合法标识符举例：`age`、`$salary`、`_value`、`__1_value`\n",
    "+ 非法标识符举例：`123abc`、`-salary`"
   ]
  },
  {
   "cell_type": "markdown",
   "metadata": {},
   "source": [
    "#### Java 修饰符\n",
    "\n",
    "Java 可以使用修饰符来修饰类中方法和属性。\n",
    "\n",
    "+ 访问控制修饰符 : `default`, `public`, `protected`, `private`\n",
    "+ 非访问控制修饰符 : `final`, `abstract`, `static`, `synchronized`"
   ]
  },
  {
   "cell_type": "markdown",
   "metadata": {},
   "source": [
    "### Java 变量\n",
    "\n",
    "Java 变量的构成包含三个要素：数据类型、变量名、存储的值。\n",
    "\n",
    "Java 中主要有如下几种类型的变量\n",
    "\n",
    "+ 局部变量\n",
    "+ 类变量（静态变量）\n",
    "+ 成员变量（非静态变量）\n",
    "\n",
    "Java 中变量声明的格式：`数据类型 变量名 = 变量值`  \n",
    "\n",
    "**局部变量**只在其声明的代码块内可见，而**成员变量**可在整个类中可见。同一个作用域内，不能定义重名的变量。 "
   ]
  },
  {
   "cell_type": "code",
   "execution_count": 9,
   "metadata": {
    "vscode": {
     "languageId": "java"
    }
   },
   "outputs": [],
   "source": [
    "// 声明变量，变量必须先声明后使用。声明变量包括指定变量的数据类型和名称\n",
    "int age;\n",
    "\n",
    "// 初始化变量，变量可以在声明时或使用前初始化（一般要初始化，某些时刻可能会报错）\n",
    "age = 18; // 或者 int age = 18;\n",
    "\n",
    "// 变量赋值，把 值 存到该变量代表的内存空间中\n",
    "// 给变量赋的值类型必须与变量声明的类型一致或兼容\n",
    "int year;\n",
    "year = 2021; // year = \"2021\"; // 错误，类型不匹配"
   ]
  },
  {
   "cell_type": "markdown",
   "metadata": {},
   "source": [
    "### Java 常量\n",
    "\n",
    "常量是在程序运行过程中其值不会改变的变量。\n",
    "\n",
    "Java中，使用`final`关键字声明常量（常量通常用大写字母表示，以便与变量区分开来）。"
   ]
  },
  {
   "cell_type": "code",
   "execution_count": 10,
   "metadata": {
    "vscode": {
     "languageId": "java"
    }
   },
   "outputs": [],
   "source": [
    "final double PI = 3.1415927;"
   ]
  },
  {
   "cell_type": "markdown",
   "metadata": {},
   "source": [
    "### Java 表达式\n",
    "\n",
    "表达式是由变量、常量、操作符等组成的运算式。\n",
    "\n",
    "Java 中的表达式用于执行各种计算和逻辑操作。表达式的结果可以是值也可以是对象。"
   ]
  },
  {
   "cell_type": "code",
   "execution_count": 12,
   "metadata": {
    "vscode": {
     "languageId": "java"
    }
   },
   "outputs": [],
   "source": [
    "int a = 10;\n",
    "int b = 20;\n",
    "int sum = a + b; // 将a和b相加并将结果赋给sum\n",
    "\n",
    "int age = 18;\n",
    "boolean isAdult = (age >= 18); // 根据年龄判断是否成年"
   ]
  },
  {
   "cell_type": "markdown",
   "metadata": {},
   "source": [
    "### Java 数组\n",
    "\n",
    "数组是储存在堆上的对象，可以保存多个同类型变量。"
   ]
  },
  {
   "cell_type": "markdown",
   "metadata": {},
   "source": [
    "### Java 枚举\n",
    "\n",
    "Java 5.0 引入了枚举\n",
    "\n",
    "枚举限制变量只能是预先设定好的值。枚举可以单独声明或者声明在类里面。方法、变量、构造函数也可以在枚举中定义。"
   ]
  },
  {
   "cell_type": "code",
   "execution_count": 15,
   "metadata": {
    "vscode": {
     "languageId": "java"
    }
   },
   "outputs": [],
   "source": [
    "// 枚举示例\n",
    "// 定义枚举\n",
    "enum Color {\n",
    "    RED, GREEN, BLUE;\n",
    "}\n",
    "\n",
    "// 使用枚举\n",
    "public class Test {\n",
    "    // 打印枚举\n",
    "    public static void printEnum(Color color) {\n",
    "        switch (color) {\n",
    "            case RED:\n",
    "                System.out.println(\"红色\");\n",
    "                break;\n",
    "            case GREEN:\n",
    "                System.out.println(\"绿色\");\n",
    "                break;\n",
    "            case BLUE:\n",
    "                System.out.println(\"蓝色\");\n",
    "                break;\n",
    "        }\n",
    "    }\n",
    "\n",
    "    public static void main(String[] args) {\n",
    "        Color color = Color.RED;\n",
    "        printEnum(color); // 输出：红色\n",
    "    }\n",
    "}"
   ]
  },
  {
   "cell_type": "markdown",
   "metadata": {},
   "source": [
    "### Java 关键字\n",
    "\n",
    "关键字一共50个，其中`const`和`goto`是保留字，`null` 不是关键字，类似于 `true` 和 `false`，是一个字面常量，不允许作为标识符使用。"
   ]
  },
  {
   "cell_type": "markdown",
   "metadata": {},
   "source": [
    "### Java 注释\n",
    "\n",
    "#### 单行注释\n",
    "\n",
    "```java\n",
    "// 这是一个单行注释\n",
    "```\n",
    "\n",
    "#### 多行注释\n",
    "\n",
    "```java\n",
    "/*\n",
    "这是一个多行注释\n",
    "可以跨越多行\n",
    "*/\n",
    "```\n",
    "\n",
    "#### 文档注释 (Java特有) \n",
    "\n",
    "```java\n",
    "/**\n",
    " * 这是一个文档注释\n",
    " * 可以跨越多行\n",
    " */\n",
    "```\n",
    "\n",
    "> 文档注释用于生成Java文档，通常放在类、方法、属性等声明之前，用于描述其功能、参数、返回值等信息。可以被JDK提供的工具 javadoc 所解析，生成一套以网页文件形式体现的该程序的说明文档。 \n",
    "\n",
    "```bash\n",
    "javadoc -d mydoc -author -version HelloWorld.java\n",
    "```"
   ]
  },
  {
   "cell_type": "markdown",
   "metadata": {},
   "source": [
    "### 继承\n",
    "\n",
    "Java 中，一个类可以由其他类派生。利用继承的方法，可以重用已存在类的方法和属性，而不用重写这些代码。被继承的类称为超类（super class），派生类称为子类（sub class）。"
   ]
  },
  {
   "cell_type": "markdown",
   "metadata": {},
   "source": [
    "### 接口\n",
    "\n",
    "在 Java 中，接口可理解为对象间相互通信的协议。接口在继承中扮演着很重要的角色。接口只定义派生要用到的方法，但是方法的具体实现完全取决于派生类。"
   ]
  },
  {
   "cell_type": "markdown",
   "metadata": {},
   "source": [
    "## 如何获取一个随机数\n",
    "\n",
    "`Math`类的`random()`的调用，会返回一个`[0,1)`范围的一个`double`型值\n",
    "\n",
    "```java\n",
    "Math.random() * 100  --->  [0,100)\n",
    "(int)(Math.random() * 100)\t---> [0,99]\n",
    "(int)(Math.random() * 100) + 5  ----> [5,104]\n",
    "```"
   ]
  },
  {
   "cell_type": "code",
   "execution_count": 21,
   "metadata": {
    "vscode": {
     "languageId": "java"
    }
   },
   "outputs": [
    {
     "data": {
      "text/plain": [
       "11"
      ]
     },
     "execution_count": 21,
     "metadata": {},
     "output_type": "execute_result"
    }
   ],
   "source": [
    "// 获取`[a,b]`范围内的随机整数\n",
    "\n",
    "(int)(Math.random() * (b - a + 1)) + a"
   ]
  },
  {
   "cell_type": "markdown",
   "metadata": {},
   "source": [
    "## 两种常见的输出语句\n",
    "\n",
    "+ 换行输出语句：输出内容，完毕后进行换行\n",
    "\n",
    "```java\n",
    "System.out.println(输出内容);\n",
    "```\n",
    "\n",
    "+ 直接输出语句：输出内容，完毕后不做任何处理\n",
    "\n",
    "```java\n",
    "System.out.print(输出内容);\n",
    "```\n",
    "\n",
    "> 注意事项：\n",
    ">\n",
    "> 1. 换行输出语句，括号内可以什么都不写，只做换行处理\n",
    "> 2. 直接输出语句，括号内什么都不写的话，编译报错"
   ]
  }
 ],
 "metadata": {
  "kernelspec": {
   "display_name": "Java",
   "language": "java",
   "name": "java"
  },
  "language_info": {
   "codemirror_mode": "java",
   "file_extension": ".jshell",
   "mimetype": "text/x-java-source",
   "name": "Java",
   "pygments_lexer": "java",
   "version": "21.0.4+8-LTS-274"
  }
 },
 "nbformat": 4,
 "nbformat_minor": 2
}
