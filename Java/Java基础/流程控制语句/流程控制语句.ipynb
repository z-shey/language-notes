{
 "cells": [
  {
   "cell_type": "markdown",
   "metadata": {},
   "source": [
    "流程控制语句是用来控制程序中各语句执行顺序的语句，可以把语句组合成能完成一定功能的小逻辑模块。\n",
    "\n",
    "程序设计中规定的三种流程结构 \n",
    "\n",
    "- **顺序结构** \n",
    "    * 程序从上到下逐行地执行，中间没有任何判断和跳转。\n",
    "- **分支结构** \n",
    "    * 根据条件，选择性地执行某段代码。\n",
    "    * 有`if…else`和`switch-case`两种分支语句。\n",
    "- **循环结构** \n",
    "    * 根据循环条件，重复性的执行某段代码。\n",
    "    * 有`for`、`while`、`do-while`三种循环语句。"
   ]
  },
  {
   "cell_type": "markdown",
   "metadata": {},
   "source": [
    "## 条件控制语句"
   ]
  },
  {
   "cell_type": "markdown",
   "metadata": {},
   "source": [
    "### if 语句 单分支条件判断\n",
    "\n",
    "`if` 语句用于在条件为真时执行代码块。如果条件表达式的结果为真，将执行 `if` 语句块中的代码。如果条件表达式的结果为假，则代码块将被跳过。\n",
    "\n",
    "```java\n",
    "if (condition) {\n",
    "    // 如果条件为真，执行这里的代码\n",
    "}\n",
    "```"
   ]
  },
  {
   "cell_type": "markdown",
   "metadata": {},
   "source": [
    "### if-else 语句 双分支条件判断\n",
    "\n",
    "`if-else` 语句用于在条件为真时执行一个代码块，否则执行另一个代码块。 \n",
    "\n",
    "```java\n",
    "if (condition) {\n",
    "    // 如果条件为真，执行这里的代码\n",
    "} else {\n",
    "    // 如果条件为假，执行这里的代码\n",
    "}\n",
    "```"
   ]
  },
  {
   "cell_type": "markdown",
   "metadata": {},
   "source": [
    "### if-else if-else 语句 多分支条件判断\n",
    "\n",
    "`if-else if-else` 语句用于在多个条件之间进行选择，当一个条件为真时执行相应的代码块，如果没有条件为真，则执行默认代码块。 \n",
    "\n",
    "```java\n",
    "if (condition1) {\n",
    "    // 如果条件1为真，执行这里的代码\n",
    "} else if (condition2) {\n",
    "    // 如果条件2为真，执行这里的代码\n",
    "} else {\n",
    "    // 如果以上条件都不为真，执行这里的代码\n",
    "}"
   ]
  },
  {
   "cell_type": "markdown",
   "metadata": {},
   "source": [
    "+ 语句块只有一条执行语句时，一对`{}`可以省略，但建议保留\n",
    "+ 当`if-else`结构是“多选一”时，最后的`else`是可选的，根据需要可以省略"
   ]
  },
  {
   "cell_type": "markdown",
   "metadata": {},
   "source": [
    "## 循环控制语句"
   ]
  },
  {
   "cell_type": "markdown",
   "metadata": {},
   "source": [
    "### switch 语句\n",
    "\n",
    "`switch` 语句用于根据一个表达式的值选择执行多个代码块中的一个。通常用于多个条件的情况下。 \n",
    "\n",
    "```java\n",
    "switch (expression) {\n",
    "    case value1:\n",
    "        // 当表达式的值等于value1时，执行这里的代码\n",
    "        break;\n",
    "    case value2:\n",
    "        // 当表达式的值等于value2时，执行这里的代码\n",
    "        break;\n",
    "    ...\n",
    "    default:\n",
    "        // 如果表达式的值不匹配任何case，执行这里的代码\n",
    "        break;\n",
    "}\n",
    "```\n",
    "\n",
    "在 Java 多少后引入了一个新的特性，即在 `switch` 语句中可以使用更加灵活的表达式，称为“增强的`switch`语句”。\n",
    "\n",
    "在增强的`switch`语句中，`case` 标签支持使用表达式而不仅仅是常量。这意味着可以在 `case` 标签中使用更灵活的条件，而不仅仅局限于常量值。"
   ]
  },
  {
   "cell_type": "code",
   "execution_count": 1,
   "metadata": {
    "vscode": {
     "languageId": "java"
    }
   },
   "outputs": [
    {
     "name": "stdout",
     "output_type": "stream",
     "text": [
      "星期一\n"
     ]
    }
   ],
   "source": [
    "String day = \"MON\";\n",
    "\n",
    "switch (day) {\n",
    "    case \"MON\" -> System.out.println(\"星期一\");\n",
    "    case \"TUE\" -> System.out.println(\"星期二\");\n",
    "    case \"WED\" -> System.out.println(\"星期三\");\n",
    "    case \"THU\" -> System.out.println(\"星期四\");\n",
    "    case \"FRI\" -> System.out.println(\"星期五\");\n",
    "    default -> System.out.println(\"周末\");\n",
    "}"
   ]
  },
  {
   "cell_type": "markdown",
   "metadata": {},
   "source": [
    "`switch` 语句根据 `day` 的值来输出对应的星期几。在每个 `case` 标签中，都使用了表达式（`->` 运算符），使得代码更加简洁和易读。\n",
    "\n",
    "增强的`switch`语句还支持以下特性：\n",
    "\n",
    "+ 使用 `yield` 关键字来返回值。\n",
    "+ 使用 `yield` 关键字时，可以在一个 `switch` 语句中返回不同类型的值。\n",
    "+ 使用 `yield` 关键字时，不需要显式地使用 `break`。\n",
    "\n",
    "新特性提高了 `switch` 语句的灵活性和可读性，使得编写复杂条件逻辑更加简洁和直观。"
   ]
  },
  {
   "cell_type": "markdown",
   "metadata": {},
   "source": [
    "#### case穿透"
   ]
  },
  {
   "cell_type": "markdown",
   "metadata": {},
   "source": [
    "在switch语句中，如果case的后面不写break，将出现穿透现象，也就是一旦匹配成功，不会在判断下一个case的值，直接向后运行，直到遇到break或者整个switch语句结束，执行终止。"
   ]
  },
  {
   "cell_type": "markdown",
   "metadata": {},
   "source": [
    "#### 使用注意点\n",
    "\n",
    "switch(表达式)中表达式的值必须是下述几种类型之一：byte，short，char，int，枚举 (jdk 5.0)，String (jdk 7.0)； \n",
    "\n",
    "case子句中的值必须是常量，不能是变量名或不确定的表达式值或范围； \n",
    "\n",
    "同一个switch语句，所有case子句中的常量值互不相同； \n",
    "\n",
    "break语句用来在执行完一个case分支后使程序跳出switch语句块；  \n",
    "如果没有break，程序会顺序执行到switch结尾； \n",
    "\n",
    "default子句是可选的。同时，位置也是灵活的。当没有匹配的case时，执行default语句。"
   ]
  },
  {
   "cell_type": "markdown",
   "metadata": {},
   "source": [
    "###  for 循环\n",
    "\n",
    "`for` 循环是一种常用的循环结构，允许指定循环的起始值、结束条件和迭代步长。 \n",
    "\n",
    "```java\n",
    "for (initialization; condition; update) {\n",
    "    // 循环体\n",
    "}\n",
    "```\n",
    "\n",
    "```java\n",
    "for (①初始化部分; ②循环条件部分; ④迭代部分)｛\n",
    "         \t③循环体部分;\n",
    "}\n",
    "// 执行过程 ①-②-③-④-②-③-④-②-③-④-.....-②\n",
    "```\n",
    "\n",
    "+ for(;;)中的两个；不能多也不能少\n",
    "+ ①初始化部分可以声明多个变量，但必须是同一个类型，用逗号分隔\n",
    "+ ②循环条件部分为boolean类型表达式，当值为false时，退出循环\n",
    "+ ④可以有多个变量更新，用逗号分隔"
   ]
  },
  {
   "cell_type": "markdown",
   "metadata": {},
   "source": [
    "### while 循环\n",
    "\n",
    "`while` 循环在循环开始之前检查循环条件，如果条件为 true，则执行循环体，直到条件为 false 才停止循环。 \n",
    "\n",
    "```java\n",
    "while (condition) {\n",
    "    // 循环体\n",
    "}\n",
    "```\n",
    "\n",
    "+ `condition`：循环条件，如果条件为 true，则执行循环体，否则退出循环。\n",
    "\n",
    "```java\n",
    "①初始化部分\n",
    "while(②循环条件部分)｛\n",
    "    ③循环体部分;\n",
    "    ④迭代部分;\n",
    "}\n",
    "// 执行过程：①-②-③-④-②-③-④-②-③-④-...-②\n",
    "```\n",
    "\n",
    "+ while(循环条件)中循环条件必须是boolean类型。\n",
    "+ 注意不要忘记声明④迭代部分。否则，循环将不能结束，变成死循环。\n",
    "+ for循环和while循环可以相互转换。二者没有性能上的差别。实际开发中，根据具体结构的情况，选择哪个格式更合适、美观。\n",
    "+ for循环与while循环的区别：初始化条件部分的作用域不同。"
   ]
  },
  {
   "cell_type": "markdown",
   "metadata": {},
   "source": [
    "### do-while 循环\n",
    "\n",
    "`do-while` 循环与 `while` 循环类似，不同之处在于它先执行循环体，然后检查循环条件。这确保了循环体至少执行一次。 \n",
    "\n",
    "```java\n",
    "do {\n",
    "    // 循环体\n",
    "} while (condition);\n",
    "```\n",
    "\n",
    "+ `condition`：循环条件，如果条件为 true，则继续执行循环体，否则退出循环。\n",
    "\n",
    "```java\n",
    "①初始化部分;\n",
    "do{\n",
    "\t③循环体部分\n",
    "\t④迭代部分\n",
    "}while(②循环条件部分); \n",
    "\n",
    "// 执行过程：①-③-④-②-③-④-②-③-④-...-②\n",
    "```\n",
    "\n",
    "+ 结尾while(循环条件)中循环条件必须是boolean类型\n",
    "+ do{}while();最后有一个分号\n",
    "+ do-while结构的循环体语句是至少会执行一次，这个和for和while是不一样的\n",
    "+ 循环的三个结构for、while、do-while三者是可以相互转换的。\n"
   ]
  },
  {
   "cell_type": "markdown",
   "metadata": {},
   "source": [
    "### 增强型 for-each 循环\n",
    "\n",
    "增强型 for-each 循环用于遍历数组或集合中的元素，它在不需要索引的情况下简化了遍历过程。 \n",
    "\n",
    "```java\n",
    "for (element : array) {\n",
    "    // 处理每个元素\n",
    "}\n",
    "```\n",
    "\n",
    "+ `element`：迭代变量，用于存储数组或集合中的当前元素。\n",
    "+ `array`：要遍历的数组或集合。"
   ]
  },
  {
   "cell_type": "markdown",
   "metadata": {},
   "source": [
    "## 无限循环\n",
    "\n",
    "最简单\"无限\"循环格式：`while(true)` , `for(;;)`"
   ]
  },
  {
   "cell_type": "markdown",
   "metadata": {},
   "source": [
    "## 关键字break和continue的使用\n",
    "\n",
    "| 关键字 | 适用范围 | 作用 | 注意事项 | 相同点 |\n",
    "| --- | --- | --- | --- | --- |\n",
    "| `break` | 循环结构 | 一旦执行，就结束(或跳出)当前循环结构 | 此关键字的后面，不能声明语句 | 用于控制循环的执行流程 |\n",
    "| `continue` | 循环结构 | 一旦执行，就结束(或跳出)当前循环结构 | 此关键字的后面，不能声明语句 | 用于控制循环的执行流程 |\n",
    "\n",
    "\n",
    "这两个关键字都用于控制循环的执行流程，`break` 用于完全退出循环，而 `continue` 用于终止当前循环迭代并开始下一次迭代。在使用这两个关键字时，注意不能在它们后面声明语句，因为它们会立即终止当前循环。\n",
    "\n",
    "可以使用带标签的break语句来中断指定标签的循环或者代码块。这在多重循环或者嵌套循环的情况下非常有用，因为它允许你明确地指定你想要中断的是哪个循环或者代码块。\n",
    "\n",
    "```java\n",
    "labelName: \n",
    "for (initialization; condition; update) {\n",
    "    // statements\n",
    "    \n",
    "    if (condition) {\n",
    "        break labelName; // 中断指定标签的循环\n",
    "    }\n",
    "    \n",
    "    // more statements\n",
    "}\n",
    "```\n",
    "\n",
    "`labelName` 是你给循环或者代码块起的标签名称。当你想要中断某个循环或者代码块时，使用 `break labelName;`，其中 `labelName` 是你想要中断的标签名称。"
   ]
  },
  {
   "cell_type": "code",
   "execution_count": 2,
   "metadata": {
    "vscode": {
     "languageId": "java"
    }
   },
   "outputs": [
    {
     "name": "stdout",
     "output_type": "stream",
     "text": [
      "i: 0, j: 0\n",
      "i: 0, j: 1\n",
      "i: 0, j: 2\n",
      "i: 1, j: 0\n",
      "i: 1, j: 1\n",
      "i: 1, j: 2\n",
      "i: 2, j: 0\n",
      "i: 2, j: 1\n"
     ]
    }
   ],
   "source": [
    "outerLoop: // 标签名为 outerLoop\n",
    "for (int i = 0; i < 5; i++) {\n",
    "    innerLoop:\n",
    "    for (int j = 0; j < 3; j++) {\n",
    "        System.out.println(\"i: \" + i + \", j: \" + j);\n",
    "        if (i == 2 && j == 1) {\n",
    "            break outerLoop; // 中断 outerLoop 标签的循环\n",
    "        }\n",
    "    }\n",
    "}"
   ]
  },
  {
   "cell_type": "markdown",
   "metadata": {},
   "source": [
    "+ continue语句出现在多层嵌套的循环语句体中时，也可以通过标签指明要跳过的是哪一层循环。\n",
    "+ 标号语句必须紧接在循环的头部。标号语句不能用在非循环语句的前面。"
   ]
  }
 ],
 "metadata": {
  "kernelspec": {
   "display_name": "Java",
   "language": "java",
   "name": "java"
  },
  "language_info": {
   "codemirror_mode": "java",
   "file_extension": ".jshell",
   "mimetype": "text/x-java-source",
   "name": "Java",
   "pygments_lexer": "java",
   "version": "21.0.4+8-LTS-274"
  }
 },
 "nbformat": 4,
 "nbformat_minor": 2
}
