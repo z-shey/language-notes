{
 "cells": [
  {
   "cell_type": "markdown",
   "metadata": {},
   "source": [
    "函数是一段可重复使用的代码块，用于实现特定的功能。它将一系列的操作封装在一起，并可以接受输入参数并返回结果。"
   ]
  },
  {
   "cell_type": "markdown",
   "metadata": {},
   "source": [
    "## 内置函数\n",
    "\n",
    "Python 提供了许多内置函数，这些函数可以直接使用，无需定义。\n",
    "\n",
    "+ `print()`：用于输出文本或变量的值。\n",
    "+ `len()`：用于获取字符串、列表、元组等对象的长度。\n",
    "+ `input()`：用于接收用户的输入。"
   ]
  },
  {
   "cell_type": "code",
   "execution_count": 135,
   "metadata": {},
   "outputs": [
    {
     "name": "stdout",
     "output_type": "stream",
     "text": [
      "Hello, World!\n"
     ]
    },
    {
     "ename": "TypeError",
     "evalue": "'int' object is not callable",
     "output_type": "error",
     "traceback": [
      "\u001b[1;31m---------------------------------------------------------------------------\u001b[0m",
      "\u001b[1;31mTypeError\u001b[0m                                 Traceback (most recent call last)",
      "Cell \u001b[1;32mIn[135], line 3\u001b[0m\n\u001b[0;32m      1\u001b[0m \u001b[38;5;28mprint\u001b[39m(\u001b[38;5;124m\"\u001b[39m\u001b[38;5;124mHello, World!\u001b[39m\u001b[38;5;124m\"\u001b[39m)\n\u001b[0;32m      2\u001b[0m length \u001b[38;5;241m=\u001b[39m \u001b[38;5;28mlen\u001b[39m(\u001b[38;5;124m\"\u001b[39m\u001b[38;5;124mPython\u001b[39m\u001b[38;5;124m\"\u001b[39m)\n\u001b[1;32m----> 3\u001b[0m user_input \u001b[38;5;241m=\u001b[39m \u001b[38;5;28;43minput\u001b[39;49m\u001b[43m(\u001b[49m\u001b[38;5;124;43m\"\u001b[39;49m\u001b[38;5;124;43m请输入一个数字：\u001b[39;49m\u001b[38;5;124;43m\"\u001b[39;49m\u001b[43m)\u001b[49m\n",
      "\u001b[1;31mTypeError\u001b[0m: 'int' object is not callable"
     ]
    }
   ],
   "source": [
    "print(\"Hello, World!\")\n",
    "length = len(\"Python\")\n",
    "user_input = input(\"请输入一个数字：\")"
   ]
  },
  {
   "cell_type": "markdown",
   "metadata": {},
   "source": [
    "### `map()`函数\n",
    "\n",
    "`map()`函数用于对序列中的每个元素进行映射，并返回一个新的可迭代对象。\n",
    "\n",
    "```python\n",
    "map(function, iterable, ...)\n",
    "```\n",
    "\n",
    "+ `function`：要应用的函数。\n",
    "+ `iterable`：要映射的序列。"
   ]
  },
  {
   "cell_type": "code",
   "execution_count": 136,
   "metadata": {},
   "outputs": [
    {
     "ename": "TypeError",
     "evalue": "'list' object is not callable",
     "output_type": "error",
     "traceback": [
      "\u001b[1;31m---------------------------------------------------------------------------\u001b[0m",
      "\u001b[1;31mTypeError\u001b[0m                                 Traceback (most recent call last)",
      "Cell \u001b[1;32mIn[136], line 3\u001b[0m\n\u001b[0;32m      1\u001b[0m numbers \u001b[38;5;241m=\u001b[39m [\u001b[38;5;241m1\u001b[39m, \u001b[38;5;241m2\u001b[39m, \u001b[38;5;241m3\u001b[39m, \u001b[38;5;241m4\u001b[39m, \u001b[38;5;241m5\u001b[39m]\n\u001b[0;32m      2\u001b[0m squared_numbers \u001b[38;5;241m=\u001b[39m \u001b[38;5;28mmap\u001b[39m(\u001b[38;5;28;01mlambda\u001b[39;00m x: x \u001b[38;5;241m*\u001b[39m\u001b[38;5;241m*\u001b[39m \u001b[38;5;241m2\u001b[39m, numbers)\n\u001b[1;32m----> 3\u001b[0m \u001b[38;5;28mprint\u001b[39m(\u001b[38;5;28;43mlist\u001b[39;49m\u001b[43m(\u001b[49m\u001b[43msquared_numbers\u001b[49m\u001b[43m)\u001b[49m)\n",
      "\u001b[1;31mTypeError\u001b[0m: 'list' object is not callable"
     ]
    }
   ],
   "source": [
    "numbers = [1, 2, 3, 4, 5]\n",
    "squared_numbers = map(lambda x: x ** 2, numbers)\n",
    "print(list(squared_numbers))"
   ]
  },
  {
   "cell_type": "markdown",
   "metadata": {},
   "source": [
    "### `reduce()`函数\n",
    "\n",
    "`reduce()`函数用于对序列中的元素进行迭代计算，并返回一个结果。\n",
    "\n",
    "```python\n",
    "functools.reduce(function, iterable[, initializer])\n",
    "```\n",
    "\n",
    "+ `function`：表示用于对序列中的元素进行迭代计算的函数，该函数必须接收两个参数。\n",
    "+ `iterable`：表示要进行迭代计算的序列。\n",
    "+ `initializer`（可选）：表示初始值，如果指定了该参数，则迭代计算从初始值开始。"
   ]
  },
  {
   "cell_type": "code",
   "execution_count": 137,
   "metadata": {},
   "outputs": [
    {
     "name": "stdout",
     "output_type": "stream",
     "text": [
      "36\n"
     ]
    }
   ],
   "source": [
    "from functools import reduce\n",
    "\n",
    "lst = [3, 1, 4, 1, 5, 9, 2, 6, 5]\n",
    "total = reduce(lambda x, y: x + y, lst)\n",
    "print(total)"
   ]
  },
  {
   "cell_type": "markdown",
   "metadata": {},
   "source": [
    "### `filter()`函数\n",
    "\n",
    "`filter()`函数用于对序列中的每个元素进行筛选，并返回一个新的可迭代对象。\n",
    "\n",
    "```python\n",
    "filter(function, iterable)\n",
    "```\n",
    "\n",
    "+ `function`：表示用于筛选序列中元素的函数，函数返回值为 `True` 或 `False`。\n",
    "+ `iterable`：表示要进行筛选的序列。"
   ]
  },
  {
   "cell_type": "code",
   "execution_count": 2,
   "metadata": {},
   "outputs": [
    {
     "name": "stdout",
     "output_type": "stream",
     "text": [
      "[4, 2, 6]\n"
     ]
    }
   ],
   "source": [
    "lst = [3, 1, 4, 1, 5, 9, 2, 6, 5]\n",
    "new_lst = filter(lambda x: x % 2 == 0, lst)\n",
    "print(list(new_lst))"
   ]
  },
  {
   "cell_type": "markdown",
   "metadata": {},
   "source": [
    "## 定义函数\n",
    "\n",
    "要定义自己的函数，可以使用 `def` 关键字。\n",
    "\n",
    "```python\n",
    "def function_name(parameters):\n",
    "    # 函数体\n",
    "    return value\n",
    "```\n",
    "\n",
    "+ `function_name` 是函数的名称；\n",
    "+ `parameters` 是函数的参数列表，用于接收输入的数据；\n",
    "+ 函数体是实现具体功能的代码块；\n",
    "+ `return` 语句用于返回函数的结果，可以省略。\n",
    "\n",
    "定义函数发生的事情：\n",
    "\n",
    "1. 申请内存空间保存函数体代码；\n",
    "2. 将内存地址绑定函数名；\n",
    "3. 定义函数不会执行函数体代码，但会检测函数体语法。"
   ]
  },
  {
   "cell_type": "code",
   "execution_count": 4,
   "metadata": {},
   "outputs": [
    {
     "name": "stdout",
     "output_type": "stream",
     "text": [
      "Hello, Alice!\n"
     ]
    }
   ],
   "source": [
    "def greet(name):\n",
    "    print(\"Hello, \" + name + \"!\")\n",
    "\n",
    "greet(\"Alice\")"
   ]
  },
  {
   "cell_type": "markdown",
   "metadata": {},
   "source": [
    "#### 无参函数\n",
    "\n",
    "```python\n",
    "def function():\n",
    "    print('Hello World!')\n",
    "```\n",
    "\n",
    "#### 有参函数\n",
    "\n",
    "```python\n",
    "def add(a, b):\n",
    "    return a + b\n",
    "```\n",
    "\n",
    "#### 空函数\n",
    "\n",
    "函数体为 pass。\n",
    "\n",
    "```python\n",
    "def func():\n",
    "    pass\n",
    "```"
   ]
  },
  {
   "cell_type": "markdown",
   "metadata": {},
   "source": [
    "## 调用函数\n",
    "\n",
    "要调用一个函数，只需要使用函数名加上括号，并提供相应的参数（如果有的话）。"
   ]
  },
  {
   "cell_type": "code",
   "execution_count": 5,
   "metadata": {},
   "outputs": [
    {
     "name": "stdout",
     "output_type": "stream",
     "text": [
      "8\n"
     ]
    }
   ],
   "source": [
    "def add(a, b):\n",
    "    return a + b\n",
    "\n",
    "result = add(3, 5)\n",
    "print(result)"
   ]
  },
  {
   "cell_type": "markdown",
   "metadata": {},
   "source": [
    "调用函数发生的事情：\n",
    "\n",
    "1. 通过函数名找到函数内存地址；\n",
    "2. 通过`()` 触发函数体代码的执行。"
   ]
  },
  {
   "cell_type": "code",
   "execution_count": 6,
   "metadata": {},
   "outputs": [
    {
     "name": "stdout",
     "output_type": "stream",
     "text": [
      "<function function at 0x000001BCF2E69AF0>\n"
     ]
    }
   ],
   "source": [
    "def function():\n",
    "    print('Hello World!')\n",
    "\n",
    "print(function) # <function function at 0x000001BCF2E69AF0>\n"
   ]
  },
  {
   "cell_type": "markdown",
   "metadata": {},
   "source": [
    "## 函数返回值\n",
    "\n",
    "`return` 是函数结束的标志，函数体代码运行到 `return` 就会立刻终止函数的运行，并且会将 `return` 后的值当做本次运行的结果返回。"
   ]
  },
  {
   "cell_type": "markdown",
   "metadata": {},
   "source": [
    "### 返回 `None`\n",
    "\n",
    "+ `pass`\n",
    "\n",
    "+ `return`\n",
    "\n",
    "+ `return None`"
   ]
  },
  {
   "cell_type": "markdown",
   "metadata": {},
   "source": [
    "### 返回一个值\n",
    "\n",
    "+ `return 值`"
   ]
  },
  {
   "cell_type": "markdown",
   "metadata": {},
   "source": [
    "### 返回多个值\n",
    "\n",
    "使用逗号分开多个值，返回的是一个元组。\n",
    "\n",
    "+ `return 值 1, 值 2, ...`"
   ]
  },
  {
   "cell_type": "markdown",
   "metadata": {},
   "source": [
    "## 函数参数"
   ]
  },
  {
   "cell_type": "markdown",
   "metadata": {},
   "source": [
    "### 形参与实参\n",
    "\n",
    "函数是一个独立的代码块，可以接受一些输入（称为参数），并返回一些输出。在函数的定义中，参数分为形参和实参。\n",
    "\n",
    "在调用阶段，实参（变量值）会内存地址绑定给形参（变量名），此时的绑定关系只能在函数体内使用，绑定关系会在函数调用结束后解除。\n",
    "\n",
    "+ **形参**: 函数定义时声明的变量，用于接收函数调用时传递过来的参数值。形参可以有多个，每个形参由参数名称和数据类型组成。\n",
    "\n",
    "+ **实参**: 函数调用时传递给函数的参数值，它们是具体的数值、变量或表达式。实参可以有多个，每个实参与对应位置上的形参匹配。"
   ]
  },
  {
   "cell_type": "markdown",
   "metadata": {},
   "source": [
    "### 位置参数"
   ]
  },
  {
   "cell_type": "markdown",
   "metadata": {},
   "source": [
    "#### 位置形参\n",
    "\n",
    "函数定义阶段，从左到右的顺序直接定义的变量名\n",
    "\n",
    "必须被传值，多一个不行，少一个不行，与位置的概念不强。"
   ]
  },
  {
   "cell_type": "code",
   "execution_count": 7,
   "metadata": {},
   "outputs": [
    {
     "name": "stdout",
     "output_type": "stream",
     "text": [
      "1 2\n",
      "5 3\n"
     ]
    }
   ],
   "source": [
    "def func(x, y):\n",
    "    print(x, y)\n",
    "\n",
    "func(1, 2)  # 1 2\n",
    "func(y=3, x=5)  # 5 3"
   ]
  },
  {
   "cell_type": "markdown",
   "metadata": {},
   "source": [
    "#### 位置实参\n",
    "\n",
    "函数调用阶段，按照从左到右的顺序依次传入的值，顺序与形参一一对应。"
   ]
  },
  {
   "cell_type": "markdown",
   "metadata": {},
   "source": [
    "### 关键字参数"
   ]
  },
  {
   "cell_type": "markdown",
   "metadata": {},
   "source": [
    "#### 关键字实参\n",
    "\n",
    "在函数调用阶段，按照 `key = value` 的形式传入值。可以不参照形参定义顺序传入。\n",
    "\n",
    "**混合使用，位置实参必须放在关键字实参前；不能为同一个形参传重复传值**。"
   ]
  },
  {
   "cell_type": "markdown",
   "metadata": {},
   "source": [
    "### 默认参数"
   ]
  },
  {
   "cell_type": "markdown",
   "metadata": {},
   "source": [
    "#### 默认形参\n",
    "\n",
    "在函数定义阶段，就已经被赋值的形参，在函数调用阶段，可以不用赋值。默认值可以为任意数据类型，但是不推荐使用可变类型。\n",
    "\n",
    "函数最理想的状态：函数的调用只跟本身有关，不与外界代码有关系。"
   ]
  },
  {
   "cell_type": "code",
   "execution_count": 8,
   "metadata": {},
   "outputs": [
    {
     "name": "stdout",
     "output_type": "stream",
     "text": [
      "2 3\n"
     ]
    }
   ],
   "source": [
    "def func(x, y=3):\n",
    "    print(x, y)\n",
    "\n",
    "func(2)  # 2 3"
   ]
  },
  {
   "cell_type": "code",
   "execution_count": 9,
   "metadata": {},
   "outputs": [
    {
     "name": "stdout",
     "output_type": "stream",
     "text": [
      "[1, 2, 3]\n"
     ]
    }
   ],
   "source": [
    "def func(x, y, z, l=None):\n",
    "    if l is None:\n",
    "        l = []\n",
    "    l.append(x)\n",
    "    l.append(y)\n",
    "    l.append(z)\n",
    "    print(l)\n",
    "\n",
    "func(1, 2, 3) "
   ]
  },
  {
   "cell_type": "markdown",
   "metadata": {},
   "source": [
    "### 可变长参数\n",
    "\n",
    "在调用函数时，需要传入的值（实参）的个数不确定。"
   ]
  },
  {
   "cell_type": "markdown",
   "metadata": {},
   "source": [
    "#### 可变长参数的位置参数 `*`\n",
    "\n",
    "格式：`*形参名`。\n",
    "\n",
    "用来接受溢出的位置实参，溢出的位置实参会被 `*` 保存成元组的形式，赋值在 `*` 之后的形参名中。"
   ]
  },
  {
   "cell_type": "code",
   "execution_count": 10,
   "metadata": {},
   "outputs": [
    {
     "name": "stdout",
     "output_type": "stream",
     "text": [
      "1 2 3 (4, 5, 6)\n"
     ]
    }
   ],
   "source": [
    "def func(x, y, z, *l):\n",
    "    print(x, y, z, l)\n",
    "\n",
    "func(1, 2, 3, 4, 5, 6) "
   ]
  },
  {
   "cell_type": "markdown",
   "metadata": {},
   "source": [
    "规范使用为 `*args`，`args` 是变量名，重点是 `*`。\n",
    "\n",
    "实参中存在 `*`：先将 `*` 后的值拆分成位置实参。"
   ]
  },
  {
   "cell_type": "code",
   "execution_count": 11,
   "metadata": {},
   "outputs": [
    {
     "name": "stdout",
     "output_type": "stream",
     "text": [
      "11 22 33\n"
     ]
    }
   ],
   "source": [
    "def func(x, y, z):\n",
    "    print(x, y, z)\n",
    "\n",
    "func(*[11, 22, 33])  # 11 22 33\n",
    "\n",
    "# func(*[11, 22, 33]) 相当于 func(11, 22, 33) "
   ]
  },
  {
   "cell_type": "code",
   "execution_count": 12,
   "metadata": {},
   "outputs": [
    {
     "name": "stdout",
     "output_type": "stream",
     "text": [
      "1 2 ([4, 5, 6],)\n",
      "1 2 (4, 5, 6)\n"
     ]
    }
   ],
   "source": [
    "# 形参与实参都存在 *：\n",
    "def func(x, y, *args):\n",
    "    print(x, y, args)\n",
    "\n",
    "func(1, 2, [4, 5, 6])  # 1 2 ([4, 5, 6],)\n",
    "func(1, 2, *[4, 5, 6])  # 1 2 (4, 5, 6)"
   ]
  },
  {
   "cell_type": "markdown",
   "metadata": {},
   "source": [
    "#### 可变长参数的关键字参数 `**`\n",
    "\n",
    "格式：`**形参名`。\n",
    "\n",
    "用来接受溢出的关键字实参，溢出的关键字实参会被 `**` 保存成字典的格式，赋值在之后的形参名中。"
   ]
  },
  {
   "cell_type": "code",
   "execution_count": 13,
   "metadata": {},
   "outputs": [
    {
     "name": "stdout",
     "output_type": "stream",
     "text": [
      "1 2 3 {'a': 4, 'b': 5, 'c': 6}\n"
     ]
    }
   ],
   "source": [
    "def func(x, y, z, **l):\n",
    "    print(x, y, z, l)\n",
    "\n",
    "func(x=1, y=2, z=3, a=4, b=5, c=6)  # 1 2 3 {'a': 4, 'b': 5, 'c': 6}"
   ]
  },
  {
   "cell_type": "markdown",
   "metadata": {},
   "source": [
    "规范使用为 `**kwargs`，`kwargs` 是变量名。\n",
    "\n",
    "实参中存在 `**`：先将 `**` 后的值拆分成关键字实参。"
   ]
  },
  {
   "cell_type": "code",
   "execution_count": 15,
   "metadata": {},
   "outputs": [
    {
     "name": "stdout",
     "output_type": "stream",
     "text": [
      "x y z\n",
      "1 2 3\n"
     ]
    }
   ],
   "source": [
    "def func(x, y, z):\n",
    "    print(x, y, z)\n",
    "\n",
    "func(*{'x': 1, 'y': 2, 'z': 3})  # 相当于 func('x', 'y', 'z') 输出：x y z\n",
    "func(**{'x': 1, 'y': 2, 'z': 3})  # 相当于 func(x=1, y=2, z=3) 输出：1 2 3"
   ]
  },
  {
   "cell_type": "code",
   "execution_count": null,
   "metadata": {},
   "outputs": [],
   "source": [
    "# 形参与实参都存在 **\n",
    "\n",
    "def func(x, y, **kwargs):\n",
    "    print(x, y, kwargs)\n",
    "\n",
    "func(**{'x': 1, 'y': 2, 'a': 3, 'b': 4})  # 1 2 {'a': 3, 'b': 4}\n",
    "\n",
    "# 相当于 func(x=1, y=2, a=3, b=4)"
   ]
  },
  {
   "cell_type": "markdown",
   "metadata": {},
   "source": [
    "#### 混合使用 `*` 和 `**`\n",
    "\n",
    "`*args` 必须在 `**kwargs` 前"
   ]
  },
  {
   "cell_type": "code",
   "execution_count": 16,
   "metadata": {},
   "outputs": [
    {
     "name": "stdout",
     "output_type": "stream",
     "text": [
      "(1, 2, 3)\n",
      "{'x': 4, 'y': 5}\n"
     ]
    }
   ],
   "source": [
    "def func(*args, **kwargs):\n",
    "    print(args)\n",
    "    print(kwargs)\n",
    "\n",
    "func(1, 2, 3, x=4, y=5)"
   ]
  },
  {
   "cell_type": "markdown",
   "metadata": {},
   "source": [
    "### 命名关键字参数\n",
    "\n",
    "在定义函数时，`*` 后定义的参数，命名关键字实参**必须**按照 `key = value` 的形式传值。"
   ]
  },
  {
   "cell_type": "code",
   "execution_count": 17,
   "metadata": {},
   "outputs": [
    {
     "name": "stdout",
     "output_type": "stream",
     "text": [
      "1 2\n",
      "123 456\n"
     ]
    }
   ],
   "source": [
    "def func(x, y, *, a, b):  # a, b 是命名关键字参数\n",
    "    print(x, y)\n",
    "    print(a, b)\n",
    "\n",
    "func(1, 2, a=123, b=456)"
   ]
  },
  {
   "cell_type": "code",
   "execution_count": 18,
   "metadata": {},
   "outputs": [
    {
     "ename": "TypeError",
     "evalue": "func() missing 2 required keyword-only arguments: 'a' and 'b'",
     "output_type": "error",
     "traceback": [
      "\u001b[1;31m---------------------------------------------------------------------------\u001b[0m",
      "\u001b[1;31mTypeError\u001b[0m                                 Traceback (most recent call last)",
      "Cell \u001b[1;32mIn[18], line 6\u001b[0m\n\u001b[0;32m      3\u001b[0m     \u001b[38;5;28mprint\u001b[39m(x, y)\n\u001b[0;32m      4\u001b[0m     \u001b[38;5;28mprint\u001b[39m(a, b)\n\u001b[1;32m----> 6\u001b[0m \u001b[43mfunc\u001b[49m\u001b[43m(\u001b[49m\u001b[38;5;241;43m1\u001b[39;49m\u001b[43m,\u001b[49m\u001b[43m \u001b[49m\u001b[38;5;241;43m2\u001b[39;49m\u001b[43m)\u001b[49m\n",
      "\u001b[1;31mTypeError\u001b[0m: func() missing 2 required keyword-only arguments: 'a' and 'b'"
     ]
    }
   ],
   "source": [
    "# 命名关键字必须传 * 后的值\n",
    "def func(x, y, *, a, b):\n",
    "    print(x, y)\n",
    "    print(a, b)\n",
    "\n",
    "func(1, 2)\n",
    "\n",
    "# TypeError: func() missing 2 required keyword-only arguments: 'a' and 'b'"
   ]
  },
  {
   "cell_type": "markdown",
   "metadata": {},
   "source": [
    "命名关键字参数并不是位置参数，一些位置参数的限制在命名关键字这里并不适用"
   ]
  },
  {
   "cell_type": "code",
   "execution_count": 19,
   "metadata": {},
   "outputs": [
    {
     "name": "stdout",
     "output_type": "stream",
     "text": [
      "1 2\n",
      "55 123\n"
     ]
    }
   ],
   "source": [
    "def func(x, y, *, a=55, b):  # 无错误\n",
    "    print(x, y)\n",
    "    print(a, b)\n",
    "\n",
    "func(1, 2, b=123)"
   ]
  },
  {
   "cell_type": "markdown",
   "metadata": {},
   "source": [
    "### 混合使用\n",
    "\n",
    "顺序：`位置形参，默认形参，*args，命名关键字形参，**kwargs`"
   ]
  },
  {
   "attachments": {
    "image.png": {
     "image/png": "[encoded data removed]"
    }
   },
   "cell_type": "markdown",
   "metadata": {},
   "source": [
    "## 名称空间\n",
    "\n",
    "名称空间 namespaces：存放名字的地方，是对栈的划分。\n",
    "\n",
    "![image.png](attachment:image.png)\n",
    "\n",
    "有了名称空间之后，可以在栈区存放相同的名字。"
   ]
  },
  {
   "cell_type": "markdown",
   "metadata": {},
   "source": [
    "### 内置名称空间\n",
    "\n",
    "存放的名字：存放的是 python 解释器内置的名字；\n",
    "\n",
    "存活周期：python 解释器启动则产生，python 解释器关闭则销毁。"
   ]
  },
  {
   "cell_type": "markdown",
   "metadata": {},
   "source": [
    "### 全局名称空间\n",
    "\n",
    "存放的名字：存放运行顶级代码所产生的名字（或者不是函数内定义的，也不是内置的，剩下的都是全局名称空间）；\n",
    "\n",
    "存活周期：python 文件执行则产生，python 文件运行完毕则销毁。"
   ]
  },
  {
   "cell_type": "markdown",
   "metadata": {},
   "source": [
    "### 局部名称空间\n",
    "\n",
    "存放的名字：在调用函数时，运行代码体过程中产生的函数内的名字；\n",
    "\n",
    "存活周期：在调用函数时存活，函数调用完毕则销毁。"
   ]
  },
  {
   "cell_type": "markdown",
   "metadata": {},
   "source": [
    "### 名称空间加载顺序\n",
    "\n",
    "内置名称空间 -> 全局名称空间 -> 局部名称空间"
   ]
  },
  {
   "cell_type": "markdown",
   "metadata": {},
   "source": [
    "### 名称空间销毁顺序\n",
    "\n",
    "局部名称空间 -> 全局名称空间 -> 内置名称空间"
   ]
  },
  {
   "cell_type": "markdown",
   "metadata": {},
   "source": [
    "### 名字查找的优先级\n",
    "\n",
    "当前位置向上一层一层查找，以**定义阶段**为准，与调用阶段无关。\n",
    "\n",
    "如果当前在局部名称空间：局部名称空间 -> 全局名称空间 -> 内置名称空间；"
   ]
  },
  {
   "cell_type": "code",
   "execution_count": 23,
   "metadata": {},
   "outputs": [
    {
     "name": "stdout",
     "output_type": "stream",
     "text": [
      "444\n"
     ]
    }
   ],
   "source": [
    "input = 333\n",
    "def fun():\n",
    "    input = 444\n",
    "    print(input)\n",
    "    \n",
    "fun()  # 444"
   ]
  },
  {
   "cell_type": "code",
   "execution_count": 24,
   "metadata": {},
   "outputs": [
    {
     "name": "stdout",
     "output_type": "stream",
     "text": [
      "444\n"
     ]
    }
   ],
   "source": [
    "input = 333\n",
    "def fun():\n",
    "    # input = 444\n",
    "    print(input)\n",
    "    \n",
    "func()  # 333"
   ]
  },
  {
   "cell_type": "markdown",
   "metadata": {},
   "source": [
    "如果当前在全局名称空间：全局名称空间 -> 内置名称空间；"
   ]
  },
  {
   "cell_type": "code",
   "execution_count": 25,
   "metadata": {},
   "outputs": [
    {
     "name": "stdout",
     "output_type": "stream",
     "text": [
      "444\n",
      "333\n"
     ]
    }
   ],
   "source": [
    "input = 333\n",
    "def fun():\n",
    "    input = 444\n",
    "    \n",
    "func()\n",
    "\n",
    "print(input)  # 333"
   ]
  },
  {
   "cell_type": "code",
   "execution_count": 26,
   "metadata": {},
   "outputs": [
    {
     "name": "stdout",
     "output_type": "stream",
     "text": [
      "111\n"
     ]
    }
   ],
   "source": [
    "def func():\n",
    "    print(x)\n",
    "\n",
    "x = 111\n",
    "\n",
    "func()  # 111"
   ]
  },
  {
   "cell_type": "code",
   "execution_count": 27,
   "metadata": {},
   "outputs": [
    {
     "name": "stdout",
     "output_type": "stream",
     "text": [
      "111\n"
     ]
    }
   ],
   "source": [
    "x = 111\n",
    "\n",
    "def func():\n",
    "    print(x)\n",
    "\n",
    "def foo():\n",
    "    x = 222\n",
    "    func()\n",
    "\n",
    "foo()  # 111"
   ]
  },
  {
   "cell_type": "code",
   "execution_count": 28,
   "metadata": {},
   "outputs": [
    {
     "name": "stdout",
     "output_type": "stream",
     "text": [
      "333\n"
     ]
    }
   ],
   "source": [
    "input = 111\n",
    "def f1():\n",
    "    input = 222\n",
    "    def f2():\n",
    "        input = 333\n",
    "        print(input)\n",
    "    f2()\n",
    "\n",
    "f1()  # 333"
   ]
  },
  {
   "attachments": {
    "image.png": {
     "image/png": "[encoded data removed]"
    }
   },
   "cell_type": "markdown",
   "metadata": {},
   "source": [
    "![image.png](attachment:image.png)"
   ]
  },
  {
   "cell_type": "code",
   "execution_count": 29,
   "metadata": {},
   "outputs": [
    {
     "name": "stdout",
     "output_type": "stream",
     "text": [
      "222\n"
     ]
    }
   ],
   "source": [
    "input = 111\n",
    "def f1():\n",
    "    input = 222\n",
    "    def f2():\n",
    "        # input = 333\n",
    "        print(input)\n",
    "    f2()\n",
    "\n",
    "f1()  # 222"
   ]
  },
  {
   "cell_type": "code",
   "execution_count": 30,
   "metadata": {},
   "outputs": [
    {
     "name": "stdout",
     "output_type": "stream",
     "text": [
      "111\n"
     ]
    }
   ],
   "source": [
    "input = 111\n",
    "def f1():\n",
    "    # input = 222\n",
    "    def f2():\n",
    "        # input = 333\n",
    "        print(input)\n",
    "    f2()\n",
    "\n",
    "f1()  # 111"
   ]
  },
  {
   "cell_type": "code",
   "execution_count": 43,
   "metadata": {},
   "outputs": [
    {
     "name": "stdout",
     "output_type": "stream",
     "text": [
      "<built-in function input>\n"
     ]
    }
   ],
   "source": [
    "%%python\n",
    "# input = 111\n",
    "def f1():\n",
    "    # input = 222\n",
    "    def f2():\n",
    "        # input = 333\n",
    "        print(input)\n",
    "    f2()\n",
    "\n",
    "f1()  # <built-in function input>"
   ]
  },
  {
   "cell_type": "code",
   "execution_count": 50,
   "metadata": {},
   "outputs": [
    {
     "name": "stderr",
     "output_type": "stream",
     "text": [
      "Traceback (most recent call last):\n",
      "  File \"<stdin>\", line 6, in <module>\n",
      "  File \"<stdin>\", line 3, in func\n",
      "UnboundLocalError: local variable 'x' referenced before assignment\n"
     ]
    },
    {
     "ename": "CalledProcessError",
     "evalue": "Command 'b\"x = 111\\ndef func():\\n    print(x)\\n    x = 222\\n\\nfunc()\\n\\n# UnboundLocalError: cannot access local variable 'x' where it is not associated with a value\\n\"' returned non-zero exit status 1.",
     "output_type": "error",
     "traceback": [
      "\u001b[1;31m---------------------------------------------------------------------------\u001b[0m",
      "\u001b[1;31mCalledProcessError\u001b[0m                        Traceback (most recent call last)",
      "Cell \u001b[1;32mIn[50], line 1\u001b[0m\n\u001b[1;32m----> 1\u001b[0m \u001b[43mget_ipython\u001b[49m\u001b[43m(\u001b[49m\u001b[43m)\u001b[49m\u001b[38;5;241;43m.\u001b[39;49m\u001b[43mrun_cell_magic\u001b[49m\u001b[43m(\u001b[49m\u001b[38;5;124;43m'\u001b[39;49m\u001b[38;5;124;43mpython\u001b[39;49m\u001b[38;5;124;43m'\u001b[39;49m\u001b[43m,\u001b[49m\u001b[43m \u001b[49m\u001b[38;5;124;43m'\u001b[39;49m\u001b[38;5;124;43m'\u001b[39;49m\u001b[43m,\u001b[49m\u001b[43m \u001b[49m\u001b[38;5;124;43m\"\u001b[39;49m\u001b[38;5;124;43mx = 111\u001b[39;49m\u001b[38;5;130;43;01m\\n\u001b[39;49;00m\u001b[38;5;124;43mdef func():\u001b[39;49m\u001b[38;5;130;43;01m\\n\u001b[39;49;00m\u001b[38;5;124;43m    print(x)\u001b[39;49m\u001b[38;5;130;43;01m\\n\u001b[39;49;00m\u001b[38;5;124;43m    x = 222\u001b[39;49m\u001b[38;5;130;43;01m\\n\u001b[39;49;00m\u001b[38;5;130;43;01m\\n\u001b[39;49;00m\u001b[38;5;124;43mfunc()\u001b[39;49m\u001b[38;5;130;43;01m\\n\u001b[39;49;00m\u001b[38;5;130;43;01m\\n\u001b[39;49;00m\u001b[38;5;124;43m# UnboundLocalError: cannot access local variable \u001b[39;49m\u001b[38;5;124;43m'\u001b[39;49m\u001b[38;5;124;43mx\u001b[39;49m\u001b[38;5;124;43m'\u001b[39;49m\u001b[38;5;124;43m where it is not associated with a value\u001b[39;49m\u001b[38;5;130;43;01m\\n\u001b[39;49;00m\u001b[38;5;124;43m\"\u001b[39;49m\u001b[43m)\u001b[49m\n",
      "File \u001b[1;32mc:\\Dev\\DevKit\\anaconda3\\envs\\python-review\\lib\\site-packages\\IPython\\core\\interactiveshell.py:2478\u001b[0m, in \u001b[0;36mInteractiveShell.run_cell_magic\u001b[1;34m(self, magic_name, line, cell)\u001b[0m\n\u001b[0;32m   2476\u001b[0m \u001b[38;5;28;01mwith\u001b[39;00m \u001b[38;5;28mself\u001b[39m\u001b[38;5;241m.\u001b[39mbuiltin_trap:\n\u001b[0;32m   2477\u001b[0m     args \u001b[38;5;241m=\u001b[39m (magic_arg_s, cell)\n\u001b[1;32m-> 2478\u001b[0m     result \u001b[38;5;241m=\u001b[39m \u001b[43mfn\u001b[49m\u001b[43m(\u001b[49m\u001b[38;5;241;43m*\u001b[39;49m\u001b[43margs\u001b[49m\u001b[43m,\u001b[49m\u001b[43m \u001b[49m\u001b[38;5;241;43m*\u001b[39;49m\u001b[38;5;241;43m*\u001b[39;49m\u001b[43mkwargs\u001b[49m\u001b[43m)\u001b[49m\n\u001b[0;32m   2480\u001b[0m \u001b[38;5;66;03m# The code below prevents the output from being displayed\u001b[39;00m\n\u001b[0;32m   2481\u001b[0m \u001b[38;5;66;03m# when using magics with decodator @output_can_be_silenced\u001b[39;00m\n\u001b[0;32m   2482\u001b[0m \u001b[38;5;66;03m# when the last Python token in the expression is a ';'.\u001b[39;00m\n\u001b[0;32m   2483\u001b[0m \u001b[38;5;28;01mif\u001b[39;00m \u001b[38;5;28mgetattr\u001b[39m(fn, magic\u001b[38;5;241m.\u001b[39mMAGIC_OUTPUT_CAN_BE_SILENCED, \u001b[38;5;28;01mFalse\u001b[39;00m):\n",
      "File \u001b[1;32mc:\\Dev\\DevKit\\anaconda3\\envs\\python-review\\lib\\site-packages\\IPython\\core\\magics\\script.py:153\u001b[0m, in \u001b[0;36mScriptMagics._make_script_magic.<locals>.named_script_magic\u001b[1;34m(line, cell)\u001b[0m\n\u001b[0;32m    151\u001b[0m \u001b[38;5;28;01melse\u001b[39;00m:\n\u001b[0;32m    152\u001b[0m     line \u001b[38;5;241m=\u001b[39m script\n\u001b[1;32m--> 153\u001b[0m \u001b[38;5;28;01mreturn\u001b[39;00m \u001b[38;5;28;43mself\u001b[39;49m\u001b[38;5;241;43m.\u001b[39;49m\u001b[43mshebang\u001b[49m\u001b[43m(\u001b[49m\u001b[43mline\u001b[49m\u001b[43m,\u001b[49m\u001b[43m \u001b[49m\u001b[43mcell\u001b[49m\u001b[43m)\u001b[49m\n",
      "File \u001b[1;32mc:\\Dev\\DevKit\\anaconda3\\envs\\python-review\\lib\\site-packages\\IPython\\core\\magics\\script.py:305\u001b[0m, in \u001b[0;36mScriptMagics.shebang\u001b[1;34m(self, line, cell)\u001b[0m\n\u001b[0;32m    300\u001b[0m \u001b[38;5;28;01mif\u001b[39;00m args\u001b[38;5;241m.\u001b[39mraise_error \u001b[38;5;129;01mand\u001b[39;00m p\u001b[38;5;241m.\u001b[39mreturncode \u001b[38;5;241m!=\u001b[39m \u001b[38;5;241m0\u001b[39m:\n\u001b[0;32m    301\u001b[0m     \u001b[38;5;66;03m# If we get here and p.returncode is still None, we must have\u001b[39;00m\n\u001b[0;32m    302\u001b[0m     \u001b[38;5;66;03m# killed it but not yet seen its return code. We don't wait for it,\u001b[39;00m\n\u001b[0;32m    303\u001b[0m     \u001b[38;5;66;03m# in case it's stuck in uninterruptible sleep. -9 = SIGKILL\u001b[39;00m\n\u001b[0;32m    304\u001b[0m     rc \u001b[38;5;241m=\u001b[39m p\u001b[38;5;241m.\u001b[39mreturncode \u001b[38;5;129;01mor\u001b[39;00m \u001b[38;5;241m-\u001b[39m\u001b[38;5;241m9\u001b[39m\n\u001b[1;32m--> 305\u001b[0m     \u001b[38;5;28;01mraise\u001b[39;00m CalledProcessError(rc, cell)\n",
      "\u001b[1;31mCalledProcessError\u001b[0m: Command 'b\"x = 111\\ndef func():\\n    print(x)\\n    x = 222\\n\\nfunc()\\n\\n# UnboundLocalError: cannot access local variable 'x' where it is not associated with a value\\n\"' returned non-zero exit status 1."
     ]
    }
   ],
   "source": [
    "%%python\n",
    "x = 111\n",
    "def func():\n",
    "    print(x)\n",
    "    x = 222\n",
    "\n",
    "func()\n",
    "\n",
    "# UnboundLocalError: cannot access local variable 'x' where it is not associated with a value"
   ]
  },
  {
   "cell_type": "markdown",
   "metadata": {},
   "source": [
    "## 作用域"
   ]
  },
  {
   "cell_type": "markdown",
   "metadata": {},
   "source": [
    "### 全局作用域\n",
    "\n",
    "内置名称空间、全局名称空间。全局存活，全局有效"
   ]
  },
  {
   "cell_type": "markdown",
   "metadata": {},
   "source": [
    "### 局部作用域\n",
    "\n",
    "局部名称空间"
   ]
  },
  {
   "cell_type": "markdown",
   "metadata": {},
   "source": [
    "## global 和 nonlocal\n",
    "\n",
    "`global` 和 `nonlocal` 是 Python 中用于访问和修改变量作用域的关键字。"
   ]
  },
  {
   "cell_type": "markdown",
   "metadata": {},
   "source": [
    "### global\n",
    "\n",
    "当在一个函数内部想要修改全局变量时，需要使用关键字 `global`。允许在函数内部声明一个全局变量，并且使其可被函数内部访问和修改（不可变类型）。如果不使用 `global` 关键字，函数内部的变量将被视为局部变量。"
   ]
  },
  {
   "cell_type": "code",
   "execution_count": 51,
   "metadata": {},
   "outputs": [
    {
     "name": "stdout",
     "output_type": "stream",
     "text": [
      "20\n",
      "20\n"
     ]
    }
   ],
   "source": [
    "%%python\n",
    "\n",
    "x = 10\n",
    "\n",
    "def func():\n",
    "    global x\n",
    "    x = 20\n",
    "    print(x)\n",
    "\n",
    "func()  # 输出: 20\n",
    "print(x)  # 输出: 20"
   ]
  },
  {
   "cell_type": "markdown",
   "metadata": {},
   "source": [
    "### nonlocal\n",
    "\n",
    "与`global`类似，`nonlocal`关键字用于在嵌套函数中访问和修改外部函数的局部变量。\n",
    "\n",
    "当一个函数内部定义了另一个函数时，内部函数可以访问外部函数的变量，但无法直接修改它们。这时可以使用`nonlocal`关键字来指示内部函数修改外部函数的局部变量。\n"
   ]
  },
  {
   "cell_type": "code",
   "execution_count": 53,
   "metadata": {},
   "outputs": [
    {
     "name": "stdout",
     "output_type": "stream",
     "text": [
      "20\n",
      "20\n"
     ]
    }
   ],
   "source": [
    "%%python\n",
    "\n",
    "def outer():\n",
    "    x = 10\n",
    "    \n",
    "    def inner():\n",
    "        nonlocal x\n",
    "        x = 20\n",
    "        print(x)\n",
    "    \n",
    "    inner()  # 输出: 20\n",
    "    print(x)  # 输出: 20\n",
    "\n",
    "outer()"
   ]
  },
  {
   "cell_type": "markdown",
   "metadata": {},
   "source": [
    "+ `global`关键字用于在函数内部声明全局变量，使其可被函数内部访问和修改。\n",
    "+ `nonlocal`关键字用于在嵌套函数中访问和修改外部函数的局部变量。"
   ]
  },
  {
   "cell_type": "markdown",
   "metadata": {},
   "source": [
    "## 函数对象\n",
    "\n",
    "把函数当成变量去使用"
   ]
  },
  {
   "cell_type": "markdown",
   "metadata": {},
   "source": [
    "### 赋值"
   ]
  },
  {
   "cell_type": "code",
   "execution_count": 54,
   "metadata": {},
   "outputs": [
    {
     "name": "stdout",
     "output_type": "stream",
     "text": [
      "<function func at 0x000001E5F923F280> <function func at 0x000001E5F923F280>\n",
      "hello\n"
     ]
    }
   ],
   "source": [
    "%%python\n",
    "\n",
    "def func():\n",
    "    print(\"hello\")\n",
    "\n",
    "f = func\n",
    "print(f, func)\n",
    "f()\n",
    "\n",
    "# <function func at 0x0000022C17D604A0> <function func at 0x0000022C17D604A0>\n",
    "# hello"
   ]
  },
  {
   "cell_type": "markdown",
   "metadata": {},
   "source": [
    "### 当做函数的参数传入"
   ]
  },
  {
   "cell_type": "code",
   "execution_count": 63,
   "metadata": {},
   "outputs": [
    {
     "name": "stdout",
     "output_type": "stream",
     "text": [
      "<function func at 0x0000015F2858F280>\n",
      "hello\n"
     ]
    }
   ],
   "source": [
    "%%python\n",
    "\n",
    "def func():\n",
    "    print(\"hello\")\n",
    "\n",
    "def foo(x):\n",
    "    print(x)\n",
    "    x()  # hello\n",
    "\n",
    "foo(func)  # <function func at 0x00000244006204A0>"
   ]
  },
  {
   "cell_type": "markdown",
   "metadata": {},
   "source": [
    "### 当做另一个函数的返回值"
   ]
  },
  {
   "cell_type": "code",
   "execution_count": 64,
   "metadata": {},
   "outputs": [
    {
     "name": "stdout",
     "output_type": "stream",
     "text": [
      "<function func at 0x000001BCF2EAE430>\n",
      "hello\n"
     ]
    }
   ],
   "source": [
    "def func():\n",
    "    print(\"hello\")\n",
    "\n",
    "def foo(x):\n",
    "    return x\n",
    "\n",
    "res = foo(func)\n",
    "print(res)\n",
    "res()\n",
    "# <function func at 0x00000200C4F304A0>\n",
    "# hello"
   ]
  },
  {
   "cell_type": "markdown",
   "metadata": {},
   "source": [
    "### 当做容器类型的一个元素"
   ]
  },
  {
   "cell_type": "code",
   "execution_count": 65,
   "metadata": {},
   "outputs": [
    {
     "name": "stdout",
     "output_type": "stream",
     "text": [
      "[<function func at 0x000001BCF4D4E8B0>]\n",
      "hello\n",
      "{'k1': <function func at 0x000001BCF4D4E8B0>}\n",
      "hello\n"
     ]
    }
   ],
   "source": [
    "def func():\n",
    "    print(\"hello\")\n",
    "\n",
    "l = [func,]\n",
    "print(l)\n",
    "l[0]()\n",
    "\n",
    "dic = {'k1': func}\n",
    "print(dic)\n",
    "dic['k1']()\n",
    "\n",
    "# [<function func at 0x000001E4FF7F04A0>]\n",
    "# hello\n",
    "# {'k1': <function func at 0x000001E4FF7F04A0>}\n",
    "# hello"
   ]
  },
  {
   "cell_type": "markdown",
   "metadata": {},
   "source": [
    "## 函数嵌套"
   ]
  },
  {
   "cell_type": "markdown",
   "metadata": {},
   "source": [
    "### 函数的嵌套调用\n",
    "\n",
    "函数的嵌套调用是指在调用一个函数的过程中又调用其他函数。"
   ]
  },
  {
   "cell_type": "code",
   "execution_count": 66,
   "metadata": {},
   "outputs": [
    {
     "name": "stdout",
     "output_type": "stream",
     "text": [
      "The sum is: 7\n"
     ]
    }
   ],
   "source": [
    "def calculate_sum(a, b):\n",
    "    result = add_numbers(a, b)\n",
    "    print(\"The sum is:\", result)\n",
    "\n",
    "def add_numbers(x, y):\n",
    "    return x + y\n",
    "\n",
    "calculate_sum(3, 4)  # 输出: The sum is: 7"
   ]
  },
  {
   "cell_type": "markdown",
   "metadata": {},
   "source": [
    "### 函数的嵌套定义"
   ]
  },
  {
   "cell_type": "code",
   "execution_count": 67,
   "metadata": {},
   "outputs": [
    {
     "name": "stdout",
     "output_type": "stream",
     "text": [
      "This is an inner function.\n"
     ]
    }
   ],
   "source": [
    "def outer_function():\n",
    "    def inner_function():\n",
    "        print(\"This is an inner function.\")\n",
    "    \n",
    "    inner_function()\n",
    "\n",
    "outer_function()  # 输出: This is an inner function."
   ]
  },
  {
   "cell_type": "markdown",
   "metadata": {},
   "source": [
    "## 闭包函数\n",
    "\n",
    "闭包函数 = 名称空间 + 作用域 + 函数嵌套 + 函数对象。\n",
    "\n",
    "核心点：名字的查找关系是以函数定义阶段为准。\n",
    "\n",
    "闭：指的是该函数是嵌套函数；\n",
    "\n",
    "包：指的是该函数包含对外层函数（不是对全局作用域）作用域名字的引用。"
   ]
  },
  {
   "cell_type": "code",
   "execution_count": 68,
   "metadata": {},
   "outputs": [
    {
     "name": "stdout",
     "output_type": "stream",
     "text": [
      "<function outer_function.<locals>.inner_function at 0x000001BCF4D4E160>\n",
      "333\n"
     ]
    }
   ],
   "source": [
    "def outer_function():\n",
    "    x = 333\n",
    "    def inner_function():\n",
    "        print(x)\n",
    "    return inner_function\n",
    "\n",
    "f1 = outer_function()\n",
    "print(f1)\n",
    "f1()\n",
    "\n",
    "# <function outer_function.<locals>.inner_function at 0x0000020270D098A0>\n",
    "# 333"
   ]
  },
  {
   "cell_type": "code",
   "execution_count": 69,
   "metadata": {},
   "outputs": [
    {
     "name": "stdout",
     "output_type": "stream",
     "text": [
      "5\n",
      "7\n"
     ]
    }
   ],
   "source": [
    "def outer_function(x):\n",
    "    def inner_function(y):\n",
    "        return x + y\n",
    "    return inner_function\n",
    "\n",
    "add_3 = outer_function(3)\n",
    "add_5 = outer_function(5)\n",
    "\n",
    "print(add_3(2))  # 输出: 5\n",
    "print(add_5(2))  # 输出: 7"
   ]
  },
  {
   "cell_type": "markdown",
   "metadata": {},
   "source": [
    "### 两种函数体传参的方式"
   ]
  },
  {
   "cell_type": "markdown",
   "metadata": {},
   "source": [
    "#### 方式一\n",
    "\n",
    "直接把函数体需要的参数定义成形参"
   ]
  },
  {
   "cell_type": "code",
   "execution_count": 70,
   "metadata": {},
   "outputs": [
    {
     "name": "stdout",
     "output_type": "stream",
     "text": [
      "1231\n"
     ]
    }
   ],
   "source": [
    "def f1(x):\n",
    "    print(x)\n",
    "\n",
    "f1(1231)"
   ]
  },
  {
   "cell_type": "markdown",
   "metadata": {},
   "source": [
    "#### 方式二"
   ]
  },
  {
   "cell_type": "code",
   "execution_count": 71,
   "metadata": {},
   "outputs": [
    {
     "name": "stdout",
     "output_type": "stream",
     "text": [
      "22222\n"
     ]
    }
   ],
   "source": [
    "def f1():\n",
    "    x = 22222\n",
    "    def f2():\n",
    "        print(x)\n",
    "    return f2\n",
    "\n",
    "func = f1()\n",
    "func()"
   ]
  },
  {
   "cell_type": "code",
   "execution_count": 72,
   "metadata": {},
   "outputs": [
    {
     "name": "stdout",
     "output_type": "stream",
     "text": [
      "9591\n"
     ]
    }
   ],
   "source": [
    "import requests\n",
    "\n",
    "def get(url):\n",
    "    response = requests.get(url)\n",
    "    print(len(response.text))\n",
    "\n",
    "get('http://httpbin.org')"
   ]
  },
  {
   "cell_type": "code",
   "execution_count": 73,
   "metadata": {},
   "outputs": [
    {
     "name": "stdout",
     "output_type": "stream",
     "text": [
      "9591\n"
     ]
    }
   ],
   "source": [
    "import requests\n",
    "\n",
    "def outter(url):\n",
    "    def get():\n",
    "        response = requests.get(url)\n",
    "        print(len(response.text))\n",
    "    return get\n",
    "\n",
    "get = outter('http://httpbin.org')\n",
    "get()"
   ]
  },
  {
   "cell_type": "markdown",
   "metadata": {},
   "source": [
    "## 装饰器\n",
    "\n",
    "+ 器：工具，可以定义成函数；\n",
    "\n",
    "+ 装饰：为其他事物添加额外的点缀；\n",
    "\n",
    "定义一个工具，用来为其他函数添加额外的功能。装饰器就是在不修改被装饰器对象的前提下为被装饰对象添加新功能。\n",
    "\n",
    "装饰器（Decorator）是一种特殊的函数，可以用来修改其他函数的行为。\n",
    "\n",
    "装饰器本身是一个函数，接受一个函数作为参数，并且返回一个新的函数。通常情况下，装饰器用于在不改变原函数代码的情况下，添加一些额外的功能或者修改函数的行为。\n",
    "\n",
    "**开放封闭原则**：\n",
    "\n",
    "+ 开放：对扩展功能是开放的；\n",
    "+ 封闭：对源代码修改是封闭的。\n",
    "\n",
    "装饰器的语法比较简单，通常使用 `@` 符号来表示。"
   ]
  },
  {
   "cell_type": "code",
   "execution_count": 74,
   "metadata": {},
   "outputs": [
    {
     "name": "stdout",
     "output_type": "stream",
     "text": [
      "函数执行完成\n",
      "函数 my_function 运行时间：1.007836103439331 秒\n"
     ]
    }
   ],
   "source": [
    "import time\n",
    "\n",
    "def timing_decorator(func):\n",
    "    def wrapper(*args, **kwargs):\n",
    "        start_time = time.time()\n",
    "        result = func(*args, **kwargs)\n",
    "        end_time = time.time()\n",
    "        print(\"函数 {} 运行时间：{} 秒\".format(func.__name__, end_time - start_time))\n",
    "        return result\n",
    "    return wrapper\n",
    "\n",
    "@timing_decorator\n",
    "def my_function():\n",
    "    time.sleep(1)   # 模拟函数运行耗时\n",
    "    print(\"函数执行完成\")\n",
    "\n",
    "my_function()"
   ]
  },
  {
   "cell_type": "markdown",
   "metadata": {},
   "source": [
    "### 无参装饰器\n",
    "\n",
    "无参装饰器是指不接受额外参数的装饰器。直接应用于函数或类上，不需要传入额外的参数。"
   ]
  },
  {
   "cell_type": "code",
   "execution_count": 75,
   "metadata": {},
   "outputs": [
    {
     "name": "stdout",
     "output_type": "stream",
     "text": [
      "Before function call\n",
      "Hello, World!\n",
      "After function call\n"
     ]
    }
   ],
   "source": [
    "def my_decorator(func):\n",
    "    def wrapper(*args, **kwargs):\n",
    "        # 在函数调用前添加的装饰逻辑\n",
    "        print(\"Before function call\")\n",
    "        result = func(*args, **kwargs)\n",
    "        # 在函数调用后添加的装饰逻辑\n",
    "        print(\"After function call\")\n",
    "        return result\n",
    "    return wrapper\n",
    "\n",
    "@my_decorator\n",
    "def my_function():\n",
    "    print(\"Hello, World!\")\n",
    "\n",
    "my_function()"
   ]
  },
  {
   "cell_type": "markdown",
   "metadata": {},
   "source": [
    "在不修改源代码的情况下为 `index` 函数添加运行时间统计功能"
   ]
  },
  {
   "cell_type": "code",
   "execution_count": 76,
   "metadata": {},
   "outputs": [
    {
     "name": "stdout",
     "output_type": "stream",
     "text": [
      "x is 11, y is 22\n"
     ]
    }
   ],
   "source": [
    "import time\n",
    "\n",
    "\n",
    "def index(x, y):\n",
    "    time.sleep(3)\n",
    "    print(f\"x is {x}, y is {y}\")\n",
    "\n",
    "index(11, 22)"
   ]
  },
  {
   "cell_type": "markdown",
   "metadata": {},
   "source": [
    "#### 方案一：打破了开放封闭原则"
   ]
  },
  {
   "cell_type": "code",
   "execution_count": 77,
   "metadata": {},
   "outputs": [
    {
     "name": "stdout",
     "output_type": "stream",
     "text": [
      "x is 11, y is 22\n",
      "3.0051543712615967\n"
     ]
    }
   ],
   "source": [
    "import time\n",
    "\n",
    "\n",
    "def index(x, y):\n",
    "    start = time.time()\n",
    "    time.sleep(3)\n",
    "    print(f\"x is {x}, y is {y}\")\n",
    "    stop = time.time()\n",
    "    print(stop - start)\n",
    "\n",
    "\n",
    "index(11, 22)"
   ]
  },
  {
   "cell_type": "markdown",
   "metadata": {},
   "source": [
    "#### 方案二：容易造成代码冗余"
   ]
  },
  {
   "cell_type": "code",
   "execution_count": 78,
   "metadata": {},
   "outputs": [
    {
     "name": "stdout",
     "output_type": "stream",
     "text": [
      "x is 11, y is 22\n",
      "3.006317615509033\n"
     ]
    }
   ],
   "source": [
    "import time\n",
    "\n",
    "\n",
    "def index(x, y):\n",
    "    time.sleep(3)\n",
    "    print(f\"x is {x}, y is {y}\")\n",
    "\n",
    "\n",
    "start = time.time()\n",
    "index(11, 22)\n",
    "stop = time.time()\n",
    "print(stop - start)"
   ]
  },
  {
   "cell_type": "markdown",
   "metadata": {},
   "source": [
    "#### 方案三：改变了原函数的调用方式"
   ]
  },
  {
   "cell_type": "code",
   "execution_count": 79,
   "metadata": {},
   "outputs": [
    {
     "name": "stdout",
     "output_type": "stream",
     "text": [
      "x is 11, y is 22\n",
      "3.012969732284546\n"
     ]
    }
   ],
   "source": [
    "import time\n",
    "\n",
    "\n",
    "def index(x, y):\n",
    "    time.sleep(3)\n",
    "    print(f\"x is {x}, y is {y}\")\n",
    "\n",
    "\n",
    "def wrapper():\n",
    "    start = time.time()\n",
    "    index(11, 22)\n",
    "    stop = time.time()\n",
    "    print(stop - start)\n",
    "\n",
    "\n",
    "wrapper()"
   ]
  },
  {
   "cell_type": "markdown",
   "metadata": {},
   "source": [
    "##### 优化一：参数优化"
   ]
  },
  {
   "cell_type": "code",
   "execution_count": 80,
   "metadata": {},
   "outputs": [
    {
     "name": "stdout",
     "output_type": "stream",
     "text": [
      "x is 11, y is 22\n",
      "3.0061333179473877\n"
     ]
    }
   ],
   "source": [
    "import time\n",
    "\n",
    "\n",
    "def index(x, y):\n",
    "    time.sleep(3)\n",
    "    print(f\"x is {x}, y is {y}\")\n",
    "\n",
    "\n",
    "def wrapper(a, b):\n",
    "    start = time.time()\n",
    "    index(a, b)\n",
    "    stop = time.time()\n",
    "    print(stop - start)\n",
    "\n",
    "\n",
    "wrapper(11, 22)"
   ]
  },
  {
   "cell_type": "code",
   "execution_count": 81,
   "metadata": {},
   "outputs": [
    {
     "name": "stdout",
     "output_type": "stream",
     "text": [
      "x is 11, y is 22\n",
      "3.0038504600524902\n"
     ]
    }
   ],
   "source": [
    "import time\n",
    "\n",
    "\n",
    "def index(x, y):\n",
    "    time.sleep(3)\n",
    "    print(f\"x is {x}, y is {y}\")\n",
    "\n",
    "\n",
    "def wrapper(*args, **kwargs):\n",
    "    start = time.time()\n",
    "    index(*args, **kwargs)\n",
    "    stop = time.time()\n",
    "    print(stop - start)\n",
    "\n",
    "\n",
    "wrapper(11, 22)"
   ]
  },
  {
   "cell_type": "markdown",
   "metadata": {},
   "source": [
    "##### 优化二：优化被装饰对象"
   ]
  },
  {
   "cell_type": "code",
   "execution_count": 82,
   "metadata": {},
   "outputs": [
    {
     "name": "stdout",
     "output_type": "stream",
     "text": [
      "x is 111, y is 555\n",
      "3.010171890258789\n"
     ]
    }
   ],
   "source": [
    "import time\n",
    "\n",
    "\n",
    "def index(x, y):\n",
    "    time.sleep(3)\n",
    "    print(f\"x is {x}, y is {y}\")\n",
    "\n",
    "\n",
    "def outter(func):\n",
    "    def wrapper(*args, **kwargs):\n",
    "        start = time.time()\n",
    "        func(*args, **kwargs)\n",
    "        stop = time.time()\n",
    "        print(stop - start)\n",
    "    return wrapper\n",
    "\n",
    "\n",
    "index = outter(index)  # index = wrapper的内存地址\n",
    "index(111, 555)  # 已经不再是原本的 index"
   ]
  },
  {
   "cell_type": "code",
   "execution_count": 83,
   "metadata": {},
   "outputs": [
    {
     "name": "stdout",
     "output_type": "stream",
     "text": [
      "x is 111, y is 555\n",
      "3.008270025253296\n",
      "Hello, shey\n",
      "2.008119583129883\n"
     ]
    }
   ],
   "source": [
    "import time\n",
    "\n",
    "\n",
    "def index(x, y):\n",
    "    time.sleep(3)\n",
    "    print(f\"x is {x}, y is {y}\")\n",
    "\n",
    "def home(name):\n",
    "    time.sleep(2)\n",
    "    print(f\"Hello, {name}\")\n",
    "\n",
    "def outter(func):\n",
    "    def wrapper(*args, **kwargs):\n",
    "        start = time.time()\n",
    "        func(*args, **kwargs)\n",
    "        stop = time.time()\n",
    "        print(stop - start)\n",
    "    return wrapper\n",
    "\n",
    "\n",
    "index = outter(index)\n",
    "home = outter(home)\n",
    "\n",
    "index(111, 555)\n",
    "home('shey')"
   ]
  },
  {
   "cell_type": "markdown",
   "metadata": {},
   "source": [
    "##### 优化三（实现了装饰器）：返回值问题"
   ]
  },
  {
   "cell_type": "code",
   "execution_count": 84,
   "metadata": {},
   "outputs": [
    {
     "name": "stdout",
     "output_type": "stream",
     "text": [
      "Hello, shey\n",
      "2.0010459423065186\n",
      "None\n"
     ]
    }
   ],
   "source": [
    "import time\n",
    "\n",
    "\n",
    "def home(name):\n",
    "    time.sleep(2)\n",
    "    print(f\"Hello, {name}\")\n",
    "    return 123\n",
    "\n",
    "\n",
    "def outter(func):\n",
    "    def wrapper(*args, **kwargs):\n",
    "        start = time.time()\n",
    "        func(*args, **kwargs)\n",
    "        stop = time.time()\n",
    "        print(stop - start)\n",
    "\n",
    "    return wrapper\n",
    "\n",
    "\n",
    "home = outter(home)\n",
    "res = home('shey')  # res = wrapper('shey')\n",
    "print(res)  # None"
   ]
  },
  {
   "cell_type": "code",
   "execution_count": 85,
   "metadata": {},
   "outputs": [
    {
     "name": "stdout",
     "output_type": "stream",
     "text": [
      "Hello, shey\n",
      "2.0086162090301514\n",
      "123\n"
     ]
    }
   ],
   "source": [
    "import time\n",
    "\n",
    "\n",
    "def home(name):\n",
    "    time.sleep(2)\n",
    "    print(f\"Hello, {name}\")\n",
    "    return 123\n",
    "\n",
    "\n",
    "def outter(func):\n",
    "    def wrapper(*args, **kwargs):\n",
    "        start = time.time()\n",
    "        result = func(*args, **kwargs)\n",
    "        stop = time.time()\n",
    "        print(stop - start)\n",
    "        return result\n",
    "\n",
    "    return wrapper\n",
    "\n",
    "\n",
    "home = outter(home)\n",
    "res = home('shey')\n",
    "print(res)  # 123"
   ]
  },
  {
   "cell_type": "markdown",
   "metadata": {},
   "source": [
    "可以发现如果要修饰多个对象的时候都要增加类似的代码 `home = outter(home)`，故此引入语法糖，简化这个过程："
   ]
  },
  {
   "cell_type": "code",
   "execution_count": 86,
   "metadata": {},
   "outputs": [
    {
     "name": "stdout",
     "output_type": "stream",
     "text": [
      "Hello, shey\n",
      "2.0138754844665527\n",
      "123\n"
     ]
    }
   ],
   "source": [
    "import time\n",
    "\n",
    "\n",
    "def timemer(func):\n",
    "    def wrapper(*args, **kwargs):\n",
    "        start = time.time()\n",
    "        result = func(*args, **kwargs)\n",
    "        stop = time.time()\n",
    "        print(stop - start)\n",
    "        return result\n",
    "\n",
    "    return wrapper\n",
    "\n",
    "\n",
    "@timemer  # index = timemer(index)\n",
    "def index(x, y):\n",
    "    time.sleep(3)\n",
    "    print(f\"x is {x}, y is {y}\")\n",
    "\n",
    "\n",
    "@timemer  # home = timemer(home)\n",
    "def home(name):\n",
    "    time.sleep(2)\n",
    "    print(f\"Hello, {name}\")\n",
    "    return 123\n",
    "\n",
    "\n",
    "res = home('shey')\n",
    "print(res)  # 123"
   ]
  },
  {
   "cell_type": "markdown",
   "metadata": {},
   "source": [
    "### 多个装饰器\n",
    "\n",
    "多个装饰器的**加载顺序是由下而上**的，**执行顺序是自上而下**的。\n",
    "\n",
    "也就是说，最先被加载的装饰器会最后被执行，而最后被加载的装饰器会最先被执行。\n",
    "\n",
    "具体来说，如果有多个装饰器应用在同一个函数上，那么它们的执行顺序是按照装饰器的嵌套关系从内到外进行的。"
   ]
  },
  {
   "cell_type": "code",
   "execution_count": 87,
   "metadata": {},
   "outputs": [
    {
     "name": "stdout",
     "output_type": "stream",
     "text": [
      "<function deco1.<locals>.wrapper1 at 0x000001BCF4F1E670>\n",
      "deco1.wrapper1\n",
      "deco2.wrapper2\n",
      "deco3.outter3.wrapper3\n",
      "index 1 2\n"
     ]
    }
   ],
   "source": [
    "def deco1(func1):  # func1 = 被装饰对象 index 函数的内存地址(wrapper2 的内存地址)\n",
    "    def wrapper1(*args, **kwargs):\n",
    "        print(\"deco1.wrapper1\")\n",
    "        res1 = func1(*args, **kwargs)\n",
    "        return res1\n",
    "\n",
    "    return wrapper1\n",
    "\n",
    "\n",
    "def deco2(func2):  # func2 = 被装饰对象 index 函数的内存地址(wrapper3 的内存地址)\n",
    "    def wrapper2(*args, **kwargs):\n",
    "        print(\"deco2.wrapper2\")\n",
    "        res2 = func2(*args, **kwargs)\n",
    "        return res2\n",
    "\n",
    "    return wrapper2\n",
    "\n",
    "\n",
    "def deco3(x):\n",
    "    def outter3(func3):  # func3 = 原函数 index 的内存地址\n",
    "        def wrapper3(*args, **kwargs):\n",
    "            print(\"deco3.outter3.wrapper3\")\n",
    "            res3 = func3(*args, **kwargs)\n",
    "            return res3\n",
    "\n",
    "        return wrapper3\n",
    "\n",
    "    return outter3\n",
    "\n",
    "\n",
    "# 加载顺序：自下而上\n",
    "@deco1  # index = deco1(wrapper2的内存地址) -> index = wrapper1的内存地址\n",
    "@deco2  # index = deco2(wrapper3的内存地址) -> index = wrapper2的内存地址\n",
    "@deco3(111)  # @outter3 -> index = outter3(index) -> index = wrapper3的内存地址\n",
    "def index(x, y):\n",
    "    print(\"index\", x, y)\n",
    "\n",
    "\n",
    "print(index)  # <function deco1.<locals>.wrapper1 at 0x000001F046ED85E0>\n",
    "index(1, 2)"
   ]
  },
  {
   "cell_type": "markdown",
   "metadata": {},
   "source": [
    "### wraps"
   ]
  },
  {
   "cell_type": "code",
   "execution_count": 88,
   "metadata": {},
   "outputs": [
    {
     "name": "stdout",
     "output_type": "stream",
     "text": [
      "wrapper function\n"
     ]
    }
   ],
   "source": [
    "def outter(function):\n",
    "    def wrapper(*args, **kwargs):\n",
    "        \"\"\"wrapper function\"\"\"\n",
    "        pass\n",
    "\n",
    "    return wrapper\n",
    "\n",
    "\n",
    "@outter\n",
    "def index(x, y):\n",
    "    \"\"\"index function\"\"\"\n",
    "    print(x, y)\n",
    "\n",
    "\n",
    "print(index.__doc__)  # 输出 wrapper function 并不是 index 的"
   ]
  },
  {
   "cell_type": "markdown",
   "metadata": {},
   "source": [
    "为了解决以上问题，可以使用 `wrapper.__doc__ = function.__doc__` 手动增加，也可以使用 `wraps` 装饰器解决。"
   ]
  },
  {
   "cell_type": "code",
   "execution_count": 89,
   "metadata": {},
   "outputs": [
    {
     "name": "stdout",
     "output_type": "stream",
     "text": [
      "index function\n"
     ]
    }
   ],
   "source": [
    "from functools import wraps\n",
    "\n",
    "\n",
    "def outter(function):\n",
    "    @wraps(function)\n",
    "    def wrapper(*args, **kwargs):\n",
    "        \"\"\"wrapper function\"\"\"\n",
    "        # wrapper.__doc__ = function.__doc__\n",
    "        pass\n",
    "\n",
    "    return wrapper\n",
    "\n",
    "\n",
    "@outter\n",
    "def index(x, y):\n",
    "    \"\"\"index function\"\"\"\n",
    "    print(x, y)\n",
    "\n",
    "\n",
    "print(index.__doc__)  # 输出 index function"
   ]
  },
  {
   "cell_type": "markdown",
   "metadata": {},
   "source": [
    "### 有参装饰器\n",
    "\n",
    "有参装饰器是指接受额外参数的装饰器。在装饰器函数外再包裹一层，在这一层中可以接受额外的参数，并返回一个装饰器函数。"
   ]
  },
  {
   "cell_type": "code",
   "execution_count": 90,
   "metadata": {},
   "outputs": [
    {
     "name": "stdout",
     "output_type": "stream",
     "text": [
      "Hello!\n",
      "Hello, Alice!\n"
     ]
    }
   ],
   "source": [
    "def greeting_decorator(greeting):\n",
    "    def decorator(func):\n",
    "        def wrapper(*args, **kwargs):\n",
    "            print(greeting)\n",
    "            return func(*args, **kwargs)\n",
    "        return wrapper\n",
    "    return decorator\n",
    "\n",
    "@greeting_decorator(\"Hello!\")\n",
    "def my_function(name):\n",
    "    print(\"Hello, {}!\".format(name))\n",
    "\n",
    "my_function(\"Alice\")"
   ]
  },
  {
   "cell_type": "code",
   "execution_count": 103,
   "metadata": {
    "notebookRunGroups": {
     "groupValue": "2"
    }
   },
   "outputs": [
    {
     "ename": "TypeError",
     "evalue": "'int' object is not callable",
     "output_type": "error",
     "traceback": [
      "\u001b[1;31m---------------------------------------------------------------------------\u001b[0m",
      "\u001b[1;31mTypeError\u001b[0m                                 Traceback (most recent call last)",
      "Cell \u001b[1;32mIn[103], line 41\u001b[0m\n\u001b[0;32m     36\u001b[0m \u001b[38;5;129m@auth\u001b[39m(\u001b[38;5;124m'\u001b[39m\u001b[38;5;124mmysql\u001b[39m\u001b[38;5;124m'\u001b[39m)  \u001b[38;5;66;03m# login = auth(db_type = 'mysql')\u001b[39;00m\n\u001b[0;32m     37\u001b[0m \u001b[38;5;28;01mdef\u001b[39;00m \u001b[38;5;21mlogin\u001b[39m(username, password):\n\u001b[0;32m     38\u001b[0m     \u001b[38;5;28mprint\u001b[39m(username, password)\n\u001b[1;32m---> 41\u001b[0m \u001b[43mlogin\u001b[49m\u001b[43m(\u001b[49m\u001b[38;5;124;43m'\u001b[39;49m\u001b[38;5;124;43madmin\u001b[39;49m\u001b[38;5;124;43m'\u001b[39;49m\u001b[43m,\u001b[49m\u001b[43m \u001b[49m\u001b[38;5;124;43m'\u001b[39;49m\u001b[38;5;124;43madmin\u001b[39;49m\u001b[38;5;124;43m'\u001b[39;49m\u001b[43m)\u001b[49m\n",
      "Cell \u001b[1;32mIn[103], line 4\u001b[0m, in \u001b[0;36mauth.<locals>.decorator.<locals>.wrapper\u001b[1;34m(*args, **kwargs)\u001b[0m\n\u001b[0;32m      3\u001b[0m \u001b[38;5;28;01mdef\u001b[39;00m \u001b[38;5;21mwrapper\u001b[39m(\u001b[38;5;241m*\u001b[39margs, \u001b[38;5;241m*\u001b[39m\u001b[38;5;241m*\u001b[39mkwargs):\n\u001b[1;32m----> 4\u001b[0m     username \u001b[38;5;241m=\u001b[39m \u001b[38;5;28;43minput\u001b[39;49m\u001b[43m(\u001b[49m\u001b[38;5;124;43m\"\u001b[39;49m\u001b[38;5;124;43mEnter your name: \u001b[39;49m\u001b[38;5;124;43m\"\u001b[39;49m\u001b[43m)\u001b[49m\u001b[38;5;241m.\u001b[39mstrip()\n\u001b[0;32m      5\u001b[0m     password \u001b[38;5;241m=\u001b[39m \u001b[38;5;28minput\u001b[39m(\u001b[38;5;124m\"\u001b[39m\u001b[38;5;124mEnter your password: \u001b[39m\u001b[38;5;124m\"\u001b[39m)\u001b[38;5;241m.\u001b[39mstrip()\n\u001b[0;32m      7\u001b[0m     \u001b[38;5;28;01mif\u001b[39;00m db_type \u001b[38;5;241m==\u001b[39m \u001b[38;5;124m'\u001b[39m\u001b[38;5;124mfile\u001b[39m\u001b[38;5;124m'\u001b[39m:\n",
      "\u001b[1;31mTypeError\u001b[0m: 'int' object is not callable"
     ]
    }
   ],
   "source": [
    "# 代码从文件执行才不会出错\n",
    "\n",
    "def auth(db_type):\n",
    "    def decorator(function):\n",
    "        def wrapper(*args, **kwargs):\n",
    "            username = input(\"Enter your name: \").strip()\n",
    "            password = input(\"Enter your password: \").strip()\n",
    "\n",
    "            if db_type == 'file':\n",
    "                print('from file')\n",
    "                if username == 'admin' and password == 'admin':\n",
    "                    result = function(*args, **kwargs)\n",
    "                    return result\n",
    "                else:\n",
    "                    print('wrong')\n",
    "            elif db_type == 'mysql':\n",
    "                print('from mysql')\n",
    "                if username == 'admin' and password == 'admin':\n",
    "                    result = function(*args, **kwargs)\n",
    "                    return result\n",
    "                else:\n",
    "                    print('wrong')\n",
    "            elif db_type == 'ldap':\n",
    "                print('from ldap')\n",
    "                if username == 'admin' and password == 'admin':\n",
    "                    result = function(*args, **kwargs)\n",
    "                    return result\n",
    "                else:\n",
    "                    print('wrong')\n",
    "            else:\n",
    "                print('wrong')\n",
    "\n",
    "        return wrapper\n",
    "\n",
    "    return decorator\n",
    "\n",
    "\n",
    "@auth('mysql')  # login = auth(db_type = 'mysql')\n",
    "def login(username, password):\n",
    "    print(username, password)\n",
    "\n",
    "\n",
    "login('admin', 'admin')"
   ]
  },
  {
   "cell_type": "markdown",
   "metadata": {},
   "source": [
    "`@auth('mysql')` -> `@decorator` -> `login = wrapper(login)` -> `login = wrapper`"
   ]
  },
  {
   "cell_type": "markdown",
   "metadata": {},
   "source": [
    "## 迭代器\n",
    "\n",
    "迭代：重复反馈过程的活动，每一次迭代的结果会作为下一次迭代的初始值。迭代器用来迭代取值，把涉及到的多个值循环取出来。\n",
    "\n",
    "迭代器是一个对象，提供了一种顺序访问集合元素的方法。可以用于遍历可迭代对象（如列表、元组、字符串等）中的每个元素，而无需暴露底层的实现细节。"
   ]
  },
  {
   "cell_type": "code",
   "execution_count": 104,
   "metadata": {},
   "outputs": [
    {
     "name": "stdout",
     "output_type": "stream",
     "text": [
      "shey\n",
      "hello\n"
     ]
    }
   ],
   "source": [
    "list = ['shey', 'hello']\n",
    "\n",
    "index = 0\n",
    "while index < len(list):\n",
    "    print(list[index])\n",
    "    index += 1"
   ]
  },
  {
   "cell_type": "markdown",
   "metadata": {},
   "source": [
    "### 使用迭代器\n",
    "\n",
    "可迭代对象：内置有 `__iter__()` 方法的对象；\n",
    "\n",
    "+ `可迭代对象.__iter__()`：得到迭代器对象；\n",
    "\n",
    "迭代器对象：内置有 `__iter__()` 方法和 `__next__()` 方法的对象；\n",
    "\n",
    "+ `迭代器对象.__next__()`：得到迭代器的下一个值；\n",
    "+ `迭代器对象.__iter__()`：得到迭代器的本身。"
   ]
  },
  {
   "cell_type": "markdown",
   "metadata": {},
   "source": [
    "#### 可迭代对象（Iterable）\n",
    "\n",
    "可迭代对象是指实现了 `__iter__()` 方法的对象，例如列表、元组、字符串等。\n",
    "\n",
    "可迭代对象可以通过调用 `iter()` 函数来获取对应的迭代器。"
   ]
  },
  {
   "cell_type": "code",
   "execution_count": 105,
   "metadata": {},
   "outputs": [
    {
     "name": "stdout",
     "output_type": "stream",
     "text": [
      "<list_iterator object at 0x000001BCF5165B50>\n"
     ]
    }
   ],
   "source": [
    "my_list = [1, 2, 3, 4, 5]\n",
    "\n",
    "res = my_list.__iter__()\n",
    "print(res)  # <list_iterator object at 0x000002833C314D30>"
   ]
  },
  {
   "cell_type": "markdown",
   "metadata": {},
   "source": [
    "#### 迭代器（Iterator）\n",
    "\n",
    "迭代器是一个实现了 `__iter__()` 和 `__next__()` 方法的对象。`__iter__()` 方法返回迭代器对象自身，`__next__()` 方法返回迭代器中的下一个元素，如果没有更多元素可供访问，则抛出 `StopIteration` 异常。"
   ]
  },
  {
   "cell_type": "code",
   "execution_count": 106,
   "metadata": {},
   "outputs": [
    {
     "name": "stdout",
     "output_type": "stream",
     "text": [
      "1\n",
      "2\n",
      "3\n"
     ]
    }
   ],
   "source": [
    "my_list = [1, 2, 3, 4, 5]\n",
    "\n",
    "list_iterator = my_list.__iter__()\n",
    "\n",
    "print(list_iterator.__next__())  # 1\n",
    "print(list_iterator.__next__())  # 2\n",
    "print(list_iterator.__next__())  # 3"
   ]
  },
  {
   "cell_type": "markdown",
   "metadata": {},
   "source": [
    "#### 使用 for 循环遍历\n",
    "\n",
    "工作原理：\n",
    "\n",
    "1. `可迭代对象.__iter__()`：得到迭代器对象；\n",
    "2. `迭代器对象.__next__()`：得到迭代器的下一个值，返回值赋值给变量；\n",
    "3. 循环往复，直到抛出 `StopIteration` 异常。\n",
    "\n",
    "for 循环称之为迭代器循环。\n",
    "\n",
    "可以直接使用 for 循环遍历可迭代对象，无需手动创建迭代器。"
   ]
  },
  {
   "cell_type": "code",
   "execution_count": 107,
   "metadata": {},
   "outputs": [
    {
     "name": "stdout",
     "output_type": "stream",
     "text": [
      "1\n",
      "2\n",
      "3\n",
      "4\n",
      "5\n"
     ]
    }
   ],
   "source": [
    "my_list = [1, 2, 3, 4, 5]\n",
    "\n",
    "for item in my_list:\n",
    "    print(item)"
   ]
  },
  {
   "cell_type": "markdown",
   "metadata": {},
   "source": [
    "#### 手动创建迭代器并使用 while 循环遍历\n",
    "\n",
    "如果需要手动控制迭代过程，可以先通过 `iter()` 函数获取迭代器对象，然后使用 while 循环结合 `next()` 函数逐个获取元素 s。当迭代结束时，会抛出 `StopIteration` 异常。"
   ]
  },
  {
   "cell_type": "code",
   "execution_count": 110,
   "metadata": {},
   "outputs": [
    {
     "name": "stdout",
     "output_type": "stream",
     "text": [
      "1\n",
      "2\n",
      "3\n",
      "4\n",
      "5\n",
      "迭代结束\n"
     ]
    }
   ],
   "source": [
    "my_list = [1, 2, 3, 4, 5]\n",
    "\n",
    "my_iterator = iter(my_list)\n",
    "\n",
    "while True:\n",
    "    try:\n",
    "        item = next(my_iterator)\n",
    "        print(item)\n",
    "    except StopIteration:\n",
    "        print('迭代结束')\n",
    "        break"
   ]
  },
  {
   "cell_type": "markdown",
   "metadata": {},
   "source": [
    "## 生成器\n",
    "\n",
    "生成器（Generator）是一种特殊的迭代器。\n",
    "\n",
    "与常规的迭代器不同，生成器可以通过函数来创建。生成器函数使用 `yield` 关键字而不是 `return` 返回值，并且每次生成一个值后暂停执行并保留当前的状态。\n",
    "\n",
    "下次调用生成器时，会从上次暂停的位置继续执行。因此，生成器可以按需生成数据，并且在迭代过程中保留当前状态。"
   ]
  },
  {
   "cell_type": "markdown",
   "metadata": {},
   "source": [
    "### 使用生成器\n",
    "\n",
    "如何得到自定义迭代器：\n",
    "\n",
    "+ 在函数内一旦存在 `yield` 关键字，调用函数并不会执行函数体代码；\n",
    "+ 会返回一个生成器对象，生成器既是自定义的迭代器。"
   ]
  },
  {
   "cell_type": "code",
   "execution_count": 111,
   "metadata": {},
   "outputs": [
    {
     "name": "stdout",
     "output_type": "stream",
     "text": [
      "<generator object function at 0x000001BCF529B6D0>\n"
     ]
    }
   ],
   "source": [
    "def function():\n",
    "    print('first')\n",
    "    yield 1\n",
    "    print('second')\n",
    "    yield 2\n",
    "    print('third')\n",
    "    yield 3\n",
    "\n",
    "func = function()\n",
    "print(func)  # <generator object function at 0x00000222AE5E7AC0>"
   ]
  },
  {
   "cell_type": "markdown",
   "metadata": {},
   "source": [
    "Python提供了两种方式来创建生成器：生成器函数和生成器表达式。"
   ]
  },
  {
   "cell_type": "markdown",
   "metadata": {},
   "source": [
    "#### 生成器函数\n",
    "\n",
    "生成器函数是通过函数实现的生成器。它使用 yield 关键字来逐个生成值。"
   ]
  },
  {
   "cell_type": "code",
   "execution_count": 112,
   "metadata": {},
   "outputs": [
    {
     "name": "stdout",
     "output_type": "stream",
     "text": [
      "1\n",
      "2\n",
      "3\n"
     ]
    }
   ],
   "source": [
    "def my_generator():\n",
    "    yield 1\n",
    "    yield 2\n",
    "    yield 3\n",
    "\n",
    "generator = my_generator()\n",
    "\n",
    "for value in generator:\n",
    "    print(value)"
   ]
  },
  {
   "cell_type": "code",
   "execution_count": 113,
   "metadata": {},
   "outputs": [
    {
     "name": "stdout",
     "output_type": "stream",
     "text": [
      "first\n",
      "1\n"
     ]
    }
   ],
   "source": [
    "def function():\n",
    "    print('first')\n",
    "    yield 1\n",
    "    print('second')\n",
    "    yield 2\n",
    "    print('third')\n",
    "    yield 3\n",
    "\n",
    "\n",
    "func = function()\n",
    "res = func.__next__()  # first\n",
    "print(res)  # 1"
   ]
  },
  {
   "cell_type": "markdown",
   "metadata": {},
   "source": [
    "触发函数体代码的运行，遇到 `yield` 停下来，将 `yield` 后的值当做本次调用结果返回。"
   ]
  },
  {
   "cell_type": "code",
   "execution_count": 114,
   "metadata": {},
   "outputs": [
    {
     "name": "stdout",
     "output_type": "stream",
     "text": [
      "first\n",
      "1\n",
      "second\n",
      "2\n",
      "third\n",
      "3\n"
     ]
    },
    {
     "ename": "StopIteration",
     "evalue": "",
     "output_type": "error",
     "traceback": [
      "\u001b[1;31m---------------------------------------------------------------------------\u001b[0m",
      "\u001b[1;31mStopIteration\u001b[0m                             Traceback (most recent call last)",
      "Cell \u001b[1;32mIn[114], line 20\u001b[0m\n\u001b[0;32m     17\u001b[0m res \u001b[38;5;241m=\u001b[39m func\u001b[38;5;241m.\u001b[39m\u001b[38;5;21m__next__\u001b[39m()  \u001b[38;5;66;03m# third\u001b[39;00m\n\u001b[0;32m     18\u001b[0m \u001b[38;5;28mprint\u001b[39m(res)  \u001b[38;5;66;03m# 3\u001b[39;00m\n\u001b[1;32m---> 20\u001b[0m res \u001b[38;5;241m=\u001b[39m \u001b[43mfunc\u001b[49m\u001b[38;5;241;43m.\u001b[39;49m\u001b[38;5;21;43m__next__\u001b[39;49m\u001b[43m(\u001b[49m\u001b[43m)\u001b[49m\n",
      "\u001b[1;31mStopIteration\u001b[0m: "
     ]
    }
   ],
   "source": [
    "def function():\n",
    "    print('first')\n",
    "    yield 1\n",
    "    print('second')\n",
    "    yield 2\n",
    "    print('third')\n",
    "    yield 3\n",
    "\n",
    "\n",
    "func = function()\n",
    "res = func.__next__()  # first\n",
    "print(res)  # 1\n",
    "\n",
    "res = func.__next__()  # second\n",
    "print(res)  # 2\n",
    "\n",
    "res = func.__next__()  # third\n",
    "print(res)  # 3\n",
    "\n",
    "res = func.__next__()  # StopIteration"
   ]
  },
  {
   "cell_type": "markdown",
   "metadata": {},
   "source": [
    "#### 生成器表达式\n",
    "\n",
    "生成器表达式是一种简洁的方式来创建生成器。它类似于列表推导式，但使用圆括号而不是方括号，并且返回一个生成器对象。"
   ]
  },
  {
   "cell_type": "code",
   "execution_count": 115,
   "metadata": {},
   "outputs": [
    {
     "name": "stdout",
     "output_type": "stream",
     "text": [
      "1\n",
      "2\n",
      "3\n"
     ]
    }
   ],
   "source": [
    "generator = (x for x in range(1, 4))\n",
    "\n",
    "for value in generator:\n",
    "    print(value)"
   ]
  },
  {
   "cell_type": "markdown",
   "metadata": {},
   "source": [
    "### yield 的表达式形式\n",
    "\n",
    "`yield` 的表达式形式是在生成器函数中使用的，它用于产生一个值并暂停函数的执行。"
   ]
  },
  {
   "cell_type": "code",
   "execution_count": 116,
   "metadata": {},
   "outputs": [
    {
     "name": "stdout",
     "output_type": "stream",
     "text": [
      "eatingalex\n",
      "atealex, ABC\n"
     ]
    }
   ],
   "source": [
    "def dog(name):\n",
    "    print(f\"eating{name}\")\n",
    "    while True:\n",
    "        # x 拿到的是yield接受到的值\n",
    "        # x = yield None\n",
    "        x = yield  # x = \"ABC\"\n",
    "        print(f\"ate{name}, {x}\")\n",
    "\n",
    "\n",
    "# d = dog('alex')\n",
    "# res = next(d)  # eatingalex\n",
    "# print(res)  # None\n",
    "# next(d)  # atealex, None\n",
    "# d.send(\"ABC\")  # send 给 yield 赋值\n",
    "\n",
    "d = dog('alex')\n",
    "d.send(None)  # 相当于 next(d)\n",
    "d.send(\"ABC\")"
   ]
  },
  {
   "cell_type": "code",
   "execution_count": 117,
   "metadata": {},
   "outputs": [
    {
     "name": "stdout",
     "output_type": "stream",
     "text": [
      "eatingalex\n",
      "atealex, ABC\n",
      "atealex, 1212\n",
      "atealex, 1313\n",
      "atealex, 1414\n"
     ]
    }
   ],
   "source": [
    "def dog(name):\n",
    "    print(f\"eating{name}\")\n",
    "    while True:\n",
    "        # x 拿到的是yield接受到的值\n",
    "        # x = yield None\n",
    "        x = yield  # x = \"ABC\"\n",
    "        print(f\"ate{name}, {x}\")\n",
    "\n",
    "\n",
    "d = dog('alex')\n",
    "d.send(None)  # 相当于 next(d)\n",
    "d.send(\"ABC\")\n",
    "d.send(\"1212\")\n",
    "d.send(\"1313\")\n",
    "d.send(\"1414\")\n",
    "# d.close()\n",
    "# d.send(\"1515\")  # StopIteration 关闭就不能传值了"
   ]
  },
  {
   "cell_type": "code",
   "execution_count": 118,
   "metadata": {},
   "outputs": [
    {
     "name": "stdout",
     "output_type": "stream",
     "text": [
      "eatingalex\n",
      "[]\n",
      "atealex, ABC\n",
      "['ABC']\n",
      "atealex, 123\n",
      "['ABC', '123']\n"
     ]
    }
   ],
   "source": [
    "def dog(name):\n",
    "    list = []\n",
    "    print(f\"eating{name}\")\n",
    "    while True:\n",
    "        x = yield list\n",
    "        # 两个功能：\n",
    "        # x = yield 是无论next还是send，先传值给x\n",
    "        # 运行再遇到新的yield，yield list 就返回本次的值\n",
    "        print(f\"ate{name}, {x}\")\n",
    "        list.append(x)\n",
    "\n",
    "\n",
    "d = dog('alex')\n",
    "res = d.send(None)  # 相当于 next(d)\n",
    "print(res)  # []\n",
    "\n",
    "res = d.send('ABC')\n",
    "print(res)  # ['ABC']\n",
    "# 先把 'ABC' 给 yield ，yield 再给 x（x = 'ABC'），再运行其他代码，再执行遇到新的 yield，再将本次结果返回\n",
    "\n",
    "res = d.send('123')\n",
    "print(res)  # ['ABC', '123']"
   ]
  },
  {
   "cell_type": "code",
   "execution_count": 119,
   "metadata": {},
   "outputs": [
    {
     "name": "stdout",
     "output_type": "stream",
     "text": [
      "start...\n",
      "111\n",
      "middle...\n",
      "222\n"
     ]
    }
   ],
   "source": [
    "def func():\n",
    "    print(\"start...\")\n",
    "    x = yield 111  # x = \"ABC\"\n",
    "    print(\"middle...\")\n",
    "    yield 222  # 返回 222\n",
    "\n",
    "g = func()\n",
    "result = next(g)\n",
    "print(result)  # 111\n",
    "\n",
    "res = g.send(\"ABC\")  # middle...\n",
    "print(res)  # 222"
   ]
  },
  {
   "cell_type": "markdown",
   "metadata": {},
   "source": [
    "### 三元表达式\n",
    "\n",
    "三元表达式是一种简洁的条件语句，也称为三目运算符。它通常用于在一个单独的表达式中根据条件选择不同的值或执行不同的操作。\n",
    "\n",
    "```python\n",
    "条件成立返回值 if 条件 else 条件不成立返回值\n",
    "```"
   ]
  },
  {
   "cell_type": "code",
   "execution_count": 120,
   "metadata": {},
   "outputs": [
    {
     "name": "stdout",
     "output_type": "stream",
     "text": [
      "2\n",
      "2\n"
     ]
    }
   ],
   "source": [
    "def func(x, y):\n",
    "    if x > y:\n",
    "        return x\n",
    "    else:\n",
    "        return y\n",
    "\n",
    "res = func(1, 2)\n",
    "print(res)\n",
    "\n",
    "# 三元表达式\n",
    "x = 1\n",
    "y = 2\n",
    "res = x if x > y else y\n",
    "print(res)"
   ]
  },
  {
   "cell_type": "markdown",
   "metadata": {},
   "source": [
    "### 生成式"
   ]
  },
  {
   "cell_type": "markdown",
   "metadata": {},
   "source": [
    "#### 列表生成式\n",
    "\n",
    "列表生成式（List Comprehension）是一种简洁的语法，用于创建新的列表，可以在单行代码中根据特定的规则生成列表元素。\n",
    "\n",
    "```python\n",
    "list = [expression for item in iterable if condition]\n",
    "```\n",
    "\n",
    "+ `expression` 是一个表达式，用于生成列表中的每个元素。\n",
    "+ `item` 是可迭代对象（如列表、字符串等），表示每次迭代时的当前元素。\n",
    "+ `condition` 是可选的条件表达式，用于筛选需要加入到新列表的元素。\n"
   ]
  },
  {
   "cell_type": "code",
   "execution_count": 122,
   "metadata": {},
   "outputs": [
    {
     "data": {
      "text/plain": [
       "[1, 4, 9, 16, 25, 36, 49, 64, 81, 100]"
      ]
     },
     "execution_count": 122,
     "metadata": {},
     "output_type": "execute_result"
    }
   ],
   "source": [
    "squares = [x**2 for x in range(1, 11)]\n",
    "squares"
   ]
  },
  {
   "cell_type": "code",
   "execution_count": 124,
   "metadata": {},
   "outputs": [
    {
     "name": "stdout",
     "output_type": "stream",
     "text": [
      "['alex_a', 'bob_a', 'john_a']\n",
      "['alex_a', 'bob_a', 'john_a']\n"
     ]
    }
   ],
   "source": [
    "list = ['alex_a', 'bob_a', 'charlie_b', 'john_a']\n",
    "\n",
    "new_list = []\n",
    "for name in list:\n",
    "    if name.endswith('a'):\n",
    "        new_list.append(name)\n",
    "print(new_list)\n",
    "\n",
    "new_list.clear()\n",
    "\n",
    "# 三元表达式解决\n",
    "new_list = [name for name in list if name.endswith('a')]\n",
    "print(new_list)"
   ]
  },
  {
   "cell_type": "markdown",
   "metadata": {},
   "source": [
    "嵌套使用"
   ]
  },
  {
   "cell_type": "code",
   "execution_count": 125,
   "metadata": {},
   "outputs": [
    {
     "name": "stdout",
     "output_type": "stream",
     "text": [
      "[[1, 2, 3], [2, 4, 6], [3, 6, 9]]\n"
     ]
    }
   ],
   "source": [
    "matrix = [[i*j for j in range(1, 4)] for i in range(1, 4)]\n",
    "print(matrix)"
   ]
  },
  {
   "cell_type": "markdown",
   "metadata": {},
   "source": [
    "#### 字典生成式\n",
    "\n",
    "字典生成式（Dictionary Comprehension）是一种快速创建字典的方法，类似于列表生成式。"
   ]
  },
  {
   "cell_type": "code",
   "execution_count": 126,
   "metadata": {},
   "outputs": [
    {
     "name": "stdout",
     "output_type": "stream",
     "text": [
      "{1: 1, 2: 4, 3: 9, 4: 16, 5: 25}\n"
     ]
    }
   ],
   "source": [
    "numbers = [1, 2, 3, 4, 5]\n",
    "squared_dict = {num: num**2 for num in numbers}\n",
    "print(squared_dict)"
   ]
  },
  {
   "cell_type": "code",
   "execution_count": 127,
   "metadata": {},
   "outputs": [
    {
     "name": "stdout",
     "output_type": "stream",
     "text": [
      "{'name': 'shey', 'age': 25}\n"
     ]
    }
   ],
   "source": [
    "items = [('name', 'shey'), ('age', 25), ('weight', '110kg')]\n",
    "res = {key: value for key, value in items if key != 'weight'}\n",
    "print(res)  # {'name': 'shey', 'age': 25}"
   ]
  },
  {
   "cell_type": "markdown",
   "metadata": {},
   "source": [
    "#### 集合生成式\n",
    "\n",
    "集合生成式（Set Comprehension）是一种快速创建集合的方法，类似于列表和字典生成式。"
   ]
  },
  {
   "cell_type": "code",
   "execution_count": 128,
   "metadata": {},
   "outputs": [
    {
     "name": "stdout",
     "output_type": "stream",
     "text": [
      "{1, 4, 9, 16, 25}\n"
     ]
    }
   ],
   "source": [
    "numbers = [1, 2, 3, 4, 5]\n",
    "squared_set = {num**2 for num in numbers}\n",
    "print(squared_set)"
   ]
  },
  {
   "cell_type": "markdown",
   "metadata": {},
   "source": [
    "没有元组生成式"
   ]
  },
  {
   "cell_type": "markdown",
   "metadata": {},
   "source": [
    "#### 生成器表达式\n",
    "\n",
    "生成器表达式（Generator Expression）是一种创建生成器对象的方式，类似于列表、集合和字典生成式。生成器表达式可以用来按需生成值，而不是一次性生成所有值。\n",
    "\n",
    "生成器表达式的语法与列表生成式类似，只是将方括号 `[]` 改为圆括号 `()`。"
   ]
  },
  {
   "cell_type": "code",
   "execution_count": 129,
   "metadata": {},
   "outputs": [
    {
     "name": "stdout",
     "output_type": "stream",
     "text": [
      "<generator object <genexpr> at 0x000001BCF52B7DD0>\n"
     ]
    }
   ],
   "source": [
    "numbers = [1, 2, 3, 4, 5]\n",
    "squared_generator = (num**2 for num in numbers)\n",
    "print(squared_generator)"
   ]
  },
  {
   "cell_type": "markdown",
   "metadata": {},
   "source": [
    "此时 `squared_generator` 并没有内容。\n",
    "\n",
    "输出结果：\n",
    "\n",
    "```plain\n",
    "<generator object <genexpr> at 0x7f8b5f4bb200>\n",
    "```\n",
    "\n",
    "与列表、字典和集合生成式类似，你也可以在生成器表达式中添加条件语句进行筛选和过滤。"
   ]
  },
  {
   "cell_type": "code",
   "execution_count": 130,
   "metadata": {},
   "outputs": [
    {
     "name": "stdout",
     "output_type": "stream",
     "text": [
      "<generator object <genexpr> at 0x000001BCF52B7F20>\n"
     ]
    }
   ],
   "source": [
    "numbers = [1, 2, 3, 4, 5]\n",
    "even_squared_generator = (num**2 for num in numbers if num % 2 == 0)\n",
    "print(even_squared_generator)"
   ]
  },
  {
   "cell_type": "markdown",
   "metadata": {},
   "source": [
    "生成器表达式的优点在于**惰性求值**的，**只有在需要时才会生成下一个值**。这使得它们适用于处理大型数据集或无限序列时节省内存。\n",
    "\n",
    "要使用生成器表达式生成具体的值，可以通过迭代器协议进行遍历，或者使用内置函数 `next()` 逐个获取值。"
   ]
  },
  {
   "cell_type": "code",
   "execution_count": 131,
   "metadata": {},
   "outputs": [
    {
     "name": "stdout",
     "output_type": "stream",
     "text": [
      "1\n",
      "4\n",
      "9\n",
      "16\n",
      "25\n"
     ]
    }
   ],
   "source": [
    "numbers = [1, 2, 3, 4, 5]\n",
    "squared_generator = (num**2 for num in numbers)\n",
    "\n",
    "for value in squared_generator:\n",
    "    print(value)"
   ]
  },
  {
   "cell_type": "markdown",
   "metadata": {},
   "source": [
    "案例：计算文件字符个数\n",
    "\n",
    "```python\n",
    "with open('data.txt', mode='rt', encoding='utf-8') as f:\n",
    "    result = 0\n",
    "    for line in f:\n",
    "        result += len(line)\n",
    "\n",
    "    print(result)  # 13\n",
    "```\n",
    "\n",
    "```python\n",
    "with open('data.txt', mode='rt', encoding='utf-8') as f:\n",
    "    result = sum([len(line) for line in f])\n",
    "    print(result)  # 13\n",
    "```\n",
    "\n",
    "```python\n",
    "with open('data.txt', mode='rt', encoding='utf-8') as f:\n",
    "    result = sum((len(line) for line in f))\n",
    "    # 简化 result = sum(len(line) for line in f)\n",
    "    print(result)  # 13\n",
    "```"
   ]
  },
  {
   "attachments": {
    "image.png": {
     "image/png": "[encoded data removed]"
    }
   },
   "cell_type": "markdown",
   "metadata": {},
   "source": [
    "## 函数的递归调用\n",
    "\n",
    "函数嵌套调用的特殊形式，在调用的函数的过程中又直接和间接的调用自身。\n",
    "\n",
    "递归的本质就是循环。\n",
    "\n",
    "函数的递归调用是指函数在执行过程中调用自身的行为。\n",
    "\n",
    "通过递归，一个问题可以被分解成更小的、同样结构的子问题，从而简化问题的解决过程。\n",
    "\n",
    "在使用递归时，通常需要考虑两个方面：\n",
    "\n",
    "1. 基本情况（Base Case）：确定一个或多个终止条件，当满足这些条件时，递归不再进行，直接返回结果。这些终止条件通常是最简单、最基本的情况，无需再进行递归调用。 \n",
    "2. 递归步骤（Recursive Step）：将原始问题转化为一个或多个规模更小的子问题，并通过调用相同的函数来解决这些子问题。递归步骤应该逐渐接近基本情况，以确保最终能够达到终止条件。 \n",
    "\n",
    "Python 最大的递归层数是 1000\n",
    "\n",
    "![image.png](attachment:image.png)"
   ]
  },
  {
   "cell_type": "code",
   "execution_count": 132,
   "metadata": {},
   "outputs": [
    {
     "name": "stdout",
     "output_type": "stream",
     "text": [
      "120\n"
     ]
    }
   ],
   "source": [
    "def factorial(n):\n",
    "    # 基本情况：n 为 0 或 1 时，直接返回 1\n",
    "    if n == 0 or n == 1:\n",
    "        return 1\n",
    "    # 递归步骤：调用自身来计算 n 的阶乘\n",
    "    else:\n",
    "        return n * factorial(n - 1)\n",
    "\n",
    "# 调用函数计算阶乘\n",
    "result = factorial(5)\n",
    "print(result)  # 输出结果为 120"
   ]
  },
  {
   "cell_type": "markdown",
   "metadata": {},
   "source": [
    "### 递归调用的两个阶段\n",
    "\n",
    "递归调用通常包含两个阶段：递推（递归推进）和回溯。"
   ]
  },
  {
   "cell_type": "markdown",
   "metadata": {},
   "source": [
    "#### 递推（递归推进）阶段\n",
    "\n",
    "在递推阶段，将问题不断地分解为规模更小的子问题，并通过递归调用同一函数来解决这些子问题。\n",
    "\n",
    "递推阶段可以看作是问题规模逐渐减小的过程，直到达到某个基本情况（递归终止条件），可以直接得到结果而无需进一步递归。 "
   ]
  },
  {
   "cell_type": "markdown",
   "metadata": {},
   "source": [
    "#### 回溯阶段\n",
    "\n",
    "在回溯阶段，从最小的子问题开始逐步返回结果。在每一层递归中，当子问题得到解决后，逐步向上返回，并将子问题的解合并成更大规模问题的解。\n",
    "\n",
    "回溯阶段可以看作是递归的结束过程，通过将子问题的解合并，最终得到原始问题的解。"
   ]
  },
  {
   "cell_type": "markdown",
   "metadata": {},
   "source": [
    "## 匿名函数 lambda\n",
    "\n",
    "匿名函数是一种没有名称的函数，也被称为 lambda 函数（根据 lambda 演算而来）。是一种特殊的函数，可以在需要函数对象的地方直接定义和使用，而无需显式地命名函数。\n",
    "\n",
    "```python\n",
    "lambda 参数列表: 表达式\n",
    "```"
   ]
  },
  {
   "cell_type": "code",
   "execution_count": 133,
   "metadata": {},
   "outputs": [
    {
     "name": "stdout",
     "output_type": "stream",
     "text": [
      "<function func at 0x000001BCF5116940>\n",
      "<function <lambda> at 0x000001BCF52ABAF0>\n"
     ]
    }
   ],
   "source": [
    "def func(x, y):  # func = 函数的内存地址\n",
    "    return x + y\n",
    "\n",
    "print(func)  # <function func at 0x0000020C58D904A0>\n",
    "\n",
    "lambda x, y: x + y  # lambda 用于定义匿名函数\n",
    "print(lambda x, y: x + y)  # <function <lambda> at 0x0000020C58F598A0>"
   ]
  },
  {
   "cell_type": "markdown",
   "metadata": {},
   "source": [
    "调用匿名函数"
   ]
  },
  {
   "cell_type": "code",
   "execution_count": 134,
   "metadata": {},
   "outputs": [
    {
     "name": "stdout",
     "output_type": "stream",
     "text": [
      "3\n",
      "30\n"
     ]
    }
   ],
   "source": [
    "# 方式一\n",
    "result = (lambda x, y: x + y)(1, 2)\n",
    "print(result)\n",
    "\n",
    "# 方式二\n",
    "func = lambda x, y: x + y\n",
    "result = func(10, 20)\n",
    "print(result)"
   ]
  },
  {
   "cell_type": "markdown",
   "metadata": {},
   "source": [
    "## 函数的类型提示\n",
    "\n",
    "Python 函数的类型提示是指为函数参数和返回值添加类型注解，用于提供代码的静态类型检查和类型推断。"
   ]
  },
  {
   "cell_type": "markdown",
   "metadata": {},
   "source": [
    "### 函数声明时使用类型注解\n",
    "\n",
    "```python\n",
    "def function_name(arg1: type, arg2: type) -> return_type:\n",
    "    # 函数体\n",
    "    return value\n",
    "```\n",
    "\n",
    "+ `arg1` 和 `arg2` 是函数的参数；\n",
    "+ `type` 是参数的类型注解（其实就是提示，不强制）；\n",
    "+ `return_type` 是函数的返回值类型注解。"
   ]
  },
  {
   "cell_type": "code",
   "execution_count": null,
   "metadata": {},
   "outputs": [],
   "source": [
    "def add_numbers(a: int, b: int) -> int:\n",
    "    return a + b"
   ]
  },
  {
   "cell_type": "markdown",
   "metadata": {},
   "source": [
    "### 使用类型提示模块 `typing`\n",
    "\n",
    "```python\n",
    "from typing import Type\n",
    "\n",
    "def function_name(arg1: Type[type], arg2: Type[type]) -> Type[return_type]:\n",
    "    # 函数体\n",
    "    return value\n",
    "```\n",
    "\n",
    "导入 `typing` 模块，并使用 `Type` 类来表示类型。\n",
    "\n",
    "+ `arg1` 和 `arg2` 是函数的参数；\n",
    "+ `Type[type]` 是参数的类型注解；\n",
    "+ `Type[return_type]` 是函数的返回值类型注解。"
   ]
  },
  {
   "cell_type": "code",
   "execution_count": null,
   "metadata": {},
   "outputs": [],
   "source": [
    "from typing import Type\n",
    "\n",
    "def add_numbers(a: Type[int], b: Type[int]) -> Type[int]:\n",
    "    return a + b"
   ]
  }
 ],
 "metadata": {
  "kernelspec": {
   "display_name": "python-review",
   "language": "python",
   "name": "python3"
  },
  "language_info": {
   "codemirror_mode": {
    "name": "ipython",
    "version": 3
   },
   "file_extension": ".py",
   "mimetype": "text/x-python",
   "name": "python",
   "nbconvert_exporter": "python",
   "pygments_lexer": "ipython3",
   "version": "3.8.20"
  }
 },
 "nbformat": 4,
 "nbformat_minor": 2
}
