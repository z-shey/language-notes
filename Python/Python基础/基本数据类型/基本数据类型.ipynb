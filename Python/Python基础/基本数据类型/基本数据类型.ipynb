{
 "cells": [
  {
   "cell_type": "markdown",
   "metadata": {},
   "source": [
    "Python 的基本数据类型包括整数(`int`)、浮点数(`float`)、布尔值(`bool`)、字符串(`str`)、列表(`list`)、元组(`tuple`)、字典(`dict`)、集合(`set`)等。"
   ]
  },
  {
   "cell_type": "markdown",
   "metadata": {},
   "source": [
    "## 整数\n",
    "\n",
    "用于表示整数（整数是不带小数部分的数字），可以是正数、负数或零。"
   ]
  },
  {
   "cell_type": "code",
   "execution_count": 2,
   "metadata": {},
   "outputs": [
    {
     "name": "stdout",
     "output_type": "stream",
     "text": [
      "<class 'int'> <class 'int'>\n"
     ]
    }
   ],
   "source": [
    "a = 10\n",
    "b = -20\n",
    "print(type(a), type(b))"
   ]
  },
  {
   "cell_type": "markdown",
   "metadata": {},
   "source": [
    "整数可以进行各种算术运算，如加法、减法、乘法和除法等。还可以使用比较运算符进行比较操作，如大于、小于、等于等。"
   ]
  },
  {
   "cell_type": "code",
   "execution_count": 11,
   "metadata": {},
   "outputs": [
    {
     "name": "stdout",
     "output_type": "stream",
     "text": [
      "30\n",
      "-10\n",
      "200\n",
      "0.5\n",
      "False\n",
      "True\n",
      "False\n"
     ]
    }
   ],
   "source": [
    "a = 10\n",
    "b = 20\n",
    "\n",
    "# 加法\n",
    "c = a + b\n",
    "print(c) # 输出: 30\n",
    "\n",
    "# 减法\n",
    "d = a - b\n",
    "print(d) # 输出: -10\n",
    "\n",
    "# 乘法\n",
    "e = a * b\n",
    "print(e) # 输出: 200\n",
    "\n",
    "# 除法\n",
    "f = a / b\n",
    "print(f) # 输出: 0.5\n",
    "\n",
    "# 大于等于\n",
    "print(a >= b) # 输出: False\n",
    "\n",
    "# 小于等于\n",
    "print(a <= b) # 输出: True\n",
    "\n",
    "# 等于\n",
    "print(a == b) # 输出: False"
   ]
  },
  {
   "cell_type": "markdown",
   "metadata": {},
   "source": [
    "## 浮点数\n",
    "\n",
    "用于表示小数（浮点数是带小数部分的数字），可以是正数、负数或零。"
   ]
  },
  {
   "cell_type": "code",
   "execution_count": 10,
   "metadata": {},
   "outputs": [
    {
     "name": "stdout",
     "output_type": "stream",
     "text": [
      "<class 'float'> <class 'float'>\n"
     ]
    }
   ],
   "source": [
    "a = 10.5  \n",
    "b = 20.5  \n",
    "print(type(a), type(b))"
   ]
  },
  {
   "cell_type": "markdown",
   "metadata": {},
   "source": [
    "浮点数也可以进行各种算术运算，同样可以使用比较运算符进行比较操作"
   ]
  },
  {
   "cell_type": "code",
   "execution_count": 12,
   "metadata": {},
   "outputs": [
    {
     "name": "stdout",
     "output_type": "stream",
     "text": [
      "31.0\n",
      "-10.0\n",
      "215.25\n",
      "0.5121951219512195\n",
      "False\n",
      "True\n",
      "False\n"
     ]
    }
   ],
   "source": [
    "a = 10.5\n",
    "b = 20.5\n",
    "\n",
    "# 加法\n",
    "c = a + b\n",
    "print(c) # 输出: 31.0\n",
    "\n",
    "# 减法\n",
    "d = a - b\n",
    "print(d) # 输出: -10.0\n",
    "\n",
    "# 乘法\n",
    "e = a * b\n",
    "print(e) # 输出: 215.25\n",
    "\n",
    "# 除法\n",
    "f = a / b\n",
    "print(f) # 输出: 0.5121951219512195\n",
    "\n",
    "# 大于等于\n",
    "print(a >= b) # 输出: False\n",
    "\n",
    "# 小于等于\n",
    "print(a <= b) # 输出: True\n",
    "\n",
    "# 等于\n",
    "print(a == b) # 输出: False"
   ]
  },
  {
   "cell_type": "markdown",
   "metadata": {},
   "source": [
    "## 布尔值\n",
    "\n",
    "用于表示真或假，只有两个值：`True` 和 `False`。"
   ]
  },
  {
   "cell_type": "code",
   "execution_count": 13,
   "metadata": {},
   "outputs": [
    {
     "name": "stdout",
     "output_type": "stream",
     "text": [
      "<class 'bool'> <class 'bool'>\n"
     ]
    }
   ],
   "source": [
    "a = True\n",
    "b = False\n",
    "print(type(a), type(b))"
   ]
  },
  {
   "cell_type": "markdown",
   "metadata": {},
   "source": [
    "布尔值可以进行逻辑运算，如与、或、非等"
   ]
  },
  {
   "cell_type": "code",
   "execution_count": 14,
   "metadata": {},
   "outputs": [
    {
     "name": "stdout",
     "output_type": "stream",
     "text": [
      "False\n",
      "True\n",
      "False\n"
     ]
    }
   ],
   "source": [
    "a = True\n",
    "b = False\n",
    "\n",
    "# 与运算\n",
    "c = a and b\n",
    "print(c) # 输出: False\n",
    "\n",
    "# 或运算\n",
    "d = a or b\n",
    "print(d) # 输出: True\n",
    "\n",
    "# 非运算\n",
    "e = not a\n",
    "print(e) # 输出: False"
   ]
  },
  {
   "cell_type": "markdown",
   "metadata": {},
   "source": [
    "## 字符串\n",
    "\n",
    "用于表示文本，以 **单引号** 或 **双引号** 括起来，可以是任意字符的序列。"
   ]
  },
  {
   "cell_type": "code",
   "execution_count": 15,
   "metadata": {},
   "outputs": [
    {
     "name": "stdout",
     "output_type": "stream",
     "text": [
      "<class 'str'> <class 'str'>\n"
     ]
    }
   ],
   "source": [
    "a = \"Hello\"  \n",
    "b = 'World'  \n",
    "print(type(a), type(b))"
   ]
  },
  {
   "cell_type": "markdown",
   "metadata": {},
   "source": [
    "字符串可以进行拼接、重复、索引和切片等操作"
   ]
  },
  {
   "cell_type": "code",
   "execution_count": 17,
   "metadata": {},
   "outputs": [
    {
     "name": "stdout",
     "output_type": "stream",
     "text": [
      "HelloWorld\n",
      "HelloHelloHello\n",
      "H\n",
      "d\n",
      "ell\n",
      "Wo\n"
     ]
    }
   ],
   "source": [
    "a = \"Hello\"\n",
    "b = \"World\"\n",
    "\n",
    "# 拼接\n",
    "c = a + b\n",
    "print(c) # 输出: HelloWorld\n",
    "\n",
    "# 重复\n",
    "d = a * 3\n",
    "print(d) # 输出: HelloHelloHello\n",
    "\n",
    "# 索引\n",
    "print(a[0]) # 输出: H\n",
    "print(b[-1]) # 输出: d\n",
    "\n",
    "# 切片\n",
    "print(a[1:4]) # 输出: ell\n",
    "print(b[:2]) # 输出: Wo"
   ]
  },
  {
   "cell_type": "markdown",
   "metadata": {},
   "source": [
    "还可以使用一些字符串方法来处理字符串，如大小写转换、查找、替换等"
   ]
  },
  {
   "cell_type": "code",
   "execution_count": 18,
   "metadata": {},
   "outputs": [
    {
     "name": "stdout",
     "output_type": "stream",
     "text": [
      "HELLO, WORLD!\n",
      "hello, world!\n",
      "7\n",
      "Hi, World!\n"
     ]
    }
   ],
   "source": [
    "a = \"Hello, World!\"\n",
    "\n",
    "# 大写转换\n",
    "print(a.upper()) # 输出: HELLO, WORLD!\n",
    "\n",
    "# 小写转换\n",
    "print(a.lower()) # 输出: hello, world!\n",
    "\n",
    "# 查找\n",
    "print(a.find(\"World\")) # 输出: 7\n",
    "\n",
    "# 替换\n",
    "print(a.replace(\"Hello\", \"Hi\")) # 输出: Hi, World!"
   ]
  },
  {
   "cell_type": "markdown",
   "metadata": {},
   "source": [
    "### 字符串切片\n",
    "\n",
    "Python 字符串切片的语法 `[start:end:step]`\n",
    "\n",
    "+ `start` 表示切片的起始位置（包含），默认为 0。\n",
    "+ `end` 表示切片的结束位置（不包含），默认为字符串的长度。\n",
    "+ `step` 表示切片的步长，默认为 1。"
   ]
  },
  {
   "cell_type": "code",
   "execution_count": 19,
   "metadata": {},
   "outputs": [
    {
     "name": "stdout",
     "output_type": "stream",
     "text": [
      "H\n",
      "!\n",
      "Hello, World!\n",
      "World\n",
      "Hlo ol!\n"
     ]
    }
   ],
   "source": [
    "s = \"Hello, World!\"\n",
    "\n",
    "# 选取单个字符\n",
    "print(s[0])     # 输出: H\n",
    "print(s[-1])    # 输出: !\n",
    "\n",
    "# 切片整个字符串\n",
    "print(s[:])     # 输出: Hello, World!\n",
    "\n",
    "# 切片指定范围\n",
    "print(s[7:12])  # 输出: World\n",
    "\n",
    "# 切片指定步长\n",
    "print(s[::2])   # 输出: Hlo ol!"
   ]
  },
  {
   "cell_type": "markdown",
   "metadata": {},
   "source": [
    "+ 当省略 `start` 和 `end` 参数时，切片会选择整个字符串。\n",
    "+ `start` 和 `end` 参数可以是负数，负数索引表示从字符串的末尾开始计算位置。\n",
    "+ `step` 参数控制切片的步长，**如果为正数，则从左往右取字符；如果为负数，则从右往左取字符**。"
   ]
  },
  {
   "cell_type": "code",
   "execution_count": 20,
   "metadata": {},
   "outputs": [
    {
     "name": "stdout",
     "output_type": "stream",
     "text": [
      "Hello\n",
      "World!\n",
      "!dlroW ,olleH\n"
     ]
    }
   ],
   "source": [
    "s = \"Hello, World!\"\n",
    "\n",
    "# 从开头到指定位置\n",
    "print(s[:5])    # 输出: Hello\n",
    "\n",
    "# 从指定位置到结尾\n",
    "print(s[7:])    # 输出: World!\n",
    "\n",
    "# 逆序切片\n",
    "print(s[::-1])  # 输出: !dlroW ,olleH"
   ]
  },
  {
   "cell_type": "markdown",
   "metadata": {},
   "source": [
    "+ 当省略 `start` 参数时，切片从开头开始。\n",
    "+ 当省略 `end` 参数时，切片一直延伸到字符串的结尾。\n",
    "+ 当 `step` 参数为负数时，可以逆序切片，即反转字符串。"
   ]
  },
  {
   "cell_type": "markdown",
   "metadata": {},
   "source": [
    "### len() 方法\n",
    "\n",
    "获取长度"
   ]
  },
  {
   "cell_type": "code",
   "execution_count": 21,
   "metadata": {},
   "outputs": [
    {
     "name": "stdout",
     "output_type": "stream",
     "text": [
      "11\n"
     ]
    }
   ],
   "source": [
    "str = \"hello world\"\n",
    "\n",
    "print(len(str))  # 输出 11"
   ]
  },
  {
   "cell_type": "markdown",
   "metadata": {},
   "source": [
    "### strip() 方法\n",
    "\n",
    "去除字符串两侧的符号，只去除两边，不去除中间"
   ]
  },
  {
   "cell_type": "code",
   "execution_count": 22,
   "metadata": {},
   "outputs": [
    {
     "name": "stdout",
     "output_type": "stream",
     "text": [
      "    shey    \n",
      "shey\n"
     ]
    }
   ],
   "source": [
    "str = \"    shey    \"  \n",
    "str_1 = str.strip()  \n",
    "print(str)    # 输出    shey    \n",
    "print(str_1)  # 输出 shey"
   ]
  },
  {
   "cell_type": "code",
   "execution_count": 23,
   "metadata": {},
   "outputs": [
    {
     "name": "stdout",
     "output_type": "stream",
     "text": [
      "****shey****\n",
      "shey\n"
     ]
    }
   ],
   "source": [
    "str = \"****shey****\"  \n",
    "str_1 = str.strip(\"*\")  \n",
    "print(str)    # 输出 ****shey****  \n",
    "print(str_1)  # 输出 shey"
   ]
  },
  {
   "cell_type": "markdown",
   "metadata": {},
   "source": [
    "### split() 方法\n",
    "\n",
    "把一个字符按照某种分隔符进行切分，得到一个列表"
   ]
  },
  {
   "cell_type": "code",
   "execution_count": 24,
   "metadata": {},
   "outputs": [
    {
     "name": "stdout",
     "output_type": "stream",
     "text": [
      "['hello,', \"I'm\", 'shey.']\n"
     ]
    }
   ],
   "source": [
    "info = \"hello, I'm shey.\"  \n",
    "info_1 = info.split()  \n",
    "print(info_1)  # 输出 ['hello,', \"I'm\", 'shey.']"
   ]
  },
  {
   "cell_type": "code",
   "execution_count": 25,
   "metadata": {},
   "outputs": [
    {
     "name": "stdout",
     "output_type": "stream",
     "text": [
      "['hello', \"I'm\", 'shey']\n"
     ]
    }
   ],
   "source": [
    "info = \"hello:I'm:shey\"  \n",
    "info_1 = info.split(\":\")  \n",
    "print(info_1)  # 输出 ['hello', \"I'm\", 'shey']"
   ]
  },
  {
   "cell_type": "markdown",
   "metadata": {},
   "source": [
    "[https://docs.python.org/3/library/stdtypes.html#str](https://docs.python.org/3/library/stdtypes.html#str)"
   ]
  },
  {
   "cell_type": "markdown",
   "metadata": {},
   "source": [
    "## 列表(list)\n",
    "\n",
    "用于存储多个值，以 **方括号** `[ ]` 括起来，元素之间用逗号分隔，可以是任意类型的值。"
   ]
  },
  {
   "cell_type": "code",
   "execution_count": 26,
   "metadata": {},
   "outputs": [
    {
     "name": "stdout",
     "output_type": "stream",
     "text": [
      "<class 'list'>\n"
     ]
    }
   ],
   "source": [
    "a = [1, 2, 3, \"four\"]  \n",
    "print(type(a))"
   ]
  },
  {
   "cell_type": "markdown",
   "metadata": {},
   "source": [
    "内置函数 `list()` 用于将可迭代对象（iterable）转换为列表。通过 `list()` 函数可以将字符串、元组、集合、字典等可迭代对象转换为列表。"
   ]
  },
  {
   "cell_type": "code",
   "execution_count": 27,
   "metadata": {},
   "outputs": [
    {
     "name": "stdout",
     "output_type": "stream",
     "text": [
      "['H', 'e', 'l', 'l', 'o']\n"
     ]
    }
   ],
   "source": [
    "# 将字符串转换为列表\n",
    "\n",
    "my_string = \"Hello\"\n",
    "my_list = list(my_string)\n",
    "print(my_list)  # 输出：['H', 'e', 'l', 'l', 'o']"
   ]
  },
  {
   "cell_type": "code",
   "execution_count": 28,
   "metadata": {},
   "outputs": [
    {
     "name": "stdout",
     "output_type": "stream",
     "text": [
      "[1, 2, 3]\n"
     ]
    }
   ],
   "source": [
    "# 将元组转换为列表\n",
    "\n",
    "my_tuple = (1, 2, 3)\n",
    "my_list = list(my_tuple)\n",
    "print(my_list)  # 输出：[1, 2, 3]"
   ]
  },
  {
   "cell_type": "code",
   "execution_count": 29,
   "metadata": {},
   "outputs": [
    {
     "name": "stdout",
     "output_type": "stream",
     "text": [
      "[1, 2, 3]\n"
     ]
    }
   ],
   "source": [
    "# 将集合转换为列表\n",
    "\n",
    "my_set = {1, 2, 3}\n",
    "my_list = list(my_set)\n",
    "print(my_list)  # 输出：[1, 2, 3]"
   ]
  },
  {
   "cell_type": "code",
   "execution_count": 30,
   "metadata": {},
   "outputs": [
    {
     "name": "stdout",
     "output_type": "stream",
     "text": [
      "['a', 'b', 'c']\n"
     ]
    }
   ],
   "source": [
    "# 将字典转换为列表（只转换键）\n",
    "\n",
    "my_dict = {\"a\": 1, \"b\": 2, \"c\": 3}\n",
    "my_list = list(my_dict)\n",
    "print(my_list)  # 输出：['a', 'b', 'c']"
   ]
  },
  {
   "cell_type": "markdown",
   "metadata": {},
   "source": [
    "对于列表，常见的操作包括：\n",
    "\n",
    "+ 访问元素：使用索引访问列表中的元素，索引从 0 开始。例如，`a[0]` 返回列表中的第一个元素。\n",
    "+ 修改元素：可以通过索引来修改列表中的元素。例如，`a[0] = 10` 将列表中的第一个元素修改为 10。\n",
    "+ 切片操作：可以使用切片操作来获取列表的一个子集。例如，`a[1:3]` 返回列表中从第二个元素到第三个元素的子列表。\n",
    "+ 添加元素：可以使用 `append()` 方法向列表末尾添加一个元素，使用 `insert()` 方法在指定位置插入一个元素。"
   ]
  },
  {
   "cell_type": "code",
   "execution_count": 31,
   "metadata": {},
   "outputs": [
    {
     "name": "stdout",
     "output_type": "stream",
     "text": [
      "[1, 2, 3, 'four', 5]\n",
      "[1, 'new', 2, 3, 'four', 5]\n"
     ]
    }
   ],
   "source": [
    "a = [1, 2, 3, \"four\"]\n",
    "a.append(5)\n",
    "print(a) # 输出 [1, 2, 3, 'four', 5]\n",
    "\n",
    "a.insert(1, \"new\")\n",
    "print(a) # 输出 [1, 'new', 2, 3, 'four', 5]"
   ]
  },
  {
   "cell_type": "markdown",
   "metadata": {},
   "source": [
    "+ 删除元素：可以使用 `remove()` 方法删除列表中的一个元素，使用 `pop()` 方法删除指定位置的元素。"
   ]
  },
  {
   "cell_type": "code",
   "execution_count": 32,
   "metadata": {},
   "outputs": [
    {
     "name": "stdout",
     "output_type": "stream",
     "text": [
      "[1, 3, 'four']\n",
      "[1, 3]\n"
     ]
    }
   ],
   "source": [
    "a = [1, 2, 3, \"four\"]\n",
    "\n",
    "a.remove(2)\n",
    "print(a) # 输出 [1, 3, 'four']\n",
    "\n",
    "a.pop(2)\n",
    "print(a) # 输出 [1, 3]"
   ]
  },
  {
   "cell_type": "markdown",
   "metadata": {},
   "source": [
    "+ 遍历列表：可以使用 `for` 循环遍历整个列表"
   ]
  },
  {
   "cell_type": "code",
   "execution_count": 33,
   "metadata": {},
   "outputs": [
    {
     "name": "stdout",
     "output_type": "stream",
     "text": [
      "1\n",
      "2\n",
      "3\n",
      "four\n"
     ]
    }
   ],
   "source": [
    "a = [1, 2, 3, \"four\"]\n",
    "\n",
    "for item in a:\n",
    "    print(item)"
   ]
  },
  {
   "cell_type": "markdown",
   "metadata": {},
   "source": [
    "## 元组(tuple)\n",
    "\n",
    "与列表类似，用于表示一组 **有序** 的元素，但是 **元素不可修改**。"
   ]
  },
  {
   "cell_type": "code",
   "execution_count": 34,
   "metadata": {},
   "outputs": [
    {
     "name": "stdout",
     "output_type": "stream",
     "text": [
      "<class 'tuple'>\n"
     ]
    }
   ],
   "source": [
    "a =(1, 2, 3, \"four\")\n",
    "print(type(a))"
   ]
  },
  {
   "cell_type": "code",
   "execution_count": 36,
   "metadata": {},
   "outputs": [
    {
     "name": "stdout",
     "output_type": "stream",
     "text": [
      "<class 'tuple'>\n"
     ]
    },
    {
     "ename": "TypeError",
     "evalue": "'tuple' object does not support item assignment",
     "output_type": "error",
     "traceback": [
      "\u001b[1;31m---------------------------------------------------------------------------\u001b[0m",
      "\u001b[1;31mTypeError\u001b[0m                                 Traceback (most recent call last)",
      "Cell \u001b[1;32mIn[36], line 4\u001b[0m\n\u001b[0;32m      2\u001b[0m a \u001b[38;5;241m=\u001b[39m(\u001b[38;5;241m1\u001b[39m, \u001b[38;5;241m2\u001b[39m, \u001b[38;5;241m3\u001b[39m, \u001b[38;5;124m\"\u001b[39m\u001b[38;5;124mfour\u001b[39m\u001b[38;5;124m\"\u001b[39m)\n\u001b[0;32m      3\u001b[0m \u001b[38;5;28mprint\u001b[39m(\u001b[38;5;28mtype\u001b[39m(a))\n\u001b[1;32m----> 4\u001b[0m a[\u001b[38;5;241m0\u001b[39m] \u001b[38;5;241m=\u001b[39m \u001b[38;5;241m10\u001b[39m\n",
      "\u001b[1;31mTypeError\u001b[0m: 'tuple' object does not support item assignment"
     ]
    }
   ],
   "source": [
    "# 如果修改元组中的元素，会报错\n",
    "a =(1, 2, 3, \"four\")\n",
    "print(type(a))\n",
    "a[0] = 10"
   ]
  },
  {
   "cell_type": "markdown",
   "metadata": {},
   "source": [
    "内置函数 `tuple()` 用于将 **可迭代对象** （iterable）转换为元组。通过 `tuple()` 函数可以将字符串、列表、集合、字典等可迭代对象转换为元组"
   ]
  },
  {
   "cell_type": "code",
   "execution_count": 35,
   "metadata": {},
   "outputs": [
    {
     "name": "stdout",
     "output_type": "stream",
     "text": [
      "('H', 'e', 'l', 'l', 'o')\n"
     ]
    }
   ],
   "source": [
    "# 将字符串转换为元组\n",
    "\n",
    "my_string = \"Hello\"\n",
    "my_tuple = tuple(my_string)\n",
    "print(my_tuple)  # 输出：('H', 'e', 'l', 'l', 'o')"
   ]
  },
  {
   "cell_type": "code",
   "execution_count": 37,
   "metadata": {},
   "outputs": [
    {
     "name": "stdout",
     "output_type": "stream",
     "text": [
      "(1, 2, 3)\n"
     ]
    }
   ],
   "source": [
    "# 将列表转换为元组\n",
    "my_list = [1, 2, 3]\n",
    "my_tuple = tuple(my_list)\n",
    "print(my_tuple)  # 输出：(1, 2, 3)"
   ]
  },
  {
   "cell_type": "code",
   "execution_count": 38,
   "metadata": {},
   "outputs": [
    {
     "name": "stdout",
     "output_type": "stream",
     "text": [
      "(1, 2, 3)\n"
     ]
    }
   ],
   "source": [
    "# 将集合转换为元组\n",
    "\n",
    "my_set = {1, 2, 3}\n",
    "my_tuple = tuple(my_set)\n",
    "print(my_tuple)  # 输出：(1, 2, 3)"
   ]
  },
  {
   "cell_type": "code",
   "execution_count": 39,
   "metadata": {},
   "outputs": [
    {
     "name": "stdout",
     "output_type": "stream",
     "text": [
      "('a', 'b', 'c')\n"
     ]
    }
   ],
   "source": [
    "# 将字典的键转换为元组\n",
    "\n",
    "my_dict = {\"a\": 1, \"b\": 2, \"c\": 3}\n",
    "my_tuple = tuple(my_dict)\n",
    "print(my_tuple)  # 输出：('a', 'b', 'c')"
   ]
  },
  {
   "cell_type": "markdown",
   "metadata": {},
   "source": [
    "由于元组的元素不可修改，因此只有访问元素和遍历元素两种操作。可以使用索引访问元素，也可以使用 `for` 循环遍历整个元组"
   ]
  },
  {
   "cell_type": "code",
   "execution_count": 40,
   "metadata": {},
   "outputs": [
    {
     "name": "stdout",
     "output_type": "stream",
     "text": [
      "1\n",
      "1\n",
      "2\n",
      "3\n",
      "four\n"
     ]
    }
   ],
   "source": [
    "a =(1, 2, 3, \"four\")\n",
    "\n",
    "print(a[0]) # 输出 1\n",
    "\n",
    "for item in a:\n",
    "    print(item)"
   ]
  },
  {
   "cell_type": "markdown",
   "metadata": {},
   "source": [
    "## 字典(dict)\n",
    "\n",
    "用于表示一组 **键值对**。花括号 `{ }` 表示，键值对之间用逗号 `:` 分隔，键和值之间用冒号分隔。键字典中的键必须是唯一的，必须是不可变类型，通常是字符串、数字或元组。值可以是任意类型。"
   ]
  },
  {
   "cell_type": "code",
   "execution_count": 41,
   "metadata": {},
   "outputs": [
    {
     "name": "stdout",
     "output_type": "stream",
     "text": [
      "<class 'dict'>\n"
     ]
    }
   ],
   "source": [
    "a = {\"name\": \"Alice\", \"age\": 20}\n",
    "print(type(a))"
   ]
  },
  {
   "cell_type": "markdown",
   "metadata": {},
   "source": [
    "内置函数 `dict()` 用于创建一个字典（dictionary）对象。通过 `dict()` 函数可以创建空字典或从包含键值对元素的序列或其他字典中创建字典"
   ]
  },
  {
   "cell_type": "code",
   "execution_count": 42,
   "metadata": {},
   "outputs": [
    {
     "name": "stdout",
     "output_type": "stream",
     "text": [
      "{}\n"
     ]
    }
   ],
   "source": [
    "# 创建空字典\n",
    "my_dict = dict()\n",
    "print(my_dict)  # 输出：{}"
   ]
  },
  {
   "cell_type": "code",
   "execution_count": 43,
   "metadata": {},
   "outputs": [
    {
     "name": "stdout",
     "output_type": "stream",
     "text": [
      "{'apple': 3, 'banana': 2, 'orange': 1}\n"
     ]
    }
   ],
   "source": [
    "# 从列表中创建字典\n",
    "my_list = [(\"apple\", 3), (\"banana\", 2), (\"orange\", 1)]\n",
    "my_dict = dict(my_list)\n",
    "print(my_dict)"
   ]
  },
  {
   "cell_type": "code",
   "execution_count": 44,
   "metadata": {},
   "outputs": [
    {
     "name": "stdout",
     "output_type": "stream",
     "text": [
      "{'apple': 3, 'banana': 2, 'orange': 1}\n"
     ]
    }
   ],
   "source": [
    "# 从元组中创建字典\n",
    "my_tuple = ((\"apple\", 3), (\"banana\", 2), (\"orange\", 1))\n",
    "my_dict = dict(my_tuple)\n",
    "print(my_dict) "
   ]
  },
  {
   "cell_type": "code",
   "execution_count": 45,
   "metadata": {},
   "outputs": [
    {
     "name": "stdout",
     "output_type": "stream",
     "text": [
      "{'apple': 3, 'banana': 2, 'orange': 1}\n"
     ]
    }
   ],
   "source": [
    "# 从字典中创建字典\n",
    "my_dict1 = {\"apple\": 3, \"banana\": 2, \"orange\": 1}\n",
    "my_dict2 = dict(my_dict1)\n",
    "print(my_dict2) "
   ]
  },
  {
   "cell_type": "code",
   "execution_count": 46,
   "metadata": {},
   "outputs": [
    {
     "name": "stdout",
     "output_type": "stream",
     "text": [
      "{'apple': 3, 'banana': 2, 'orange': 1}\n"
     ]
    }
   ],
   "source": [
    "# 将两个列表合并为字典，通过zip函数\n",
    "keys = [\"apple\", \"banana\", \"orange\"]\n",
    "values = [3, 2, 1]\n",
    "my_dict = dict(zip(keys, values))\n",
    "print(my_dict)"
   ]
  },
  {
   "cell_type": "markdown",
   "metadata": {},
   "source": [
    "+ 访问元素：可以使用键来访问字典中的元素。例如，`a[\"name\"]` 返回字典中键为 `\"name\"` 的元素对应的值。\n",
    "+ 修改元素：可以通过键来修改字典中的元素。例如，`a[\"age\"] = 21` 将字典中键为 `\"age\"` 的元素对应的值修改为 21。\n",
    "+ 添加元素：可以使用赋值语句添加一个新的键值对。例如，`a[\"gender\"] = \"female\"` 向字典中添加一个新的键值对。\n",
    "+ 删除元素：可以使用 `del` 关键字删除字典中的一个键值对。例如，`del a[\"age\"]` 删除字典中键为 `\"age\"` 的元素对应的键值对。"
   ]
  },
  {
   "cell_type": "code",
   "execution_count": 47,
   "metadata": {},
   "outputs": [
    {
     "name": "stdout",
     "output_type": "stream",
     "text": [
      "Alice\n",
      "{'name': 'Alice', 'age': 21}\n",
      "{'name': 'Alice', 'age': 21, 'gender': 'female'}\n",
      "{'name': 'Alice', 'gender': 'female'}\n"
     ]
    }
   ],
   "source": [
    "a = {\"name\": \"Alice\", \"age\": 20}\n",
    "\n",
    "print(a[\"name\"]) # 输出 Alice\n",
    "\n",
    "a[\"age\"] = 21\n",
    "print(a) # 输出 {'name': 'Alice', 'age': 21}\n",
    "\n",
    "a[\"gender\"] = \"female\"\n",
    "print(a) # 输出 {'name': 'Alice', 'age': 21, 'gender': 'female'}\n",
    "\n",
    "del a[\"age\"]\n",
    "print(a) # 输出 {'name': 'Alice', 'gender': 'female'}"
   ]
  },
  {
   "cell_type": "markdown",
   "metadata": {},
   "source": [
    "遍历字典：可以使用 `for` 循环遍历整个字典"
   ]
  },
  {
   "cell_type": "code",
   "execution_count": 48,
   "metadata": {},
   "outputs": [
    {
     "name": "stdout",
     "output_type": "stream",
     "text": [
      "name Alice\n",
      "age 20\n"
     ]
    }
   ],
   "source": [
    "a = {\"name\": \"Alice\", \"age\": 20}\n",
    "\n",
    "for key in a:\n",
    "    print(key, a[key])"
   ]
  },
  {
   "cell_type": "markdown",
   "metadata": {},
   "source": [
    "## 集合(set)\n",
    "\n",
    "用于表示一组 **无序**、**不重复** 的元素。花括号 `{ }` 表示，元素之间用逗号 `,` 分隔。集合中的元素必须是不可变类型，通常是数字、字符串或元组。"
   ]
  },
  {
   "cell_type": "code",
   "execution_count": 49,
   "metadata": {},
   "outputs": [
    {
     "name": "stdout",
     "output_type": "stream",
     "text": [
      "<class 'set'>\n"
     ]
    }
   ],
   "source": [
    "a = {1, 2, 3, 4, 5}\n",
    "print(type(a))"
   ]
  },
  {
   "cell_type": "markdown",
   "metadata": {},
   "source": [
    "内置函数 `set()` 用于创建一个集合（set）对象。通过 `set()` 函数可以创建空集合或从包含元素的序列或其他集合中创建集合"
   ]
  },
  {
   "cell_type": "code",
   "execution_count": 50,
   "metadata": {},
   "outputs": [
    {
     "name": "stdout",
     "output_type": "stream",
     "text": [
      "set()\n"
     ]
    }
   ],
   "source": [
    "# 创建空集合\n",
    "\n",
    "my_set = set()\n",
    "print(my_set)"
   ]
  },
  {
   "cell_type": "code",
   "execution_count": 51,
   "metadata": {},
   "outputs": [
    {
     "name": "stdout",
     "output_type": "stream",
     "text": [
      "{1, 2, 3, 4, 5}\n"
     ]
    }
   ],
   "source": [
    "# 从列表中创建集合\n",
    "\n",
    "my_list = [1, 2, 3, 3, 4, 5]\n",
    "my_set = set(my_list)\n",
    "print(my_set)"
   ]
  },
  {
   "cell_type": "code",
   "execution_count": 52,
   "metadata": {},
   "outputs": [
    {
     "name": "stdout",
     "output_type": "stream",
     "text": [
      "{1, 2, 3, 4, 5}\n"
     ]
    }
   ],
   "source": [
    "# 从元组中创建集合\n",
    "\n",
    "my_tuple = (1, 2, 3, 3, 4, 5)\n",
    "my_set = set(my_tuple)\n",
    "print(my_set) "
   ]
  },
  {
   "cell_type": "code",
   "execution_count": 53,
   "metadata": {},
   "outputs": [
    {
     "name": "stdout",
     "output_type": "stream",
     "text": [
      "{'o', 'e', 'l', 'h'}\n"
     ]
    }
   ],
   "source": [
    "# 从字符串中创建集合\n",
    "\n",
    "my_string = \"hello\"\n",
    "my_set = set(my_string)\n",
    "print(my_set)"
   ]
  },
  {
   "cell_type": "markdown",
   "metadata": {},
   "source": [
    "+ 添加元素：可以使用 `add()` 方法向集合中添加一个新元素。\n",
    "+ 删除元素：可以使用 `remove()` 方法删除集合中的一个元素。\n",
    "+ 集合运算：可以使用集合运算符或方法来进行交、并、差等集合运算。\n",
    "+ 遍历集合：可以使用 `for` 循环遍历整个集合。"
   ]
  },
  {
   "cell_type": "code",
   "execution_count": 54,
   "metadata": {},
   "outputs": [
    {
     "name": "stdout",
     "output_type": "stream",
     "text": [
      "{1, 2, 3, 4, 5}\n",
      "{1, 3, 4, 5}\n",
      "{3, 4, 5}\n",
      "{1, 3, 4, 5, 6}\n",
      "{1}\n",
      "1\n",
      "3\n",
      "4\n",
      "5\n"
     ]
    }
   ],
   "source": [
    "a = {1, 2, 3, 4}\n",
    "\n",
    "a.add(5)\n",
    "print(a) # 输出 {1, 2, 3, 4, 5}\n",
    "\n",
    "a.remove(2)\n",
    "print(a) # 输出 {1, 3, 4, 5}\n",
    "\n",
    "b = {3, 4, 5, 6}\n",
    "\n",
    "print(a & b) # 输出 {3, 4, 5}，即 a 和 b 的交集\n",
    "print(a | b) # 输出 {1, 3, 4, 5, 6}，即 a 和 b 的并集\n",
    "print(a - b) # 输出 {1}，即 a 和 b 的差集\n",
    "\n",
    "for item in a:\n",
    "    print(item)"
   ]
  },
  {
   "cell_type": "markdown",
   "metadata": {},
   "source": [
    "## 列表、元组、字典、集合对比"
   ]
  },
  {
   "cell_type": "markdown",
   "metadata": {},
   "source": [
    "| **属性** | **list** | **tuple** | **dict** | **set** |\n",
    "| --- | --- | --- | --- | --- |\n",
    "| **有序性** | 有序 | 有序 | 无序 | 无序 |\n",
    "| **可变性** | 可变 | 不可变 | 可变 | 可变 |\n",
    "| **元素类型** | 不限制 | 不限制 | 键值对 | 不限制 |\n",
    "| **元素重复性** | 允许重复 | 允许重复 | 键不重复 | 不允许重复 |"
   ]
  },
  {
   "cell_type": "markdown",
   "metadata": {},
   "source": [
    "| **数据类型** | **例子** |\n",
    "| --- | --- |\n",
    "| **list** | `[1, 2, 3, \"four\"]` |\n",
    "| **tuple** | `(1, 2, 3, \"four\")` |\n",
    "| **dict** | `{\"name\": \"Alice\", \"age\": 20}` |\n",
    "| **set** | `{1, 2, 3, 4}` |"
   ]
  },
  {
   "cell_type": "markdown",
   "metadata": {},
   "source": [
    "## 附：数据类型的可变与不可变类型\n",
    "\n",
    "+ 可变：值变化，`id` 不变；\n",
    "+ 不可变：值变化，`id` 也变化。\n",
    "\n",
    "`int`、`float`、`str` 在 python 中被设计成了不可分割的整体，不能被改变。布尔（`bool`）类型不可变。\n",
    "\n",
    "列表、字典是可变类型的。"
   ]
  }
 ],
 "metadata": {
  "kernelspec": {
   "display_name": "python-review",
   "language": "python",
   "name": "python3"
  },
  "language_info": {
   "codemirror_mode": {
    "name": "ipython",
    "version": 3
   },
   "file_extension": ".py",
   "mimetype": "text/x-python",
   "name": "python",
   "nbconvert_exporter": "python",
   "pygments_lexer": "ipython3",
   "version": "3.8.20"
  }
 },
 "nbformat": 4,
 "nbformat_minor": 2
}
