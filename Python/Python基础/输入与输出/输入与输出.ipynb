{
 "cells": [
  {
   "cell_type": "markdown",
   "metadata": {},
   "source": [
    "## 输入\n",
    "\n",
    "在 Python 中，可以使用 `input()` 函数从用户那里获取输入。\n",
    "\n",
    "函数会暂停程序的执行，直到用户在控制台中输入了一些内容并按下 Enter 键。`input()` 函数接受一个可选的字符串参数，作为提示信息显示给用户。用户输入的内容被返回为字符串。"
   ]
  },
  {
   "cell_type": "code",
   "execution_count": 1,
   "metadata": {},
   "outputs": [
    {
     "name": "stdout",
     "output_type": "stream",
     "text": [
      "您好，44！\n"
     ]
    }
   ],
   "source": [
    "name = input(\"请输入您的姓名：\")\n",
    "print(\"您好，\" + name + \"！\")"
   ]
  },
  {
   "cell_type": "markdown",
   "metadata": {},
   "source": [
    "## 输出\n",
    "\n",
    "在 Python 中，可以使用 `print()` 函数来输出结果到控制台。`print()` 函数可以接受一个或多个参数，并将它们打印到控制台。默认情况下，`print()` 函数在每个参数之间自动添加一个空格，并在最后打印换行符。"
   ]
  },
  {
   "cell_type": "code",
   "execution_count": 2,
   "metadata": {},
   "outputs": [
    {
     "name": "stdout",
     "output_type": "stream",
     "text": [
      "x 的值是 10 ，y 的值是 20\n"
     ]
    }
   ],
   "source": [
    "x = 10\n",
    "y = 20\n",
    "print(\"x 的值是\", x, \"，y 的值是\", y)"
   ]
  },
  {
   "cell_type": "markdown",
   "metadata": {},
   "source": [
    "可以通过设置 `end` 参数来指定 `print()` 函数的结束字符，默认为换行符。例如，`print(\"Hello\", end=\"!\")` 会在输出后不添加换行符，而是添加感叹号。"
   ]
  },
  {
   "cell_type": "code",
   "execution_count": 3,
   "metadata": {},
   "outputs": [
    {
     "name": "stdout",
     "output_type": "stream",
     "text": [
      "Hello!"
     ]
    }
   ],
   "source": [
    "print(\"Hello\", end=\"!\")"
   ]
  },
  {
   "cell_type": "markdown",
   "metadata": {},
   "source": [
    "## 字符串格式化"
   ]
  },
  {
   "cell_type": "markdown",
   "metadata": {},
   "source": [
    "### 百分号（%）\n",
    "使用 `%` 运算符进行字符串格式化，占位符 `%s`、`%d` 和 `%f` 来表示不同类型的数据，位置一一对应，多一个不行，少一个也不行。\n",
    "\n",
    "+ `%s`：代表字符串类型。\n",
    "+ `%d`：代表整数类型。\n",
    "+ `%f`：代表浮点数类型。可以通过 `.2` 指定保留小数点后两位"
   ]
  },
  {
   "cell_type": "code",
   "execution_count": 4,
   "metadata": {},
   "outputs": [
    {
     "name": "stdout",
     "output_type": "stream",
     "text": [
      "我的名字是 Lucy，年龄是 18 岁，成绩是 95.50 分。\n"
     ]
    }
   ],
   "source": [
    "name = \"Lucy\"\n",
    "age = 18\n",
    "score = 95.5\n",
    "\n",
    "# 格式化字符串\n",
    "print(\"我的名字是 %s，年龄是 %d 岁，成绩是 %.2f 分。\" %(name, age, score))"
   ]
  },
  {
   "cell_type": "markdown",
   "metadata": {},
   "source": [
    "### format () 方法\n",
    "\n",
    "在 Python 2.6 版本之后，Python 提供了一种新的字符串格式化方式—— `str.format()` 方法。"
   ]
  },
  {
   "cell_type": "code",
   "execution_count": 5,
   "metadata": {},
   "outputs": [
    {
     "name": "stdout",
     "output_type": "stream",
     "text": [
      "我的名字是 Lucy，年龄是 18 岁，成绩是 95.50 分。\n"
     ]
    }
   ],
   "source": [
    "name = \"Lucy\"\n",
    "age = 18\n",
    "score = 95.5\n",
    "\n",
    "# 格式化字符串\n",
    "print(\"我的名字是 {}，年龄是 {} 岁，成绩是 {:.2f} 分。\".format(name, age, score))"
   ]
  },
  {
   "cell_type": "markdown",
   "metadata": {},
   "source": [
    "在使用 `str.format()` 进行格式化时，使用 `{}` 来表示占位符，并在其中添加参数。在参数列表中，可以指定参数的顺序，也可以省略序号来使用默认顺序。\n",
    "\n",
    "> 使用 `str.format()` 进行格式化时，可以通过 `{:.2f}` 来指定保留小数点后两位。"
   ]
  },
  {
   "cell_type": "markdown",
   "metadata": {},
   "source": [
    "### f-string\n",
    "\n",
    "在 Python 3.5 版本之后，Python 提供了一种新的字符串格式化方式——f-string。"
   ]
  },
  {
   "cell_type": "code",
   "execution_count": 14,
   "metadata": {},
   "outputs": [
    {
     "name": "stdout",
     "output_type": "stream",
     "text": [
      "我的名字是 Lucy，年龄是 18 岁，成绩是 95.50 分。\n"
     ]
    }
   ],
   "source": [
    "name = \"Lucy\"\n",
    "age = 18\n",
    "score = 95.5\n",
    "\n",
    "# 格式化字符串\n",
    "print(f\"我的名字是 {name}，年龄是 {age} 岁，成绩是 {score:.2f} 分。\")"
   ]
  },
  {
   "cell_type": "markdown",
   "metadata": {},
   "source": [
    "在使用 f-string 进行格式化时，在占位符前加上 `f` 来表示这是一个 f-string，并在花括号中添加表达式。\n",
    "\n",
    "> 使用 f-string 进行格式化时，可以通过 `:.2f` 来指定保留小数点后两位。"
   ]
  }
 ],
 "metadata": {
  "kernelspec": {
   "display_name": "python-review",
   "language": "python",
   "name": "python3"
  },
  "language_info": {
   "codemirror_mode": {
    "name": "ipython",
    "version": 3
   },
   "file_extension": ".py",
   "mimetype": "text/x-python",
   "name": "python",
   "nbconvert_exporter": "python",
   "pygments_lexer": "ipython3",
   "version": "3.8.20"
  }
 },
 "nbformat": 4,
 "nbformat_minor": 2
}
