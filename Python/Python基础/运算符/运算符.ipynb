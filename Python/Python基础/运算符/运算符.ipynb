{
 "cells": [
  {
   "cell_type": "markdown",
   "metadata": {},
   "source": [
    "运算符是一种用于执行各种操作的特殊符号。它们可以用于对数字、字符串、列表等数据类型进行算术、逻辑和比较等操作。"
   ]
  },
  {
   "cell_type": "markdown",
   "metadata": {},
   "source": [
    "## 算术运算符\n",
    "\n",
    "算术运算符用于执行基本的数学运算，包括加法、减法、乘法、除法等。\n",
    "\n",
    "| 运算符 | 描述 | 示例 |\n",
    "| --- | --- | --- |\n",
    "| `+` | 加法 | `2 + 3` 结果为 `5` |\n",
    "| `-` | 减法 | `5 - 3` 结果为 `2` |\n",
    "| `*` | 乘法 | `2 * 3` 结果为 `6` |\n",
    "| `/` | 除法 | `7 / 2` 结果为 `3.5` |\n",
    "| `%` | 取余 | `7 % 2` 结果为 `1` |\n",
    "| `**` | 幂运算 | `2 ** 3` 结果为 `8` |\n",
    "| `//` | 取整除运算 | `7 // 2` 结果为 `3` |"
   ]
  },
  {
   "cell_type": "markdown",
   "metadata": {},
   "source": [
    "## 比较运算符\n",
    "\n",
    "比较运算符用于比较两个值之间的关系，返回布尔值（`True` 或 `False`）。\n",
    "\n",
    "| 运算符 | 描述 | 示例 |\n",
    "| --- | --- | --- |\n",
    "| `==` | 等于 | `2 == 3` 结果为 `False` |\n",
    "| `!=` | 不等于 | `2 != 3` 结果为`True` |\n",
    "| `>` | 大于 | `5 > 3` 结果为 `True` |\n",
    "| `<` | 小于 | `2 < 3` 结果为 `True` |\n",
    "| `>=` | 大于等于 | `5 >= 5` 结果为`True` |\n",
    "| `<=` | 小于等于 | `2 <= 3` 结果为`True` |"
   ]
  },
  {
   "cell_type": "markdown",
   "metadata": {},
   "source": [
    "## 逻辑运算符\n",
    "\n",
    "逻辑运算符用于对布尔值进行逻辑运算，返回布尔值作为结果。\n",
    "\n",
    "| 运算符 | 描述 | 示例 |\n",
    "| --- | --- | --- |\n",
    "| `and` | 逻辑与 | `True and False` 结果为 `False` |\n",
    "| `or` | 逻辑或 | `True or False` 结果为 `True` |\n",
    "| `not` | 逻辑非 | `not True` 结果为 `False` |\n",
    "\n",
    "隐式布尔值：`0`、`None`、空（空字符串、空列表、空字典）代表的布尔值是 `False`，其他是 `True`"
   ]
  },
  {
   "cell_type": "markdown",
   "metadata": {},
   "source": [
    "## 赋值运算符\n",
    "\n",
    "赋值运算符用于给变量赋值，将右边的值赋给左边的变量。\n",
    "\n",
    "| 运算符 | 描述 | 示例 |\n",
    "| --- | --- | --- |\n",
    "| `=` | 简单赋值 | `x = 5` |\n",
    "| `+=` | 加法赋值 | `x += 3`（等同于 `x = x + 3`） |\n",
    "| `-=` | 减法赋值 | `x -= 2`（等同于 `x = x - 2`） |\n",
    "| `*=` | 乘法赋值 | `x *= 2`（等同于 `x = x * 2`） |\n",
    "| `/=` | 除法赋值 | `x /= 3`（等同于 `x = x / 3`） |\n",
    "| `%=` | 取余赋值 | `x %= 2`（等同于 `x = x % 2`） |\n",
    "| `**=` | 幂赋值 | `x **= 3`（等同于 `x = x ** 3`） |\n",
    "| `//=` | 取整除赋值 | `x //= 2`（等同于 `x = x // 2`） |"
   ]
  },
  {
   "cell_type": "markdown",
   "metadata": {},
   "source": [
    "### 增量赋值\n",
    "\n",
    "增量赋值操作符是对变量进行修改并重新赋值的快捷方式。\n",
    "\n",
    "常见的增量赋值操作符包括 `+=`、`-=`、`*=` 等。例如：`x += 5` 相当于 `x = x + 5`，这将把 x 的值增加5。"
   ]
  },
  {
   "cell_type": "code",
   "execution_count": 1,
   "metadata": {},
   "outputs": [
    {
     "name": "stdout",
     "output_type": "stream",
     "text": [
      "15\n"
     ]
    }
   ],
   "source": [
    "x = 10\n",
    "x += 5\n",
    "print(x)"
   ]
  },
  {
   "cell_type": "markdown",
   "metadata": {},
   "source": [
    "### 链式赋值\n",
    "\n",
    "链式赋值允许同时给多个变量赋值相同的值。"
   ]
  },
  {
   "cell_type": "code",
   "execution_count": 2,
   "metadata": {},
   "outputs": [
    {
     "name": "stdout",
     "output_type": "stream",
     "text": [
      "0 0 0\n"
     ]
    }
   ],
   "source": [
    "x = y = z = 0\n",
    "print(x, y, z)  "
   ]
  },
  {
   "cell_type": "markdown",
   "metadata": {},
   "source": [
    "### 交叉赋值\n",
    "\n",
    "交叉赋值是一种同时交换两个或多个变量值的方法。它使用了一个临时变量来实现变量值的交换。\n",
    "\n",
    "例如：`x, y = y, x`，这将交换变量 x 和 y 的值。"
   ]
  },
  {
   "cell_type": "code",
   "execution_count": 3,
   "metadata": {},
   "outputs": [
    {
     "name": "stdout",
     "output_type": "stream",
     "text": [
      "20 10\n"
     ]
    }
   ],
   "source": [
    "x = 10\n",
    "y = 20\n",
    "x, y = y, x\n",
    "print(x, y)  "
   ]
  },
  {
   "cell_type": "markdown",
   "metadata": {},
   "source": [
    "### 解压赋值\n",
    "\n",
    "解压赋值是一种将序列（如列表或元组）的值解压并分配给多个变量的方法。可以用于同时将多个变量赋值为序列中的各个元素。变量名少一个是不行的，多一个也不行，必须和序列的值项匹配\n",
    "\n",
    "例如：`a, b, c = [1, 2, 3]`，这将把列表中的值分别赋给变量 a、b 和 c。"
   ]
  },
  {
   "cell_type": "code",
   "execution_count": 4,
   "metadata": {},
   "outputs": [
    {
     "name": "stdout",
     "output_type": "stream",
     "text": [
      "1 2 3\n"
     ]
    }
   ],
   "source": [
    "a, b, c = [1, 2, 3]\n",
    "print(a, b, c) "
   ]
  },
  {
   "cell_type": "markdown",
   "metadata": {},
   "source": [
    "使用 `*` 来将没有对应的值存成列表，通常用于取两端的数值"
   ]
  },
  {
   "cell_type": "code",
   "execution_count": 6,
   "metadata": {},
   "outputs": [
    {
     "name": "stdout",
     "output_type": "stream",
     "text": [
      "1 2 3\n",
      "[4, 5, 6]\n"
     ]
    }
   ],
   "source": [
    "# 取前面几个\n",
    "\n",
    "a, b, c, *_ = [1, 2, 3, 4, 5, 6]\n",
    "print(a, b, c)    # 输出：1 2 3\n",
    "print(_)          # 输出：[4, 5, 6]"
   ]
  },
  {
   "cell_type": "code",
   "execution_count": 7,
   "metadata": {},
   "outputs": [
    {
     "name": "stdout",
     "output_type": "stream",
     "text": [
      "4 5 6\n",
      "[1, 2, 3]\n"
     ]
    }
   ],
   "source": [
    "# 取后面几个\n",
    "\n",
    "*_, a, b, c = [1, 2, 3, 4, 5, 6]\n",
    "print(a, b, c)    # 输出：4 5 6\n",
    "print(_)          # 输出：[1, 2, 3]"
   ]
  },
  {
   "cell_type": "markdown",
   "metadata": {},
   "source": [
    "## 位运算符\n",
    "\n",
    "位运算符用于对二进制数进行位操作，包括按位与、按位或等。位运算符可以对二进制数的每一位进行操作，可用于某些特殊的编程需求。\n",
    "\n",
    "| 运算符 | 描述 | 示例 |\n",
    "| --- | --- | --- |\n",
    "| `&` | 按位与 | `5 & 3` 结果为 `1` |\n",
    "| `|` | 按位或 | `5 | 3` 结果为 `7` |\n",
    "| `^` | 按位异或 | `5 ^ 3` 结果为 `6` |\n",
    "| `~` | 按位取反 | `~5` 结果为 `-6` |\n",
    "| `<<` | 左移 | `5 << 2` 结果为 `20` |\n",
    "| `>>` | 右移 | `5 >> 2` 结果为 `1` |"
   ]
  },
  {
   "cell_type": "markdown",
   "metadata": {},
   "source": [
    "## 成员运算符\n",
    "\n",
    "成员运算符用于判断一个值是否属于某个集合，返回布尔值作为结果。成员运算符可以快速判断一个值是否在某个集合中，方便进行条件判断和数据筛选。\n",
    "\n",
    "| 运算符 | 描述 | 示例 |\n",
    "| --- | --- | --- |\n",
    "| `in` | 属于 | `2 in [1, 2, 3]` 结果为 `True` |\n",
    "| `not in` | 不属于 | `5 not in [1, 2, 3]` 结果为 `True` |"
   ]
  },
  {
   "cell_type": "markdown",
   "metadata": {},
   "source": [
    "## 身份运算符\n",
    "\n",
    "身份运算符用于判断两个对象是否引用同一个内存地址，返回布尔值作为结果。身份运算符可以快速判断两个对象是否是同一个对象，方便进行对象比较和数据筛选。\n",
    "\n",
    "| 运算符 | 描述 | 示例 |\n",
    "| --- | --- | --- |\n",
    "| `is` | 是同一个 | `x is y` 结果为 `True` |\n",
    "| `is not` | 不是同一个 | `x is not y` 结果为 `False` |"
   ]
  },
  {
   "cell_type": "markdown",
   "metadata": {},
   "source": [
    "## `==` 与 `is` 运算符\n",
    "\n",
    "`==` 运算符用于比较两个对象的值是否相等，而 `is` 运算符用于判断两个对象是否引用同一个内存地址。\n",
    "\n",
    "+ `==` 运算符比较的是两个对象的值是否相等。它会比较对象的内容，而不关心对象的身份。\n",
    "+ `is` 运算符比较的是两个对象的身份是否相同，即它们是否引用同一个内存地址。"
   ]
  },
  {
   "cell_type": "code",
   "execution_count": 8,
   "metadata": {},
   "outputs": [
    {
     "name": "stdout",
     "output_type": "stream",
     "text": [
      "True\n",
      "False\n"
     ]
    }
   ],
   "source": [
    "x = [1, 2, 3]\n",
    "y = [1, 2, 3]\n",
    "\n",
    "print(x == y)  # 输出 True，因为 x 和 y 的值相等\n",
    "\n",
    "print(x is y)  # 输出 False，因为 x 和 y 引用的是不同的内存地址"
   ]
  },
  {
   "cell_type": "markdown",
   "metadata": {},
   "source": [
    "## 运算符优先级\n",
    "\n",
    "略"
   ]
  }
 ],
 "metadata": {
  "kernelspec": {
   "display_name": "python-review",
   "language": "python",
   "name": "python3"
  },
  "language_info": {
   "codemirror_mode": {
    "name": "ipython",
    "version": 3
   },
   "file_extension": ".py",
   "mimetype": "text/x-python",
   "name": "python",
   "nbconvert_exporter": "python",
   "pygments_lexer": "ipython3",
   "version": "3.8.20"
  }
 },
 "nbformat": 4,
 "nbformat_minor": 2
}
