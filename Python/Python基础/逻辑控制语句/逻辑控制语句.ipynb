{
 "cells": [
  {
   "cell_type": "markdown",
   "metadata": {},
   "source": [
    "## 条件语句\n",
    "\n",
    "条件语句是一种程序控制结构，用于根据不同的条件执行不同的代码块。在 Python 中，常见的条件语句有 `if`、`elif` 和 `else`。条件语句使程序能够根据不同的条件执行相应的操作。它可以使程序更加灵活和智能化，根据不同的情况做出不同的决策或处理。"
   ]
  },
  {
   "cell_type": "markdown",
   "metadata": {},
   "source": [
    "### if\n",
    "\n",
    "Python 中的 `if` 语句用于判断一个条件是否成立，如果成立则执行对应的代码块。\n",
    "\n",
    "```python\n",
    "if condition:\n",
    "    # 如果 condition 成立，则执行这里的代码块\n",
    "```\n",
    "\n",
    "`condition` 是一个条件表达式，可以是变量、常量或复杂的表达式。如果 `condition` 成立（即返回 True），则执行与其对应的代码块。"
   ]
  },
  {
   "cell_type": "markdown",
   "metadata": {},
   "source": [
    "### if-else\n",
    "\n",
    "`if-else` 语句用于在条件成立和不成立时分别执行不同的代码块。\n",
    "\n",
    "```python\n",
    "if condition:\n",
    "    # 如果 condition 成立，则执行这里的代码块\n",
    "else:\n",
    "    # 如果 condition 不成立，则执行这里的代码块\n",
    "```\n",
    "\n",
    "`condition` 是一个条件表达式，可以是变量、常量或复杂的表达式。如果 `condition` 成立，则执行与其对应的代码块；否则，执行 `else` 语句后面的代码块。"
   ]
  },
  {
   "cell_type": "markdown",
   "metadata": {},
   "source": [
    "### if-elif-else\n",
    "\n",
    "`if-elif-else` 语句用于在多个条件成立和不成立时分别执行不同的代码块。\n",
    "\n",
    "```python\n",
    "if condition_1:\n",
    "    # 如果 condition_1 成立，则执行这里的代码块\n",
    "elif condition_2:\n",
    "    # 如果 condition_1 不成立，但 condition_2 成立，则执行这里的代码块\n",
    "else:\n",
    "    # 如果 condition_1 和 condition_2 都不成立，则执行这里的代码块\n",
    "```"
   ]
  },
  {
   "cell_type": "markdown",
   "metadata": {},
   "source": [
    "## 循环语句\n",
    "\n",
    "循环语句是一种程序控制结构，用于重复执行特定的代码块。在 Python 中，常见的循环语句有 `while` 和 `for`。循环语句使程序能够重复执行某些操作，节省了编写大量重复代码的时间和精力。通过循环，可以让程序自动地进行迭代、遍历和处理数据，提高了代码的效率和灵活性。"
   ]
  },
  {
   "cell_type": "markdown",
   "metadata": {},
   "source": [
    "### while 循环\n",
    "\n",
    "`while` 循环用于在条件成立时重复执行一段代码块。\n",
    "\n",
    "```python\n",
    "while condition:\n",
    "    # 当 condition 成立时，重复执行这里的代码块\n",
    "```\n",
    "\n",
    "`condition` 是一个条件表达式，可以是变量、常量或复杂的表达式。只要 `condition` 成立（即返回 True），就会重复执行 `while` 循环中的代码块。每次执行完代码块后，会再次判断 `condition` 是否成立，如果成立则继续循环，直到 `condition` 不成立为止。\n",
    "\n",
    "在 `while` 循环中，需要确保循环条件最终会变为 `False`，否则会导致无限循环，造成程序的死循环。"
   ]
  },
  {
   "cell_type": "code",
   "execution_count": 1,
   "metadata": {},
   "outputs": [
    {
     "name": "stdout",
     "output_type": "stream",
     "text": [
      "当前计数： 0\n",
      "当前计数： 1\n",
      "当前计数： 2\n",
      "当前计数： 3\n",
      "当前计数： 4\n",
      "循环结束\n"
     ]
    }
   ],
   "source": [
    "count = 0\n",
    "\n",
    "while count < 5:\n",
    "    print(\"当前计数：\", count)\n",
    "    count += 1\n",
    "\n",
    "print(\"循环结束\")"
   ]
  },
  {
   "cell_type": "markdown",
   "metadata": {},
   "source": [
    "#### While 循环 + else 子句\n",
    "\n",
    "`while` 循环可以和 `else` 子句一起使用。\n",
    "\n",
    "`else` 子句会在循环正常结束时执行，即当循环条件变为 `False` 时执行，但如果循环被 `break` 终止，则不执行 `else` 子句。"
   ]
  },
  {
   "cell_type": "code",
   "execution_count": 2,
   "metadata": {},
   "outputs": [
    {
     "name": "stdout",
     "output_type": "stream",
     "text": [
      "Count: 0\n",
      "Count: 1\n",
      "Count: 2\n",
      "Count: 3\n",
      "Count: 4\n",
      "Loop finished\n"
     ]
    }
   ],
   "source": [
    "count = 0\n",
    "\n",
    "while count < 5:\n",
    "    print(f\"Count: {count}\")\n",
    "    count += 1\n",
    "else:\n",
    "    print(\"Loop finished\")"
   ]
  },
  {
   "cell_type": "markdown",
   "metadata": {},
   "source": [
    "如果在循环过程中使用了 `break` 语句终止循环，`else` 子句就不会执行。"
   ]
  },
  {
   "cell_type": "code",
   "execution_count": 3,
   "metadata": {},
   "outputs": [
    {
     "name": "stdout",
     "output_type": "stream",
     "text": [
      "Count: 0\n",
      "Count: 1\n",
      "Count: 2\n",
      "Count: 3\n"
     ]
    }
   ],
   "source": [
    "count = 0\n",
    "\n",
    "while count < 5:\n",
    "    print(f\"Count: {count}\")\n",
    "    if count == 3:\n",
    "        break\n",
    "    count += 1\n",
    "else:\n",
    "    print(\"Loop finished\")"
   ]
  },
  {
   "cell_type": "markdown",
   "metadata": {},
   "source": [
    "### for 循环\n",
    "\n",
    "`for` 循环用于遍历序列（列表、元组、字符串等）中的每个元素，并执行相应的操作。\n",
    "\n",
    "```python\n",
    "for element in sequence:\n",
    "    # 遍历 sequence 中的每个元素，执行这里的代码块\n",
    "```\n",
    "\n",
    "`sequence` 是一个序列，可以是列表、元组、字符串等；`element` 是序列中的每个元素，可以是变量或常量。 `for` 循环会依次遍历 `sequence` 中的每个元素，每次遍历将当前元素赋值给 `element`，然后执行与其对应的代码块。当序列中的所有元素都被遍历完毕后，`for` 循环结束。"
   ]
  },
  {
   "cell_type": "code",
   "execution_count": 4,
   "metadata": {},
   "outputs": [
    {
     "name": "stdout",
     "output_type": "stream",
     "text": [
      "apple\n",
      "banana\n",
      "cherry\n",
      "循环结束\n"
     ]
    }
   ],
   "source": [
    "fruits = [\"apple\", \"banana\", \"cherry\"]\n",
    "\n",
    "for fruit in fruits:\n",
    "    print(fruit)\n",
    "\n",
    "print(\"循环结束\")"
   ]
  },
  {
   "cell_type": "markdown",
   "metadata": {},
   "source": [
    "#### range\n",
    "\n",
    "`range()` 是一个内置函数，用于生成一个整数序列。"
   ]
  },
  {
   "cell_type": "markdown",
   "metadata": {},
   "source": [
    "##### range (stop)\n",
    "\n",
    "`range(stop)` 返回从 0 开始到 `stop - 1` 的整数序列。"
   ]
  },
  {
   "cell_type": "code",
   "execution_count": 5,
   "metadata": {},
   "outputs": [
    {
     "name": "stdout",
     "output_type": "stream",
     "text": [
      "0\n",
      "1\n",
      "2\n",
      "3\n",
      "4\n"
     ]
    }
   ],
   "source": [
    "for i in range(5):\n",
    "    print(i)"
   ]
  },
  {
   "cell_type": "markdown",
   "metadata": {},
   "source": [
    "##### range (start, stop)\n",
    "\n",
    "`range(start, stop)` 返回从 `start` 开始到 `stop - 1` 的整数序列。"
   ]
  },
  {
   "cell_type": "code",
   "execution_count": 6,
   "metadata": {},
   "outputs": [
    {
     "name": "stdout",
     "output_type": "stream",
     "text": [
      "2\n",
      "3\n",
      "4\n",
      "5\n",
      "6\n"
     ]
    }
   ],
   "source": [
    "for i in range(2, 7):\n",
    "    print(i)"
   ]
  },
  {
   "cell_type": "markdown",
   "metadata": {},
   "source": [
    "##### range (start, stop, step)\n",
    "\n",
    "`range(start, stop, step)` 返回从 `start` 开始到 `stop - 1` 的整数序列，步长为 `step`。"
   ]
  },
  {
   "cell_type": "code",
   "execution_count": 7,
   "metadata": {},
   "outputs": [
    {
     "name": "stdout",
     "output_type": "stream",
     "text": [
      "0\n",
      "2\n",
      "4\n",
      "6\n",
      "8\n"
     ]
    }
   ],
   "source": [
    "for i in range(0, 10, 2):\n",
    "    print(i)"
   ]
  },
  {
   "cell_type": "markdown",
   "metadata": {},
   "source": [
    "`range()` 函数返回的是一个可迭代对象，而不是一个列表。"
   ]
  },
  {
   "cell_type": "code",
   "execution_count": 8,
   "metadata": {},
   "outputs": [
    {
     "name": "stdout",
     "output_type": "stream",
     "text": [
      "[0, 1, 2, 3, 4]\n"
     ]
    }
   ],
   "source": [
    "lst = list(range(5))\n",
    "print(lst)"
   ]
  },
  {
   "cell_type": "markdown",
   "metadata": {},
   "source": [
    "如果需要生成一个逆序的整数序列，可以使用 `range()` 函数的负步长："
   ]
  },
  {
   "cell_type": "code",
   "execution_count": 9,
   "metadata": {},
   "outputs": [
    {
     "name": "stdout",
     "output_type": "stream",
     "text": [
      "10\n",
      "8\n",
      "6\n",
      "4\n",
      "2\n"
     ]
    }
   ],
   "source": [
    "for i in range(10, 0, -2):\n",
    "    print(i)"
   ]
  },
  {
   "cell_type": "markdown",
   "metadata": {},
   "source": [
    "## break\n",
    "\n",
    "`break` 语句用于跳出循环语句，即在循环过程中某个条件满足时退出循环。当 break 语句执行后，循环语句不会继续执行，而是直接跳出整个循环。\n",
    "\n",
    "`break` 语句通常放在条件语句中，当满足某个条件时跳出循环。"
   ]
  },
  {
   "cell_type": "code",
   "execution_count": 10,
   "metadata": {},
   "outputs": [
    {
     "name": "stdout",
     "output_type": "stream",
     "text": [
      "1\n",
      "2\n",
      "3\n",
      "4\n"
     ]
    }
   ],
   "source": [
    "for i in range(1, 11):\n",
    "    if i == 5:\n",
    "        break\n",
    "    print(i)"
   ]
  },
  {
   "cell_type": "markdown",
   "metadata": {},
   "source": [
    "## continue\n",
    "\n",
    "`continue` 语句用于跳过本次循环，即在循环过程中某个条件满足时跳过本次循环，继续执行下一次循环。\n",
    "\n",
    "`continue` 语句通常放在条件语句中，当满足某个条件时跳过本次循环。"
   ]
  },
  {
   "cell_type": "code",
   "execution_count": 11,
   "metadata": {},
   "outputs": [
    {
     "name": "stdout",
     "output_type": "stream",
     "text": [
      "1\n",
      "2\n",
      "3\n",
      "4\n",
      "6\n",
      "7\n",
      "8\n",
      "9\n",
      "10\n"
     ]
    }
   ],
   "source": [
    "for i in range(1, 11):\n",
    "    if i == 5:\n",
    "        continue\n",
    "    print(i)"
   ]
  }
 ],
 "metadata": {
  "kernelspec": {
   "display_name": "python-review",
   "language": "python",
   "name": "python3"
  },
  "language_info": {
   "codemirror_mode": {
    "name": "ipython",
    "version": 3
   },
   "file_extension": ".py",
   "mimetype": "text/x-python",
   "name": "python",
   "nbconvert_exporter": "python",
   "pygments_lexer": "ipython3",
   "version": "3.8.20"
  }
 },
 "nbformat": 4,
 "nbformat_minor": 2
}
